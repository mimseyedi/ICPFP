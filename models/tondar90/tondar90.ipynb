{
 "cells": [
  {
   "cell_type": "markdown",
   "id": "3eebbbf6",
   "metadata": {},
   "source": [
    "# Pre-processing data and create model for Tondar90"
   ]
  },
  {
   "cell_type": "markdown",
   "id": "57640fb7",
   "metadata": {},
   "source": [
    "## Importing packages"
   ]
  },
  {
   "cell_type": "code",
   "execution_count": 1,
   "id": "9919dbd4",
   "metadata": {},
   "outputs": [],
   "source": [
    "import os\n",
    "import pandas as pd\n",
    "import warnings\n",
    "warnings.filterwarnings('ignore')"
   ]
  },
  {
   "cell_type": "markdown",
   "id": "06633288",
   "metadata": {},
   "source": [
    "## Reading dataset"
   ]
  },
  {
   "cell_type": "code",
   "execution_count": 2,
   "id": "2bbf7abd",
   "metadata": {},
   "outputs": [],
   "source": [
    "tondar = pd.read_csv(f\"{'/'.join(os.getcwd().split('/')[:-2])}/datasets/tondar90.csv\")"
   ]
  },
  {
   "cell_type": "code",
   "execution_count": 3,
   "id": "39c7aa20",
   "metadata": {},
   "outputs": [
    {
     "data": {
      "text/html": [
       "<div>\n",
       "<style scoped>\n",
       "    .dataframe tbody tr th:only-of-type {\n",
       "        vertical-align: middle;\n",
       "    }\n",
       "\n",
       "    .dataframe tbody tr th {\n",
       "        vertical-align: top;\n",
       "    }\n",
       "\n",
       "    .dataframe thead th {\n",
       "        text-align: right;\n",
       "    }\n",
       "</style>\n",
       "<table border=\"1\" class=\"dataframe\">\n",
       "  <thead>\n",
       "    <tr style=\"text-align: right;\">\n",
       "      <th></th>\n",
       "      <th>0</th>\n",
       "      <th>1</th>\n",
       "      <th>2</th>\n",
       "      <th>3</th>\n",
       "      <th>4</th>\n",
       "      <th>5</th>\n",
       "      <th>6</th>\n",
       "    </tr>\n",
       "  </thead>\n",
       "  <tbody>\n",
       "    <tr>\n",
       "      <th>0</th>\n",
       "      <td>رنو،</td>\n",
       "      <td>1396</td>\n",
       "      <td>اتوماتیک-تندر</td>\n",
       "      <td>145,000 کیلومتر</td>\n",
       "      <td>اتوماتیک</td>\n",
       "      <td>سفید</td>\n",
       "      <td>600,000,000</td>\n",
       "    </tr>\n",
       "    <tr>\n",
       "      <th>1</th>\n",
       "      <td>رنو،</td>\n",
       "      <td>1396</td>\n",
       "      <td>E2-تندر</td>\n",
       "      <td>77,000 کیلومتر</td>\n",
       "      <td>دنده ای</td>\n",
       "      <td>سفید</td>\n",
       "      <td>530,000,000</td>\n",
       "    </tr>\n",
       "    <tr>\n",
       "      <th>2</th>\n",
       "      <td>رنو،</td>\n",
       "      <td>1396</td>\n",
       "      <td>E2-تندر</td>\n",
       "      <td>240,000 کیلومتر</td>\n",
       "      <td>دنده ای</td>\n",
       "      <td>مشکی</td>\n",
       "      <td>440,000,000</td>\n",
       "    </tr>\n",
       "    <tr>\n",
       "      <th>3</th>\n",
       "      <td>رنو،</td>\n",
       "      <td>1395</td>\n",
       "      <td>اتوماتیک-تندر</td>\n",
       "      <td>102,000 کیلومتر</td>\n",
       "      <td>اتوماتیک</td>\n",
       "      <td>سفید</td>\n",
       "      <td>570,000,000</td>\n",
       "    </tr>\n",
       "    <tr>\n",
       "      <th>4</th>\n",
       "      <td>رنو،</td>\n",
       "      <td>1396</td>\n",
       "      <td>پلاس اتوماتیک-تندر</td>\n",
       "      <td>80,800 کیلومتر</td>\n",
       "      <td>اتوماتیک</td>\n",
       "      <td>سفید</td>\n",
       "      <td>737,000,000</td>\n",
       "    </tr>\n",
       "    <tr>\n",
       "      <th>...</th>\n",
       "      <td>...</td>\n",
       "      <td>...</td>\n",
       "      <td>...</td>\n",
       "      <td>...</td>\n",
       "      <td>...</td>\n",
       "      <td>...</td>\n",
       "      <td>...</td>\n",
       "    </tr>\n",
       "    <tr>\n",
       "      <th>135</th>\n",
       "      <td>رنو،</td>\n",
       "      <td>1396</td>\n",
       "      <td>E2-تندر</td>\n",
       "      <td>84,000 کیلومتر</td>\n",
       "      <td>دنده ای</td>\n",
       "      <td>مشکی</td>\n",
       "      <td>480,000,000</td>\n",
       "    </tr>\n",
       "    <tr>\n",
       "      <th>136</th>\n",
       "      <td>رنو،</td>\n",
       "      <td>1397</td>\n",
       "      <td>E2-تندر</td>\n",
       "      <td>47,000 کیلومتر</td>\n",
       "      <td>دنده ای</td>\n",
       "      <td>سفید</td>\n",
       "      <td>610,000,000</td>\n",
       "    </tr>\n",
       "    <tr>\n",
       "      <th>137</th>\n",
       "      <td>رنو،</td>\n",
       "      <td>1396</td>\n",
       "      <td>E2-تندر</td>\n",
       "      <td>160,000 کیلومتر</td>\n",
       "      <td>دنده ای</td>\n",
       "      <td>سفید</td>\n",
       "      <td>430,000,000</td>\n",
       "    </tr>\n",
       "    <tr>\n",
       "      <th>138</th>\n",
       "      <td>رنو،</td>\n",
       "      <td>1394</td>\n",
       "      <td>E2-تندر</td>\n",
       "      <td>200,000 کیلومتر</td>\n",
       "      <td>دنده ای</td>\n",
       "      <td>نقره ای</td>\n",
       "      <td>430,000,000</td>\n",
       "    </tr>\n",
       "    <tr>\n",
       "      <th>139</th>\n",
       "      <td>رنو،</td>\n",
       "      <td>1396</td>\n",
       "      <td>پلاس اتوماتیک-تندر</td>\n",
       "      <td>60,000 کیلومتر</td>\n",
       "      <td>اتوماتیک</td>\n",
       "      <td>سفید</td>\n",
       "      <td>475,000,000</td>\n",
       "    </tr>\n",
       "  </tbody>\n",
       "</table>\n",
       "<p>140 rows × 7 columns</p>\n",
       "</div>"
      ],
      "text/plain": [
       "        0     1                   2                3         4        5  \\\n",
       "0    رنو،  1396       اتوماتیک-تندر  145,000 کیلومتر  اتوماتیک     سفید   \n",
       "1    رنو،  1396             E2-تندر   77,000 کیلومتر   دنده ای     سفید   \n",
       "2    رنو،  1396             E2-تندر  240,000 کیلومتر   دنده ای     مشکی   \n",
       "3    رنو،  1395       اتوماتیک-تندر  102,000 کیلومتر  اتوماتیک     سفید   \n",
       "4    رنو،  1396  پلاس اتوماتیک-تندر   80,800 کیلومتر  اتوماتیک     سفید   \n",
       "..    ...   ...                 ...              ...       ...      ...   \n",
       "135  رنو،  1396             E2-تندر   84,000 کیلومتر   دنده ای     مشکی   \n",
       "136  رنو،  1397             E2-تندر   47,000 کیلومتر   دنده ای     سفید   \n",
       "137  رنو،  1396             E2-تندر  160,000 کیلومتر   دنده ای     سفید   \n",
       "138  رنو،  1394             E2-تندر  200,000 کیلومتر   دنده ای  نقره ای   \n",
       "139  رنو،  1396  پلاس اتوماتیک-تندر   60,000 کیلومتر  اتوماتیک     سفید   \n",
       "\n",
       "               6  \n",
       "0    600,000,000  \n",
       "1    530,000,000  \n",
       "2    440,000,000  \n",
       "3    570,000,000  \n",
       "4    737,000,000  \n",
       "..           ...  \n",
       "135  480,000,000  \n",
       "136  610,000,000  \n",
       "137  430,000,000  \n",
       "138  430,000,000  \n",
       "139  475,000,000  \n",
       "\n",
       "[140 rows x 7 columns]"
      ]
     },
     "execution_count": 3,
     "metadata": {},
     "output_type": "execute_result"
    }
   ],
   "source": [
    "tondar"
   ]
  },
  {
   "cell_type": "markdown",
   "id": "238e8e60",
   "metadata": {},
   "source": [
    "## Change columns name"
   ]
  },
  {
   "cell_type": "code",
   "execution_count": 4,
   "id": "951537b7",
   "metadata": {},
   "outputs": [],
   "source": [
    "def edit_cols_name(df):\n",
    "    df.rename(columns={'0': 'نام خودرو'}, inplace=True)\n",
    "    df.rename(columns={'1': 'سال تولید'}, inplace=True)\n",
    "    df.rename(columns={'2': 'مدل'}, inplace=True)\n",
    "    df.rename(columns={'3': 'کارکرد'}, inplace=True)\n",
    "    df.rename(columns={'4': 'گیربکس'}, inplace=True)\n",
    "    df.rename(columns={'5': 'رنگ'}, inplace=True)\n",
    "    df.rename(columns={'6': 'قیمت'}, inplace=True)\n",
    "    \n",
    "edit_cols_name(tondar)"
   ]
  },
  {
   "cell_type": "markdown",
   "id": "a7fe1a52",
   "metadata": {},
   "source": [
    "## Convert km to standard mode"
   ]
  },
  {
   "cell_type": "code",
   "execution_count": 5,
   "id": "9df9ad4f",
   "metadata": {},
   "outputs": [],
   "source": [
    "def fix_km(df):\n",
    "    for index in range(len(df['کارکرد'])):\n",
    "        if df['کارکرد'][index].strip() == 'کارکرد صفر':\n",
    "            df['کارکرد'][index] = 0\n",
    "        elif 'کیلومتر' in df['کارکرد'][index]:\n",
    "            df['کارکرد'][index] = int(df['کارکرد'][index].split()[0].replace(',', ''))\n",
    "                   \n",
    "fix_km(tondar)"
   ]
  },
  {
   "cell_type": "markdown",
   "id": "a83e082d",
   "metadata": {},
   "source": [
    "## Convert price to standard mode"
   ]
  },
  {
   "cell_type": "code",
   "execution_count": 6,
   "id": "354f20e3",
   "metadata": {},
   "outputs": [],
   "source": [
    "for i in range(len(tondar)):\n",
    "    tondar['قیمت'][i] = tondar['قیمت'][i].replace(',', '')\n",
    "    tondar['قیمت'][i] = int(tondar['قیمت'][i])"
   ]
  },
  {
   "cell_type": "markdown",
   "id": "c2313393",
   "metadata": {},
   "source": [
    "## Check different car models and organize them"
   ]
  },
  {
   "cell_type": "code",
   "execution_count": 7,
   "id": "750c6978",
   "metadata": {},
   "outputs": [
    {
     "data": {
      "text/plain": [
       "E2-تندر               80\n",
       "اتوماتیک-تندر         32\n",
       "پلاس اتوماتیک-تندر    16\n",
       "E1-تندر                5\n",
       "پلاس دنده ای-تندر      5\n",
       "E0-تندر                2\n",
       "Name: مدل, dtype: int64"
      ]
     },
     "execution_count": 7,
     "metadata": {},
     "output_type": "execute_result"
    }
   ],
   "source": [
    "tondar['مدل'].value_counts()"
   ]
  },
  {
   "cell_type": "code",
   "execution_count": 8,
   "id": "59d2d4e5",
   "metadata": {},
   "outputs": [],
   "source": [
    "for i in range(len(tondar)):\n",
    "    if tondar['مدل'][i] == 'E2-تندر':\n",
    "        tondar['مدل'][i] = 'E2'\n",
    "    elif tondar['مدل'][i] == 'اتوماتیک-تندر':\n",
    "        tondar['مدل'][i] = 'معمولی'\n",
    "    elif tondar['مدل'][i] == 'پلاس اتوماتیک-تندر' or tondar['مدل'][i] == 'پلاس دنده ای-تندر':\n",
    "        tondar['مدل'][i] = 'پلاس'\n",
    "\n",
    "tondar.drop(tondar[tondar['مدل'] == 'E1-تندر'].index, axis=0, inplace=True)\n",
    "tondar.drop(tondar[tondar['مدل'] == 'E0-تندر'].index, axis=0, inplace=True)"
   ]
  },
  {
   "cell_type": "code",
   "execution_count": 9,
   "id": "5a444b30",
   "metadata": {
    "scrolled": true
   },
   "outputs": [
    {
     "data": {
      "text/plain": [
       "E2        80\n",
       "معمولی    32\n",
       "پلاس      21\n",
       "Name: مدل, dtype: int64"
      ]
     },
     "execution_count": 9,
     "metadata": {},
     "output_type": "execute_result"
    }
   ],
   "source": [
    "tondar['مدل'].value_counts()"
   ]
  },
  {
   "cell_type": "markdown",
   "id": "a1968b4e",
   "metadata": {},
   "source": [
    "## Delete the especially missing value"
   ]
  },
  {
   "cell_type": "code",
   "execution_count": 10,
   "id": "ff915738",
   "metadata": {},
   "outputs": [],
   "source": [
    "tondar.drop(tondar[tondar['کارکرد'] == 'کارکرده'].index, axis=0, inplace=True)"
   ]
  },
  {
   "cell_type": "markdown",
   "id": "246726c4",
   "metadata": {},
   "source": [
    "## Check different car colors and organize them"
   ]
  },
  {
   "cell_type": "code",
   "execution_count": 11,
   "id": "8ac2f1c9",
   "metadata": {},
   "outputs": [
    {
     "data": {
      "text/plain": [
       "سفید         101\n",
       "مشکی          18\n",
       "نقره ای        6\n",
       "خاکستری        4\n",
       "نوک مدادی      2\n",
       "قرمز           1\n",
       "سفید صدفی      1\n",
       "Name: رنگ, dtype: int64"
      ]
     },
     "execution_count": 11,
     "metadata": {},
     "output_type": "execute_result"
    }
   ],
   "source": [
    "tondar['رنگ'].value_counts()"
   ]
  },
  {
   "cell_type": "code",
   "execution_count": 12,
   "id": "d6ab096d",
   "metadata": {},
   "outputs": [],
   "source": [
    "tondar.drop(tondar[tondar['رنگ'] == 'نقره ای'].index, axis=0, inplace=True)\n",
    "tondar.drop(tondar[tondar['رنگ'] == 'خاکستری'].index, axis=0, inplace=True)\n",
    "tondar.drop(tondar[tondar['رنگ'] == 'نوک مدادی'].index, axis=0, inplace=True)\n",
    "tondar.drop(tondar[tondar['رنگ'] == 'سفید صدفی'].index, axis=0, inplace=True)\n",
    "tondar.drop(tondar[tondar['رنگ'] == 'قرمز'].index, axis=0, inplace=True)"
   ]
  },
  {
   "cell_type": "code",
   "execution_count": 13,
   "id": "2dccd9c7",
   "metadata": {},
   "outputs": [
    {
     "data": {
      "text/plain": [
       "سفید    101\n",
       "مشکی     18\n",
       "Name: رنگ, dtype: int64"
      ]
     },
     "execution_count": 13,
     "metadata": {},
     "output_type": "execute_result"
    }
   ],
   "source": [
    "tondar['رنگ'].value_counts()"
   ]
  },
  {
   "cell_type": "markdown",
   "id": "5a6dab4e",
   "metadata": {},
   "source": [
    "## Remove extra fields"
   ]
  },
  {
   "cell_type": "code",
   "execution_count": 14,
   "id": "713e96d9",
   "metadata": {},
   "outputs": [],
   "source": [
    "tondar.drop(['نام خودرو'], axis=1, inplace=True)"
   ]
  },
  {
   "cell_type": "code",
   "execution_count": 15,
   "id": "c8dd10b5",
   "metadata": {},
   "outputs": [
    {
     "data": {
      "text/html": [
       "<div>\n",
       "<style scoped>\n",
       "    .dataframe tbody tr th:only-of-type {\n",
       "        vertical-align: middle;\n",
       "    }\n",
       "\n",
       "    .dataframe tbody tr th {\n",
       "        vertical-align: top;\n",
       "    }\n",
       "\n",
       "    .dataframe thead th {\n",
       "        text-align: right;\n",
       "    }\n",
       "</style>\n",
       "<table border=\"1\" class=\"dataframe\">\n",
       "  <thead>\n",
       "    <tr style=\"text-align: right;\">\n",
       "      <th></th>\n",
       "      <th>سال تولید</th>\n",
       "      <th>مدل</th>\n",
       "      <th>کارکرد</th>\n",
       "      <th>گیربکس</th>\n",
       "      <th>رنگ</th>\n",
       "      <th>قیمت</th>\n",
       "    </tr>\n",
       "  </thead>\n",
       "  <tbody>\n",
       "    <tr>\n",
       "      <th>0</th>\n",
       "      <td>1396</td>\n",
       "      <td>معمولی</td>\n",
       "      <td>145000</td>\n",
       "      <td>اتوماتیک</td>\n",
       "      <td>سفید</td>\n",
       "      <td>600000000</td>\n",
       "    </tr>\n",
       "    <tr>\n",
       "      <th>1</th>\n",
       "      <td>1396</td>\n",
       "      <td>E2</td>\n",
       "      <td>77000</td>\n",
       "      <td>دنده ای</td>\n",
       "      <td>سفید</td>\n",
       "      <td>530000000</td>\n",
       "    </tr>\n",
       "    <tr>\n",
       "      <th>2</th>\n",
       "      <td>1396</td>\n",
       "      <td>E2</td>\n",
       "      <td>240000</td>\n",
       "      <td>دنده ای</td>\n",
       "      <td>مشکی</td>\n",
       "      <td>440000000</td>\n",
       "    </tr>\n",
       "    <tr>\n",
       "      <th>3</th>\n",
       "      <td>1395</td>\n",
       "      <td>معمولی</td>\n",
       "      <td>102000</td>\n",
       "      <td>اتوماتیک</td>\n",
       "      <td>سفید</td>\n",
       "      <td>570000000</td>\n",
       "    </tr>\n",
       "    <tr>\n",
       "      <th>4</th>\n",
       "      <td>1396</td>\n",
       "      <td>پلاس</td>\n",
       "      <td>80800</td>\n",
       "      <td>اتوماتیک</td>\n",
       "      <td>سفید</td>\n",
       "      <td>737000000</td>\n",
       "    </tr>\n",
       "    <tr>\n",
       "      <th>...</th>\n",
       "      <td>...</td>\n",
       "      <td>...</td>\n",
       "      <td>...</td>\n",
       "      <td>...</td>\n",
       "      <td>...</td>\n",
       "      <td>...</td>\n",
       "    </tr>\n",
       "    <tr>\n",
       "      <th>134</th>\n",
       "      <td>1396</td>\n",
       "      <td>E2</td>\n",
       "      <td>130000</td>\n",
       "      <td>دنده ای</td>\n",
       "      <td>سفید</td>\n",
       "      <td>485000000</td>\n",
       "    </tr>\n",
       "    <tr>\n",
       "      <th>135</th>\n",
       "      <td>1396</td>\n",
       "      <td>E2</td>\n",
       "      <td>84000</td>\n",
       "      <td>دنده ای</td>\n",
       "      <td>مشکی</td>\n",
       "      <td>480000000</td>\n",
       "    </tr>\n",
       "    <tr>\n",
       "      <th>136</th>\n",
       "      <td>1397</td>\n",
       "      <td>E2</td>\n",
       "      <td>47000</td>\n",
       "      <td>دنده ای</td>\n",
       "      <td>سفید</td>\n",
       "      <td>610000000</td>\n",
       "    </tr>\n",
       "    <tr>\n",
       "      <th>137</th>\n",
       "      <td>1396</td>\n",
       "      <td>E2</td>\n",
       "      <td>160000</td>\n",
       "      <td>دنده ای</td>\n",
       "      <td>سفید</td>\n",
       "      <td>430000000</td>\n",
       "    </tr>\n",
       "    <tr>\n",
       "      <th>139</th>\n",
       "      <td>1396</td>\n",
       "      <td>پلاس</td>\n",
       "      <td>60000</td>\n",
       "      <td>اتوماتیک</td>\n",
       "      <td>سفید</td>\n",
       "      <td>475000000</td>\n",
       "    </tr>\n",
       "  </tbody>\n",
       "</table>\n",
       "<p>119 rows × 6 columns</p>\n",
       "</div>"
      ],
      "text/plain": [
       "     سال تولید     مدل  کارکرد    گیربکس   رنگ       قیمت\n",
       "0         1396  معمولی  145000  اتوماتیک  سفید  600000000\n",
       "1         1396      E2   77000   دنده ای  سفید  530000000\n",
       "2         1396      E2  240000   دنده ای  مشکی  440000000\n",
       "3         1395  معمولی  102000  اتوماتیک  سفید  570000000\n",
       "4         1396    پلاس   80800  اتوماتیک  سفید  737000000\n",
       "..         ...     ...     ...       ...   ...        ...\n",
       "134       1396      E2  130000   دنده ای  سفید  485000000\n",
       "135       1396      E2   84000   دنده ای  مشکی  480000000\n",
       "136       1397      E2   47000   دنده ای  سفید  610000000\n",
       "137       1396      E2  160000   دنده ای  سفید  430000000\n",
       "139       1396    پلاس   60000  اتوماتیک  سفید  475000000\n",
       "\n",
       "[119 rows x 6 columns]"
      ]
     },
     "execution_count": 15,
     "metadata": {},
     "output_type": "execute_result"
    }
   ],
   "source": [
    "tondar"
   ]
  },
  {
   "cell_type": "markdown",
   "id": "8ed84958",
   "metadata": {},
   "source": [
    "## One-hot fields"
   ]
  },
  {
   "cell_type": "code",
   "execution_count": 16,
   "id": "890b3ad6",
   "metadata": {},
   "outputs": [],
   "source": [
    "def make_one_hot(data, field):\n",
    "    temp = pd.get_dummies(data[field], prefix=field)\n",
    "    data.drop(field, axis=1, inplace=True)\n",
    "    return pd.concat([data, temp], axis=1)"
   ]
  },
  {
   "cell_type": "code",
   "execution_count": 17,
   "id": "830595d5",
   "metadata": {},
   "outputs": [],
   "source": [
    "tondar = make_one_hot(tondar, 'مدل')\n",
    "tondar = make_one_hot(tondar, 'گیربکس')\n",
    "tondar = make_one_hot(tondar, 'رنگ')"
   ]
  },
  {
   "cell_type": "code",
   "execution_count": 18,
   "id": "0940683d",
   "metadata": {},
   "outputs": [
    {
     "data": {
      "text/html": [
       "<div>\n",
       "<style scoped>\n",
       "    .dataframe tbody tr th:only-of-type {\n",
       "        vertical-align: middle;\n",
       "    }\n",
       "\n",
       "    .dataframe tbody tr th {\n",
       "        vertical-align: top;\n",
       "    }\n",
       "\n",
       "    .dataframe thead th {\n",
       "        text-align: right;\n",
       "    }\n",
       "</style>\n",
       "<table border=\"1\" class=\"dataframe\">\n",
       "  <thead>\n",
       "    <tr style=\"text-align: right;\">\n",
       "      <th></th>\n",
       "      <th>سال تولید</th>\n",
       "      <th>کارکرد</th>\n",
       "      <th>قیمت</th>\n",
       "      <th>مدل_E2</th>\n",
       "      <th>مدل_معمولی</th>\n",
       "      <th>مدل_پلاس</th>\n",
       "      <th>گیربکس_اتوماتیک</th>\n",
       "      <th>گیربکس_دنده ای</th>\n",
       "      <th>رنگ_سفید</th>\n",
       "      <th>رنگ_مشکی</th>\n",
       "    </tr>\n",
       "  </thead>\n",
       "  <tbody>\n",
       "    <tr>\n",
       "      <th>0</th>\n",
       "      <td>1396</td>\n",
       "      <td>145000</td>\n",
       "      <td>600000000</td>\n",
       "      <td>0</td>\n",
       "      <td>1</td>\n",
       "      <td>0</td>\n",
       "      <td>1</td>\n",
       "      <td>0</td>\n",
       "      <td>1</td>\n",
       "      <td>0</td>\n",
       "    </tr>\n",
       "    <tr>\n",
       "      <th>1</th>\n",
       "      <td>1396</td>\n",
       "      <td>77000</td>\n",
       "      <td>530000000</td>\n",
       "      <td>1</td>\n",
       "      <td>0</td>\n",
       "      <td>0</td>\n",
       "      <td>0</td>\n",
       "      <td>1</td>\n",
       "      <td>1</td>\n",
       "      <td>0</td>\n",
       "    </tr>\n",
       "    <tr>\n",
       "      <th>2</th>\n",
       "      <td>1396</td>\n",
       "      <td>240000</td>\n",
       "      <td>440000000</td>\n",
       "      <td>1</td>\n",
       "      <td>0</td>\n",
       "      <td>0</td>\n",
       "      <td>0</td>\n",
       "      <td>1</td>\n",
       "      <td>0</td>\n",
       "      <td>1</td>\n",
       "    </tr>\n",
       "    <tr>\n",
       "      <th>3</th>\n",
       "      <td>1395</td>\n",
       "      <td>102000</td>\n",
       "      <td>570000000</td>\n",
       "      <td>0</td>\n",
       "      <td>1</td>\n",
       "      <td>0</td>\n",
       "      <td>1</td>\n",
       "      <td>0</td>\n",
       "      <td>1</td>\n",
       "      <td>0</td>\n",
       "    </tr>\n",
       "    <tr>\n",
       "      <th>4</th>\n",
       "      <td>1396</td>\n",
       "      <td>80800</td>\n",
       "      <td>737000000</td>\n",
       "      <td>0</td>\n",
       "      <td>0</td>\n",
       "      <td>1</td>\n",
       "      <td>1</td>\n",
       "      <td>0</td>\n",
       "      <td>1</td>\n",
       "      <td>0</td>\n",
       "    </tr>\n",
       "    <tr>\n",
       "      <th>...</th>\n",
       "      <td>...</td>\n",
       "      <td>...</td>\n",
       "      <td>...</td>\n",
       "      <td>...</td>\n",
       "      <td>...</td>\n",
       "      <td>...</td>\n",
       "      <td>...</td>\n",
       "      <td>...</td>\n",
       "      <td>...</td>\n",
       "      <td>...</td>\n",
       "    </tr>\n",
       "    <tr>\n",
       "      <th>134</th>\n",
       "      <td>1396</td>\n",
       "      <td>130000</td>\n",
       "      <td>485000000</td>\n",
       "      <td>1</td>\n",
       "      <td>0</td>\n",
       "      <td>0</td>\n",
       "      <td>0</td>\n",
       "      <td>1</td>\n",
       "      <td>1</td>\n",
       "      <td>0</td>\n",
       "    </tr>\n",
       "    <tr>\n",
       "      <th>135</th>\n",
       "      <td>1396</td>\n",
       "      <td>84000</td>\n",
       "      <td>480000000</td>\n",
       "      <td>1</td>\n",
       "      <td>0</td>\n",
       "      <td>0</td>\n",
       "      <td>0</td>\n",
       "      <td>1</td>\n",
       "      <td>0</td>\n",
       "      <td>1</td>\n",
       "    </tr>\n",
       "    <tr>\n",
       "      <th>136</th>\n",
       "      <td>1397</td>\n",
       "      <td>47000</td>\n",
       "      <td>610000000</td>\n",
       "      <td>1</td>\n",
       "      <td>0</td>\n",
       "      <td>0</td>\n",
       "      <td>0</td>\n",
       "      <td>1</td>\n",
       "      <td>1</td>\n",
       "      <td>0</td>\n",
       "    </tr>\n",
       "    <tr>\n",
       "      <th>137</th>\n",
       "      <td>1396</td>\n",
       "      <td>160000</td>\n",
       "      <td>430000000</td>\n",
       "      <td>1</td>\n",
       "      <td>0</td>\n",
       "      <td>0</td>\n",
       "      <td>0</td>\n",
       "      <td>1</td>\n",
       "      <td>1</td>\n",
       "      <td>0</td>\n",
       "    </tr>\n",
       "    <tr>\n",
       "      <th>139</th>\n",
       "      <td>1396</td>\n",
       "      <td>60000</td>\n",
       "      <td>475000000</td>\n",
       "      <td>0</td>\n",
       "      <td>0</td>\n",
       "      <td>1</td>\n",
       "      <td>1</td>\n",
       "      <td>0</td>\n",
       "      <td>1</td>\n",
       "      <td>0</td>\n",
       "    </tr>\n",
       "  </tbody>\n",
       "</table>\n",
       "<p>119 rows × 10 columns</p>\n",
       "</div>"
      ],
      "text/plain": [
       "     سال تولید  کارکرد       قیمت  مدل_E2  مدل_معمولی  مدل_پلاس  \\\n",
       "0         1396  145000  600000000       0           1         0   \n",
       "1         1396   77000  530000000       1           0         0   \n",
       "2         1396  240000  440000000       1           0         0   \n",
       "3         1395  102000  570000000       0           1         0   \n",
       "4         1396   80800  737000000       0           0         1   \n",
       "..         ...     ...        ...     ...         ...       ...   \n",
       "134       1396  130000  485000000       1           0         0   \n",
       "135       1396   84000  480000000       1           0         0   \n",
       "136       1397   47000  610000000       1           0         0   \n",
       "137       1396  160000  430000000       1           0         0   \n",
       "139       1396   60000  475000000       0           0         1   \n",
       "\n",
       "     گیربکس_اتوماتیک  گیربکس_دنده ای  رنگ_سفید  رنگ_مشکی  \n",
       "0                  1               0         1         0  \n",
       "1                  0               1         1         0  \n",
       "2                  0               1         0         1  \n",
       "3                  1               0         1         0  \n",
       "4                  1               0         1         0  \n",
       "..               ...             ...       ...       ...  \n",
       "134                0               1         1         0  \n",
       "135                0               1         0         1  \n",
       "136                0               1         1         0  \n",
       "137                0               1         1         0  \n",
       "139                1               0         1         0  \n",
       "\n",
       "[119 rows x 10 columns]"
      ]
     },
     "execution_count": 18,
     "metadata": {},
     "output_type": "execute_result"
    }
   ],
   "source": [
    "tondar"
   ]
  },
  {
   "cell_type": "markdown",
   "id": "0e658c65",
   "metadata": {},
   "source": [
    "## Remove the label"
   ]
  },
  {
   "cell_type": "code",
   "execution_count": 19,
   "id": "da2105ec",
   "metadata": {},
   "outputs": [],
   "source": [
    "labels = tondar['قیمت']\n",
    "tondar.drop(['قیمت'], axis=1, inplace=True)"
   ]
  },
  {
   "cell_type": "markdown",
   "id": "6da33bc2",
   "metadata": {},
   "source": [
    "## Separating data into train and test sections"
   ]
  },
  {
   "cell_type": "code",
   "execution_count": 20,
   "id": "ca88d852",
   "metadata": {},
   "outputs": [],
   "source": [
    "from sklearn.model_selection import train_test_split\n",
    "\n",
    "x_train, x_test, y_train, y_test = train_test_split(tondar, labels, test_size=0.1, shuffle=True)"
   ]
  },
  {
   "cell_type": "markdown",
   "id": "16b004f2",
   "metadata": {},
   "source": [
    "## Model making"
   ]
  },
  {
   "cell_type": "code",
   "execution_count": 21,
   "id": "e1b2a56f",
   "metadata": {},
   "outputs": [
    {
     "name": "stdout",
     "output_type": "stream",
     "text": [
      "13,551,772 MT\n"
     ]
    }
   ],
   "source": [
    "from sklearn.linear_model import LinearRegression\n",
    "from sklearn.metrics import mean_absolute_error\n",
    "\n",
    "tondar_model = LinearRegression()\n",
    "tondar_model.fit(x_train, y_train)\n",
    "prediction = tondar_model.predict(x_test)\n",
    "\n",
    "error = int(mean_absolute_error(y_test, prediction))\n",
    "print(f'{error:,} MT')"
   ]
  },
  {
   "cell_type": "markdown",
   "id": "0af0f7f9",
   "metadata": {},
   "source": [
    "## Save the model"
   ]
  },
  {
   "cell_type": "code",
   "execution_count": 22,
   "id": "4a5ffbd0",
   "metadata": {},
   "outputs": [],
   "source": [
    "import pickle\n",
    "pickle.dump(tondar_model, open('tondar90_model.sav', 'wb'))"
   ]
  }
 ],
 "metadata": {
  "kernelspec": {
   "display_name": "Python 3 (ipykernel)",
   "language": "python",
   "name": "python3"
  },
  "language_info": {
   "codemirror_mode": {
    "name": "ipython",
    "version": 3
   },
   "file_extension": ".py",
   "mimetype": "text/x-python",
   "name": "python",
   "nbconvert_exporter": "python",
   "pygments_lexer": "ipython3",
   "version": "3.8.5"
  }
 },
 "nbformat": 4,
 "nbformat_minor": 5
}
