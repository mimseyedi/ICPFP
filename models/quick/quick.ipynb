{
 "cells": [
  {
   "cell_type": "markdown",
   "id": "31175845",
   "metadata": {},
   "source": [
    "# Pre-processing data and create model for Quick"
   ]
  },
  {
   "cell_type": "markdown",
   "id": "965bb850",
   "metadata": {},
   "source": [
    "## Importing packages"
   ]
  },
  {
   "cell_type": "code",
   "execution_count": 1,
   "id": "ce938fa5",
   "metadata": {},
   "outputs": [],
   "source": [
    "import os\n",
    "import pandas as pd\n",
    "import warnings\n",
    "warnings.filterwarnings('ignore')"
   ]
  },
  {
   "cell_type": "markdown",
   "id": "1f3b2580",
   "metadata": {},
   "source": [
    "## Reading dataset"
   ]
  },
  {
   "cell_type": "code",
   "execution_count": 2,
   "id": "e69b67e4",
   "metadata": {},
   "outputs": [],
   "source": [
    "quick = pd.read_csv(f\"{'/'.join(os.getcwd().split('/')[:-2])}/datasets/quick.csv\")"
   ]
  },
  {
   "cell_type": "code",
   "execution_count": 3,
   "id": "9b7dd315",
   "metadata": {},
   "outputs": [
    {
     "data": {
      "text/html": [
       "<div>\n",
       "<style scoped>\n",
       "    .dataframe tbody tr th:only-of-type {\n",
       "        vertical-align: middle;\n",
       "    }\n",
       "\n",
       "    .dataframe tbody tr th {\n",
       "        vertical-align: top;\n",
       "    }\n",
       "\n",
       "    .dataframe thead th {\n",
       "        text-align: right;\n",
       "    }\n",
       "</style>\n",
       "<table border=\"1\" class=\"dataframe\">\n",
       "  <thead>\n",
       "    <tr style=\"text-align: right;\">\n",
       "      <th></th>\n",
       "      <th>0</th>\n",
       "      <th>1</th>\n",
       "      <th>2</th>\n",
       "      <th>3</th>\n",
       "      <th>4</th>\n",
       "      <th>5</th>\n",
       "      <th>6</th>\n",
       "    </tr>\n",
       "  </thead>\n",
       "  <tbody>\n",
       "    <tr>\n",
       "      <th>0</th>\n",
       "      <td>کوییک،</td>\n",
       "      <td>1401</td>\n",
       "      <td>دنده ای-دنده</td>\n",
       "      <td>6,000 کیلومتر</td>\n",
       "      <td>دنده ای</td>\n",
       "      <td>سفید</td>\n",
       "      <td>320,000,000</td>\n",
       "    </tr>\n",
       "    <tr>\n",
       "      <th>1</th>\n",
       "      <td>کوییک،</td>\n",
       "      <td>1400</td>\n",
       "      <td>دنده ای-دنده</td>\n",
       "      <td>66,000 کیلومتر</td>\n",
       "      <td>دنده ای</td>\n",
       "      <td>سفید</td>\n",
       "      <td>295,000,000</td>\n",
       "    </tr>\n",
       "    <tr>\n",
       "      <th>2</th>\n",
       "      <td>کوییک،</td>\n",
       "      <td>1401</td>\n",
       "      <td>دنده ای-دنده</td>\n",
       "      <td>15,500 کیلومتر</td>\n",
       "      <td>دنده ای</td>\n",
       "      <td>سفید</td>\n",
       "      <td>316,000,000</td>\n",
       "    </tr>\n",
       "    <tr>\n",
       "      <th>3</th>\n",
       "      <td>کوییک،</td>\n",
       "      <td>1400</td>\n",
       "      <td>دنده ای-دنده</td>\n",
       "      <td>کارکرد صفر</td>\n",
       "      <td>دنده ای</td>\n",
       "      <td>سفید</td>\n",
       "      <td>303,000,000</td>\n",
       "    </tr>\n",
       "    <tr>\n",
       "      <th>4</th>\n",
       "      <td>کوییک،</td>\n",
       "      <td>1401</td>\n",
       "      <td>اتوماتیک-اتوماتیک</td>\n",
       "      <td>کارکرد صفر</td>\n",
       "      <td>اتوماتیک</td>\n",
       "      <td>سفید</td>\n",
       "      <td>425,000,000</td>\n",
       "    </tr>\n",
       "    <tr>\n",
       "      <th>...</th>\n",
       "      <td>...</td>\n",
       "      <td>...</td>\n",
       "      <td>...</td>\n",
       "      <td>...</td>\n",
       "      <td>...</td>\n",
       "      <td>...</td>\n",
       "      <td>...</td>\n",
       "    </tr>\n",
       "    <tr>\n",
       "      <th>189</th>\n",
       "      <td>کوییک،</td>\n",
       "      <td>1401</td>\n",
       "      <td>دنده ای-دنده</td>\n",
       "      <td>کارکرد صفر</td>\n",
       "      <td>دنده ای</td>\n",
       "      <td>سفید</td>\n",
       "      <td>300,000,000</td>\n",
       "    </tr>\n",
       "    <tr>\n",
       "      <th>190</th>\n",
       "      <td>کوییک،</td>\n",
       "      <td>1401</td>\n",
       "      <td>دنده ای-دنده</td>\n",
       "      <td>کارکرد صفر</td>\n",
       "      <td>دنده ای</td>\n",
       "      <td>سفید</td>\n",
       "      <td>300,000,000</td>\n",
       "    </tr>\n",
       "    <tr>\n",
       "      <th>191</th>\n",
       "      <td>کوییک،</td>\n",
       "      <td>1401</td>\n",
       "      <td>دنده ای-دنده</td>\n",
       "      <td>کارکرد صفر</td>\n",
       "      <td>دنده ای</td>\n",
       "      <td>سفید</td>\n",
       "      <td>315,000,000</td>\n",
       "    </tr>\n",
       "    <tr>\n",
       "      <th>192</th>\n",
       "      <td>کوییک،</td>\n",
       "      <td>1401</td>\n",
       "      <td>دنده ای-دنده</td>\n",
       "      <td>کارکرد صفر</td>\n",
       "      <td>دنده ای</td>\n",
       "      <td>سفید</td>\n",
       "      <td>310,000,000</td>\n",
       "    </tr>\n",
       "    <tr>\n",
       "      <th>193</th>\n",
       "      <td>کوییک،</td>\n",
       "      <td>1400</td>\n",
       "      <td>دنده ای-دنده</td>\n",
       "      <td>8,900 کیلومتر</td>\n",
       "      <td>دنده ای</td>\n",
       "      <td>نقره ای</td>\n",
       "      <td>300,000,000</td>\n",
       "    </tr>\n",
       "  </tbody>\n",
       "</table>\n",
       "<p>194 rows × 7 columns</p>\n",
       "</div>"
      ],
      "text/plain": [
       "          0     1                  2               3         4        5  \\\n",
       "0    کوییک،  1401       دنده ای-دنده   6,000 کیلومتر   دنده ای     سفید   \n",
       "1    کوییک،  1400       دنده ای-دنده  66,000 کیلومتر   دنده ای     سفید   \n",
       "2    کوییک،  1401       دنده ای-دنده  15,500 کیلومتر   دنده ای     سفید   \n",
       "3    کوییک،  1400       دنده ای-دنده      کارکرد صفر   دنده ای     سفید   \n",
       "4    کوییک،  1401  اتوماتیک-اتوماتیک      کارکرد صفر  اتوماتیک     سفید   \n",
       "..      ...   ...                ...             ...       ...      ...   \n",
       "189  کوییک،  1401       دنده ای-دنده      کارکرد صفر   دنده ای     سفید   \n",
       "190  کوییک،  1401       دنده ای-دنده      کارکرد صفر   دنده ای     سفید   \n",
       "191  کوییک،  1401       دنده ای-دنده      کارکرد صفر   دنده ای     سفید   \n",
       "192  کوییک،  1401       دنده ای-دنده      کارکرد صفر   دنده ای     سفید   \n",
       "193  کوییک،  1400       دنده ای-دنده   8,900 کیلومتر   دنده ای  نقره ای   \n",
       "\n",
       "               6  \n",
       "0    320,000,000  \n",
       "1    295,000,000  \n",
       "2    316,000,000  \n",
       "3    303,000,000  \n",
       "4    425,000,000  \n",
       "..           ...  \n",
       "189  300,000,000  \n",
       "190  300,000,000  \n",
       "191  315,000,000  \n",
       "192  310,000,000  \n",
       "193  300,000,000  \n",
       "\n",
       "[194 rows x 7 columns]"
      ]
     },
     "execution_count": 3,
     "metadata": {},
     "output_type": "execute_result"
    }
   ],
   "source": [
    "quick"
   ]
  },
  {
   "cell_type": "markdown",
   "id": "f6f849ec",
   "metadata": {},
   "source": [
    "## Change columns name"
   ]
  },
  {
   "cell_type": "code",
   "execution_count": 4,
   "id": "016d2eb9",
   "metadata": {},
   "outputs": [],
   "source": [
    "def edit_cols_name(df):\n",
    "    df.rename(columns={'0': 'نام خودرو'}, inplace=True)\n",
    "    df.rename(columns={'1': 'سال تولید'}, inplace=True)\n",
    "    df.rename(columns={'2': 'مدل'}, inplace=True)\n",
    "    df.rename(columns={'3': 'کارکرد'}, inplace=True)\n",
    "    df.rename(columns={'4': 'گیربکس'}, inplace=True)\n",
    "    df.rename(columns={'5': 'رنگ'}, inplace=True)\n",
    "    df.rename(columns={'6': 'قیمت'}, inplace=True)\n",
    "    \n",
    "edit_cols_name(quick)"
   ]
  },
  {
   "cell_type": "markdown",
   "id": "2ea2aebf",
   "metadata": {},
   "source": [
    "## Convert km to standard mode"
   ]
  },
  {
   "cell_type": "code",
   "execution_count": 5,
   "id": "2ecf277b",
   "metadata": {},
   "outputs": [],
   "source": [
    "def fix_km(df):\n",
    "    for index in range(len(df['کارکرد'])):\n",
    "        if df['کارکرد'][index].strip() == 'کارکرد صفر':\n",
    "            df['کارکرد'][index] = 0\n",
    "        elif 'کیلومتر' in df['کارکرد'][index]:\n",
    "            df['کارکرد'][index] = int(df['کارکرد'][index].split()[0].replace(',', ''))\n",
    "                   \n",
    "fix_km(quick)"
   ]
  },
  {
   "cell_type": "markdown",
   "id": "c0fd1231",
   "metadata": {},
   "source": [
    "## Convert price to standard mode"
   ]
  },
  {
   "cell_type": "code",
   "execution_count": 6,
   "id": "0fad3a75",
   "metadata": {},
   "outputs": [],
   "source": [
    "for i in range(len(quick)):\n",
    "    quick['قیمت'][i] = quick['قیمت'][i].replace(',', '')\n",
    "    quick['قیمت'][i] = int(quick['قیمت'][i])"
   ]
  },
  {
   "cell_type": "markdown",
   "id": "d2356899",
   "metadata": {},
   "source": [
    "## Check different car models and organize them"
   ]
  },
  {
   "cell_type": "code",
   "execution_count": 7,
   "id": "e6e33bf8",
   "metadata": {},
   "outputs": [
    {
     "data": {
      "text/plain": [
       "دنده ای-دنده         161\n",
       "اتوماتیک-اتوماتیک     27\n",
       "اتوماتیک-R             6\n",
       "Name: مدل, dtype: int64"
      ]
     },
     "execution_count": 7,
     "metadata": {},
     "output_type": "execute_result"
    }
   ],
   "source": [
    "quick['مدل'].value_counts()"
   ]
  },
  {
   "cell_type": "code",
   "execution_count": 8,
   "id": "2cc05d62",
   "metadata": {},
   "outputs": [],
   "source": [
    "for i in range(len(quick)):\n",
    "    if quick['مدل'][i] == 'دنده ای-دنده' or quick['مدل'][i] == 'اتوماتیک-اتوماتیک':\n",
    "        quick['مدل'][i] = 'معمولی'\n",
    "        \n",
    "quick.drop(quick[quick['مدل'] == 'اتوماتیک-R'].index, axis=0, inplace=True)"
   ]
  },
  {
   "cell_type": "code",
   "execution_count": 9,
   "id": "3721ff4d",
   "metadata": {
    "scrolled": true
   },
   "outputs": [
    {
     "data": {
      "text/plain": [
       "معمولی    188\n",
       "Name: مدل, dtype: int64"
      ]
     },
     "execution_count": 9,
     "metadata": {},
     "output_type": "execute_result"
    }
   ],
   "source": [
    "quick['مدل'].value_counts()"
   ]
  },
  {
   "cell_type": "markdown",
   "id": "5824c4ce",
   "metadata": {},
   "source": [
    "## Delete the especially missing value"
   ]
  },
  {
   "cell_type": "code",
   "execution_count": 10,
   "id": "bca605d5",
   "metadata": {},
   "outputs": [],
   "source": [
    "quick.drop(quick[quick['کارکرد'] == 'کارکرده'].index, axis=0, inplace=True)"
   ]
  },
  {
   "cell_type": "markdown",
   "id": "8ea3f0f2",
   "metadata": {},
   "source": [
    "## Check different car colors and organize them"
   ]
  },
  {
   "cell_type": "code",
   "execution_count": 11,
   "id": "a95c2078",
   "metadata": {},
   "outputs": [
    {
     "data": {
      "text/plain": [
       "سفید       151\n",
       "مشکی        23\n",
       "نقره ای      6\n",
       "کرم          3\n",
       "قرمز         1\n",
       "خاکستری      1\n",
       "اطلسی        1\n",
       "نامشخص       1\n",
       "بژ           1\n",
       "Name: رنگ, dtype: int64"
      ]
     },
     "execution_count": 11,
     "metadata": {},
     "output_type": "execute_result"
    }
   ],
   "source": [
    "quick['رنگ'].value_counts()"
   ]
  },
  {
   "cell_type": "code",
   "execution_count": 12,
   "id": "4733f20d",
   "metadata": {},
   "outputs": [],
   "source": [
    "quick.drop(quick[quick['رنگ'] == 'نقره ای'].index, axis=0, inplace=True)\n",
    "quick.drop(quick[quick['رنگ'] == 'کرم'].index, axis=0, inplace=True)\n",
    "quick.drop(quick[quick['رنگ'] == 'اطلسی'].index, axis=0, inplace=True)\n",
    "quick.drop(quick[quick['رنگ'] == 'قرمز'].index, axis=0, inplace=True)\n",
    "quick.drop(quick[quick['رنگ'] == 'نامشخص'].index, axis=0, inplace=True)\n",
    "quick.drop(quick[quick['رنگ'] == 'بژ'].index, axis=0, inplace=True)\n",
    "quick.drop(quick[quick['رنگ'] == 'خاکستری'].index, axis=0, inplace=True)"
   ]
  },
  {
   "cell_type": "code",
   "execution_count": 13,
   "id": "6269846b",
   "metadata": {},
   "outputs": [
    {
     "data": {
      "text/plain": [
       "سفید    151\n",
       "مشکی     23\n",
       "Name: رنگ, dtype: int64"
      ]
     },
     "execution_count": 13,
     "metadata": {},
     "output_type": "execute_result"
    }
   ],
   "source": [
    "quick['رنگ'].value_counts()"
   ]
  },
  {
   "cell_type": "markdown",
   "id": "2f4c60ed",
   "metadata": {},
   "source": [
    "## Remove extra fields"
   ]
  },
  {
   "cell_type": "code",
   "execution_count": 14,
   "id": "65ddfaa1",
   "metadata": {},
   "outputs": [],
   "source": [
    "quick.drop(['نام خودرو'], axis=1, inplace=True)"
   ]
  },
  {
   "cell_type": "code",
   "execution_count": 15,
   "id": "aab9ba39",
   "metadata": {},
   "outputs": [
    {
     "data": {
      "text/html": [
       "<div>\n",
       "<style scoped>\n",
       "    .dataframe tbody tr th:only-of-type {\n",
       "        vertical-align: middle;\n",
       "    }\n",
       "\n",
       "    .dataframe tbody tr th {\n",
       "        vertical-align: top;\n",
       "    }\n",
       "\n",
       "    .dataframe thead th {\n",
       "        text-align: right;\n",
       "    }\n",
       "</style>\n",
       "<table border=\"1\" class=\"dataframe\">\n",
       "  <thead>\n",
       "    <tr style=\"text-align: right;\">\n",
       "      <th></th>\n",
       "      <th>سال تولید</th>\n",
       "      <th>مدل</th>\n",
       "      <th>کارکرد</th>\n",
       "      <th>گیربکس</th>\n",
       "      <th>رنگ</th>\n",
       "      <th>قیمت</th>\n",
       "    </tr>\n",
       "  </thead>\n",
       "  <tbody>\n",
       "    <tr>\n",
       "      <th>0</th>\n",
       "      <td>1401</td>\n",
       "      <td>معمولی</td>\n",
       "      <td>6000</td>\n",
       "      <td>دنده ای</td>\n",
       "      <td>سفید</td>\n",
       "      <td>320000000</td>\n",
       "    </tr>\n",
       "    <tr>\n",
       "      <th>1</th>\n",
       "      <td>1400</td>\n",
       "      <td>معمولی</td>\n",
       "      <td>66000</td>\n",
       "      <td>دنده ای</td>\n",
       "      <td>سفید</td>\n",
       "      <td>295000000</td>\n",
       "    </tr>\n",
       "    <tr>\n",
       "      <th>2</th>\n",
       "      <td>1401</td>\n",
       "      <td>معمولی</td>\n",
       "      <td>15500</td>\n",
       "      <td>دنده ای</td>\n",
       "      <td>سفید</td>\n",
       "      <td>316000000</td>\n",
       "    </tr>\n",
       "    <tr>\n",
       "      <th>3</th>\n",
       "      <td>1400</td>\n",
       "      <td>معمولی</td>\n",
       "      <td>0</td>\n",
       "      <td>دنده ای</td>\n",
       "      <td>سفید</td>\n",
       "      <td>303000000</td>\n",
       "    </tr>\n",
       "    <tr>\n",
       "      <th>4</th>\n",
       "      <td>1401</td>\n",
       "      <td>معمولی</td>\n",
       "      <td>0</td>\n",
       "      <td>اتوماتیک</td>\n",
       "      <td>سفید</td>\n",
       "      <td>425000000</td>\n",
       "    </tr>\n",
       "    <tr>\n",
       "      <th>...</th>\n",
       "      <td>...</td>\n",
       "      <td>...</td>\n",
       "      <td>...</td>\n",
       "      <td>...</td>\n",
       "      <td>...</td>\n",
       "      <td>...</td>\n",
       "    </tr>\n",
       "    <tr>\n",
       "      <th>188</th>\n",
       "      <td>1400</td>\n",
       "      <td>معمولی</td>\n",
       "      <td>28000</td>\n",
       "      <td>دنده ای</td>\n",
       "      <td>سفید</td>\n",
       "      <td>279000000</td>\n",
       "    </tr>\n",
       "    <tr>\n",
       "      <th>189</th>\n",
       "      <td>1401</td>\n",
       "      <td>معمولی</td>\n",
       "      <td>0</td>\n",
       "      <td>دنده ای</td>\n",
       "      <td>سفید</td>\n",
       "      <td>300000000</td>\n",
       "    </tr>\n",
       "    <tr>\n",
       "      <th>190</th>\n",
       "      <td>1401</td>\n",
       "      <td>معمولی</td>\n",
       "      <td>0</td>\n",
       "      <td>دنده ای</td>\n",
       "      <td>سفید</td>\n",
       "      <td>300000000</td>\n",
       "    </tr>\n",
       "    <tr>\n",
       "      <th>191</th>\n",
       "      <td>1401</td>\n",
       "      <td>معمولی</td>\n",
       "      <td>0</td>\n",
       "      <td>دنده ای</td>\n",
       "      <td>سفید</td>\n",
       "      <td>315000000</td>\n",
       "    </tr>\n",
       "    <tr>\n",
       "      <th>192</th>\n",
       "      <td>1401</td>\n",
       "      <td>معمولی</td>\n",
       "      <td>0</td>\n",
       "      <td>دنده ای</td>\n",
       "      <td>سفید</td>\n",
       "      <td>310000000</td>\n",
       "    </tr>\n",
       "  </tbody>\n",
       "</table>\n",
       "<p>174 rows × 6 columns</p>\n",
       "</div>"
      ],
      "text/plain": [
       "     سال تولید     مدل کارکرد    گیربکس   رنگ       قیمت\n",
       "0         1401  معمولی   6000   دنده ای  سفید  320000000\n",
       "1         1400  معمولی  66000   دنده ای  سفید  295000000\n",
       "2         1401  معمولی  15500   دنده ای  سفید  316000000\n",
       "3         1400  معمولی      0   دنده ای  سفید  303000000\n",
       "4         1401  معمولی      0  اتوماتیک  سفید  425000000\n",
       "..         ...     ...    ...       ...   ...        ...\n",
       "188       1400  معمولی  28000   دنده ای  سفید  279000000\n",
       "189       1401  معمولی      0   دنده ای  سفید  300000000\n",
       "190       1401  معمولی      0   دنده ای  سفید  300000000\n",
       "191       1401  معمولی      0   دنده ای  سفید  315000000\n",
       "192       1401  معمولی      0   دنده ای  سفید  310000000\n",
       "\n",
       "[174 rows x 6 columns]"
      ]
     },
     "execution_count": 15,
     "metadata": {},
     "output_type": "execute_result"
    }
   ],
   "source": [
    "quick"
   ]
  },
  {
   "cell_type": "markdown",
   "id": "74b48e2d",
   "metadata": {},
   "source": [
    "## One-hot fields"
   ]
  },
  {
   "cell_type": "code",
   "execution_count": 16,
   "id": "3d6b0ff7",
   "metadata": {},
   "outputs": [],
   "source": [
    "def make_one_hot(data, field):\n",
    "    temp = pd.get_dummies(data[field], prefix=field)\n",
    "    data.drop(field, axis=1, inplace=True)\n",
    "    return pd.concat([data, temp], axis=1)"
   ]
  },
  {
   "cell_type": "code",
   "execution_count": 17,
   "id": "bd7743cd",
   "metadata": {},
   "outputs": [],
   "source": [
    "quick = make_one_hot(quick, 'مدل')\n",
    "quick = make_one_hot(quick, 'گیربکس')\n",
    "quick = make_one_hot(quick, 'رنگ')"
   ]
  },
  {
   "cell_type": "code",
   "execution_count": 18,
   "id": "827eafe8",
   "metadata": {},
   "outputs": [
    {
     "data": {
      "text/html": [
       "<div>\n",
       "<style scoped>\n",
       "    .dataframe tbody tr th:only-of-type {\n",
       "        vertical-align: middle;\n",
       "    }\n",
       "\n",
       "    .dataframe tbody tr th {\n",
       "        vertical-align: top;\n",
       "    }\n",
       "\n",
       "    .dataframe thead th {\n",
       "        text-align: right;\n",
       "    }\n",
       "</style>\n",
       "<table border=\"1\" class=\"dataframe\">\n",
       "  <thead>\n",
       "    <tr style=\"text-align: right;\">\n",
       "      <th></th>\n",
       "      <th>سال تولید</th>\n",
       "      <th>کارکرد</th>\n",
       "      <th>قیمت</th>\n",
       "      <th>مدل_معمولی</th>\n",
       "      <th>گیربکس_اتوماتیک</th>\n",
       "      <th>گیربکس_دنده ای</th>\n",
       "      <th>رنگ_سفید</th>\n",
       "      <th>رنگ_مشکی</th>\n",
       "    </tr>\n",
       "  </thead>\n",
       "  <tbody>\n",
       "    <tr>\n",
       "      <th>0</th>\n",
       "      <td>1401</td>\n",
       "      <td>6000</td>\n",
       "      <td>320000000</td>\n",
       "      <td>1</td>\n",
       "      <td>0</td>\n",
       "      <td>1</td>\n",
       "      <td>1</td>\n",
       "      <td>0</td>\n",
       "    </tr>\n",
       "    <tr>\n",
       "      <th>1</th>\n",
       "      <td>1400</td>\n",
       "      <td>66000</td>\n",
       "      <td>295000000</td>\n",
       "      <td>1</td>\n",
       "      <td>0</td>\n",
       "      <td>1</td>\n",
       "      <td>1</td>\n",
       "      <td>0</td>\n",
       "    </tr>\n",
       "    <tr>\n",
       "      <th>2</th>\n",
       "      <td>1401</td>\n",
       "      <td>15500</td>\n",
       "      <td>316000000</td>\n",
       "      <td>1</td>\n",
       "      <td>0</td>\n",
       "      <td>1</td>\n",
       "      <td>1</td>\n",
       "      <td>0</td>\n",
       "    </tr>\n",
       "    <tr>\n",
       "      <th>3</th>\n",
       "      <td>1400</td>\n",
       "      <td>0</td>\n",
       "      <td>303000000</td>\n",
       "      <td>1</td>\n",
       "      <td>0</td>\n",
       "      <td>1</td>\n",
       "      <td>1</td>\n",
       "      <td>0</td>\n",
       "    </tr>\n",
       "    <tr>\n",
       "      <th>4</th>\n",
       "      <td>1401</td>\n",
       "      <td>0</td>\n",
       "      <td>425000000</td>\n",
       "      <td>1</td>\n",
       "      <td>1</td>\n",
       "      <td>0</td>\n",
       "      <td>1</td>\n",
       "      <td>0</td>\n",
       "    </tr>\n",
       "    <tr>\n",
       "      <th>...</th>\n",
       "      <td>...</td>\n",
       "      <td>...</td>\n",
       "      <td>...</td>\n",
       "      <td>...</td>\n",
       "      <td>...</td>\n",
       "      <td>...</td>\n",
       "      <td>...</td>\n",
       "      <td>...</td>\n",
       "    </tr>\n",
       "    <tr>\n",
       "      <th>188</th>\n",
       "      <td>1400</td>\n",
       "      <td>28000</td>\n",
       "      <td>279000000</td>\n",
       "      <td>1</td>\n",
       "      <td>0</td>\n",
       "      <td>1</td>\n",
       "      <td>1</td>\n",
       "      <td>0</td>\n",
       "    </tr>\n",
       "    <tr>\n",
       "      <th>189</th>\n",
       "      <td>1401</td>\n",
       "      <td>0</td>\n",
       "      <td>300000000</td>\n",
       "      <td>1</td>\n",
       "      <td>0</td>\n",
       "      <td>1</td>\n",
       "      <td>1</td>\n",
       "      <td>0</td>\n",
       "    </tr>\n",
       "    <tr>\n",
       "      <th>190</th>\n",
       "      <td>1401</td>\n",
       "      <td>0</td>\n",
       "      <td>300000000</td>\n",
       "      <td>1</td>\n",
       "      <td>0</td>\n",
       "      <td>1</td>\n",
       "      <td>1</td>\n",
       "      <td>0</td>\n",
       "    </tr>\n",
       "    <tr>\n",
       "      <th>191</th>\n",
       "      <td>1401</td>\n",
       "      <td>0</td>\n",
       "      <td>315000000</td>\n",
       "      <td>1</td>\n",
       "      <td>0</td>\n",
       "      <td>1</td>\n",
       "      <td>1</td>\n",
       "      <td>0</td>\n",
       "    </tr>\n",
       "    <tr>\n",
       "      <th>192</th>\n",
       "      <td>1401</td>\n",
       "      <td>0</td>\n",
       "      <td>310000000</td>\n",
       "      <td>1</td>\n",
       "      <td>0</td>\n",
       "      <td>1</td>\n",
       "      <td>1</td>\n",
       "      <td>0</td>\n",
       "    </tr>\n",
       "  </tbody>\n",
       "</table>\n",
       "<p>174 rows × 8 columns</p>\n",
       "</div>"
      ],
      "text/plain": [
       "     سال تولید کارکرد       قیمت  مدل_معمولی  گیربکس_اتوماتیک  گیربکس_دنده ای  \\\n",
       "0         1401   6000  320000000           1                0               1   \n",
       "1         1400  66000  295000000           1                0               1   \n",
       "2         1401  15500  316000000           1                0               1   \n",
       "3         1400      0  303000000           1                0               1   \n",
       "4         1401      0  425000000           1                1               0   \n",
       "..         ...    ...        ...         ...              ...             ...   \n",
       "188       1400  28000  279000000           1                0               1   \n",
       "189       1401      0  300000000           1                0               1   \n",
       "190       1401      0  300000000           1                0               1   \n",
       "191       1401      0  315000000           1                0               1   \n",
       "192       1401      0  310000000           1                0               1   \n",
       "\n",
       "     رنگ_سفید  رنگ_مشکی  \n",
       "0           1         0  \n",
       "1           1         0  \n",
       "2           1         0  \n",
       "3           1         0  \n",
       "4           1         0  \n",
       "..        ...       ...  \n",
       "188         1         0  \n",
       "189         1         0  \n",
       "190         1         0  \n",
       "191         1         0  \n",
       "192         1         0  \n",
       "\n",
       "[174 rows x 8 columns]"
      ]
     },
     "execution_count": 18,
     "metadata": {},
     "output_type": "execute_result"
    }
   ],
   "source": [
    "quick"
   ]
  },
  {
   "cell_type": "markdown",
   "id": "8ad1a37a",
   "metadata": {},
   "source": [
    "## Remove the label"
   ]
  },
  {
   "cell_type": "code",
   "execution_count": 19,
   "id": "d280aa52",
   "metadata": {},
   "outputs": [],
   "source": [
    "labels = quick['قیمت']\n",
    "quick.drop(['قیمت'], axis=1, inplace=True)"
   ]
  },
  {
   "cell_type": "markdown",
   "id": "aadb9ef1",
   "metadata": {},
   "source": [
    "## Separating data into train and test sections"
   ]
  },
  {
   "cell_type": "code",
   "execution_count": 20,
   "id": "c9444be3",
   "metadata": {},
   "outputs": [],
   "source": [
    "from sklearn.model_selection import train_test_split\n",
    "\n",
    "x_train, x_test, y_train, y_test = train_test_split(quick, labels, test_size=0.1, shuffle=True)"
   ]
  },
  {
   "cell_type": "markdown",
   "id": "f729f567",
   "metadata": {},
   "source": [
    "## Model making"
   ]
  },
  {
   "cell_type": "code",
   "execution_count": 21,
   "id": "adf3ae73",
   "metadata": {},
   "outputs": [
    {
     "name": "stdout",
     "output_type": "stream",
     "text": [
      "6,766,337 MT\n"
     ]
    }
   ],
   "source": [
    "from sklearn.linear_model import LinearRegression\n",
    "from sklearn.metrics import mean_absolute_error\n",
    "\n",
    "quick_model = LinearRegression()\n",
    "quick_model.fit(x_train, y_train)\n",
    "prediction = quick_model.predict(x_test)\n",
    "\n",
    "error = int(mean_absolute_error(y_test, prediction))\n",
    "print(f'{error:,} MT')"
   ]
  },
  {
   "cell_type": "markdown",
   "id": "b6d7f884",
   "metadata": {},
   "source": [
    "## Save the model"
   ]
  },
  {
   "cell_type": "code",
   "execution_count": 22,
   "id": "7e30331f",
   "metadata": {},
   "outputs": [],
   "source": [
    "import pickle\n",
    "pickle.dump(quick_model, open('quick_model.sav', 'wb'))"
   ]
  }
 ],
 "metadata": {
  "kernelspec": {
   "display_name": "Python 3 (ipykernel)",
   "language": "python",
   "name": "python3"
  },
  "language_info": {
   "codemirror_mode": {
    "name": "ipython",
    "version": 3
   },
   "file_extension": ".py",
   "mimetype": "text/x-python",
   "name": "python",
   "nbconvert_exporter": "python",
   "pygments_lexer": "ipython3",
   "version": "3.8.5"
  }
 },
 "nbformat": 4,
 "nbformat_minor": 5
}
