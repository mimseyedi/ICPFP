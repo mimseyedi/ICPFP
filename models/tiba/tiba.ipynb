{
 "cells": [
  {
   "cell_type": "markdown",
   "id": "81a49771",
   "metadata": {},
   "source": [
    "# Pre-processing data and create model for Tiba"
   ]
  },
  {
   "cell_type": "markdown",
   "id": "835f25fc",
   "metadata": {},
   "source": [
    "## Importing packages"
   ]
  },
  {
   "cell_type": "code",
   "execution_count": 1,
   "id": "e98adae5",
   "metadata": {},
   "outputs": [],
   "source": [
    "import os\n",
    "import pandas as pd\n",
    "import warnings\n",
    "warnings.filterwarnings('ignore')"
   ]
  },
  {
   "cell_type": "markdown",
   "id": "6e535263",
   "metadata": {},
   "source": [
    "## Reading dataset"
   ]
  },
  {
   "cell_type": "code",
   "execution_count": 2,
   "id": "0b612f67",
   "metadata": {},
   "outputs": [],
   "source": [
    "tiba = pd.read_csv(f\"{'/'.join(os.getcwd().split('/')[:-2])}/datasets/tiba.csv\")"
   ]
  },
  {
   "cell_type": "code",
   "execution_count": 3,
   "id": "3278c037",
   "metadata": {},
   "outputs": [
    {
     "data": {
      "text/html": [
       "<div>\n",
       "<style scoped>\n",
       "    .dataframe tbody tr th:only-of-type {\n",
       "        vertical-align: middle;\n",
       "    }\n",
       "\n",
       "    .dataframe tbody tr th {\n",
       "        vertical-align: top;\n",
       "    }\n",
       "\n",
       "    .dataframe thead th {\n",
       "        text-align: right;\n",
       "    }\n",
       "</style>\n",
       "<table border=\"1\" class=\"dataframe\">\n",
       "  <thead>\n",
       "    <tr style=\"text-align: right;\">\n",
       "      <th></th>\n",
       "      <th>0</th>\n",
       "      <th>1</th>\n",
       "      <th>2</th>\n",
       "      <th>3</th>\n",
       "      <th>4</th>\n",
       "      <th>5</th>\n",
       "      <th>6</th>\n",
       "    </tr>\n",
       "  </thead>\n",
       "  <tbody>\n",
       "    <tr>\n",
       "      <th>0</th>\n",
       "      <td>تیبا،</td>\n",
       "      <td>1399</td>\n",
       "      <td>SX بنزینی-صندوق</td>\n",
       "      <td>29,000 کیلومتر</td>\n",
       "      <td>دنده ای</td>\n",
       "      <td>سفید</td>\n",
       "      <td>288,000,000</td>\n",
       "    </tr>\n",
       "    <tr>\n",
       "      <th>1</th>\n",
       "      <td>تیبا،</td>\n",
       "      <td>1401</td>\n",
       "      <td>SX بنزینی-صندوق</td>\n",
       "      <td>20,500 کیلومتر</td>\n",
       "      <td>دنده ای</td>\n",
       "      <td>سفید</td>\n",
       "      <td>290,000,000</td>\n",
       "    </tr>\n",
       "    <tr>\n",
       "      <th>2</th>\n",
       "      <td>تیبا،</td>\n",
       "      <td>1400</td>\n",
       "      <td>SX بنزینی-صندوق</td>\n",
       "      <td>1,300 کیلومتر</td>\n",
       "      <td>دنده ای</td>\n",
       "      <td>سفید</td>\n",
       "      <td>300,000,000</td>\n",
       "    </tr>\n",
       "    <tr>\n",
       "      <th>3</th>\n",
       "      <td>تیبا،</td>\n",
       "      <td>1400</td>\n",
       "      <td>EX-هاچ</td>\n",
       "      <td>15,000 کیلومتر</td>\n",
       "      <td>دنده ای</td>\n",
       "      <td>سفید</td>\n",
       "      <td>305,000,000</td>\n",
       "    </tr>\n",
       "    <tr>\n",
       "      <th>4</th>\n",
       "      <td>تیبا،</td>\n",
       "      <td>1393</td>\n",
       "      <td>SX بنزینی-صندوق</td>\n",
       "      <td>105,000 کیلومتر</td>\n",
       "      <td>دنده ای</td>\n",
       "      <td>سفید</td>\n",
       "      <td>232,000,000</td>\n",
       "    </tr>\n",
       "    <tr>\n",
       "      <th>...</th>\n",
       "      <td>...</td>\n",
       "      <td>...</td>\n",
       "      <td>...</td>\n",
       "      <td>...</td>\n",
       "      <td>...</td>\n",
       "      <td>...</td>\n",
       "      <td>...</td>\n",
       "    </tr>\n",
       "    <tr>\n",
       "      <th>162</th>\n",
       "      <td>تیبا،</td>\n",
       "      <td>1399</td>\n",
       "      <td>SX بنزینی-صندوق</td>\n",
       "      <td>7,000 کیلومتر</td>\n",
       "      <td>دنده ای</td>\n",
       "      <td>سفید</td>\n",
       "      <td>290,000,000</td>\n",
       "    </tr>\n",
       "    <tr>\n",
       "      <th>163</th>\n",
       "      <td>تیبا،</td>\n",
       "      <td>1401</td>\n",
       "      <td>EX-هاچ</td>\n",
       "      <td>21,000 کیلومتر</td>\n",
       "      <td>دنده ای</td>\n",
       "      <td>سفید</td>\n",
       "      <td>292,000,000</td>\n",
       "    </tr>\n",
       "    <tr>\n",
       "      <th>164</th>\n",
       "      <td>تیبا،</td>\n",
       "      <td>1395</td>\n",
       "      <td>SX بنزینی-صندوق</td>\n",
       "      <td>160,000 کیلومتر</td>\n",
       "      <td>دنده ای</td>\n",
       "      <td>سفید</td>\n",
       "      <td>220,000,000</td>\n",
       "    </tr>\n",
       "    <tr>\n",
       "      <th>165</th>\n",
       "      <td>تیبا،</td>\n",
       "      <td>1395</td>\n",
       "      <td>SX دوگانه سوز-صندوق</td>\n",
       "      <td>128,000 کیلومتر</td>\n",
       "      <td>دنده ای</td>\n",
       "      <td>سفید</td>\n",
       "      <td>239,000,000</td>\n",
       "    </tr>\n",
       "    <tr>\n",
       "      <th>166</th>\n",
       "      <td>تیبا،</td>\n",
       "      <td>1397</td>\n",
       "      <td>EX-هاچ</td>\n",
       "      <td>45,000 کیلومتر</td>\n",
       "      <td>دنده ای</td>\n",
       "      <td>آلبالویی</td>\n",
       "      <td>255,000,000</td>\n",
       "    </tr>\n",
       "  </tbody>\n",
       "</table>\n",
       "<p>167 rows × 7 columns</p>\n",
       "</div>"
      ],
      "text/plain": [
       "         0     1                    2                3        4         5  \\\n",
       "0    تیبا،  1399      SX بنزینی-صندوق   29,000 کیلومتر  دنده ای      سفید   \n",
       "1    تیبا،  1401      SX بنزینی-صندوق   20,500 کیلومتر  دنده ای      سفید   \n",
       "2    تیبا،  1400      SX بنزینی-صندوق    1,300 کیلومتر  دنده ای      سفید   \n",
       "3    تیبا،  1400               EX-هاچ   15,000 کیلومتر  دنده ای      سفید   \n",
       "4    تیبا،  1393      SX بنزینی-صندوق  105,000 کیلومتر  دنده ای      سفید   \n",
       "..     ...   ...                  ...              ...      ...       ...   \n",
       "162  تیبا،  1399      SX بنزینی-صندوق    7,000 کیلومتر  دنده ای      سفید   \n",
       "163  تیبا،  1401               EX-هاچ   21,000 کیلومتر  دنده ای      سفید   \n",
       "164  تیبا،  1395      SX بنزینی-صندوق  160,000 کیلومتر  دنده ای      سفید   \n",
       "165  تیبا،  1395  SX دوگانه سوز-صندوق  128,000 کیلومتر  دنده ای      سفید   \n",
       "166  تیبا،  1397               EX-هاچ   45,000 کیلومتر  دنده ای  آلبالویی   \n",
       "\n",
       "               6  \n",
       "0    288,000,000  \n",
       "1    290,000,000  \n",
       "2    300,000,000  \n",
       "3    305,000,000  \n",
       "4    232,000,000  \n",
       "..           ...  \n",
       "162  290,000,000  \n",
       "163  292,000,000  \n",
       "164  220,000,000  \n",
       "165  239,000,000  \n",
       "166  255,000,000  \n",
       "\n",
       "[167 rows x 7 columns]"
      ]
     },
     "execution_count": 3,
     "metadata": {},
     "output_type": "execute_result"
    }
   ],
   "source": [
    "tiba"
   ]
  },
  {
   "cell_type": "markdown",
   "id": "953c8860",
   "metadata": {},
   "source": [
    "## Change columns name"
   ]
  },
  {
   "cell_type": "code",
   "execution_count": 4,
   "id": "3f448f06",
   "metadata": {},
   "outputs": [],
   "source": [
    "def edit_cols_name(df):\n",
    "    df.rename(columns={'0': 'نام خودرو'}, inplace=True)\n",
    "    df.rename(columns={'1': 'سال تولید'}, inplace=True)\n",
    "    df.rename(columns={'2': 'مدل'}, inplace=True)\n",
    "    df.rename(columns={'3': 'کارکرد'}, inplace=True)\n",
    "    df.rename(columns={'4': 'گیربکس'}, inplace=True)\n",
    "    df.rename(columns={'5': 'رنگ'}, inplace=True)\n",
    "    df.rename(columns={'6': 'قیمت'}, inplace=True)\n",
    "    \n",
    "edit_cols_name(tiba)"
   ]
  },
  {
   "cell_type": "markdown",
   "id": "3c434e7e",
   "metadata": {},
   "source": [
    "## Convert km to standard mode"
   ]
  },
  {
   "cell_type": "code",
   "execution_count": 5,
   "id": "492b6efb",
   "metadata": {},
   "outputs": [],
   "source": [
    "def fix_km(df):\n",
    "    for index in range(len(df['کارکرد'])):\n",
    "        if df['کارکرد'][index].strip() == 'کارکرد صفر':\n",
    "            df['کارکرد'][index] = 0\n",
    "        elif 'کیلومتر' in df['کارکرد'][index]:\n",
    "            df['کارکرد'][index] = int(df['کارکرد'][index].split()[0].replace(',', ''))\n",
    "                   \n",
    "fix_km(tiba)"
   ]
  },
  {
   "cell_type": "markdown",
   "id": "eb9bae3f",
   "metadata": {},
   "source": [
    "## Convert price to standard mode"
   ]
  },
  {
   "cell_type": "code",
   "execution_count": 6,
   "id": "f01bd281",
   "metadata": {},
   "outputs": [],
   "source": [
    "for i in range(len(tiba)):\n",
    "    tiba['قیمت'][i] = tiba['قیمت'][i].replace(',', '')\n",
    "    tiba['قیمت'][i] = int(tiba['قیمت'][i])"
   ]
  },
  {
   "cell_type": "markdown",
   "id": "631a5808",
   "metadata": {},
   "source": [
    "## Check different car models and organize them"
   ]
  },
  {
   "cell_type": "code",
   "execution_count": 7,
   "id": "970ac129",
   "metadata": {},
   "outputs": [
    {
     "data": {
      "text/plain": [
       "EX-هاچ                 92\n",
       "SX بنزینی-صندوق        70\n",
       "SX دوگانه سوز-صندوق     2\n",
       "EX-صندوق                2\n",
       "SX-هاچ                  1\n",
       "Name: مدل, dtype: int64"
      ]
     },
     "execution_count": 7,
     "metadata": {},
     "output_type": "execute_result"
    }
   ],
   "source": [
    "tiba['مدل'].value_counts()"
   ]
  },
  {
   "cell_type": "code",
   "execution_count": 8,
   "id": "70c34a33",
   "metadata": {},
   "outputs": [],
   "source": [
    "for i in range(len(tiba)):\n",
    "        if tiba['مدل'][i] == 'EX-هاچ' or tiba['مدل'][i] == 'EX-صندوق':\n",
    "            tiba['مدل'][i] = 'EX sandoq'\n",
    "        if tiba['مدل'][i] == 'SX بنزینی-صندوق' or tiba['مدل'][i] == 'SX-هاچ':\n",
    "            tiba['مدل'][i] = 'SX sandoq'\n",
    "            \n",
    "tiba.drop(tiba[tiba['مدل'] == 'SX دوگانه سوز-صندوق'].index, axis=0, inplace=True)"
   ]
  },
  {
   "cell_type": "code",
   "execution_count": 9,
   "id": "0e95e1f3",
   "metadata": {},
   "outputs": [
    {
     "data": {
      "text/plain": [
       "EX sandoq    94\n",
       "SX sandoq    71\n",
       "Name: مدل, dtype: int64"
      ]
     },
     "execution_count": 9,
     "metadata": {},
     "output_type": "execute_result"
    }
   ],
   "source": [
    "tiba['مدل'].value_counts()"
   ]
  },
  {
   "cell_type": "markdown",
   "id": "463b29ce",
   "metadata": {},
   "source": [
    "## Delete the especially missing value"
   ]
  },
  {
   "cell_type": "code",
   "execution_count": 10,
   "id": "77109796",
   "metadata": {},
   "outputs": [],
   "source": [
    "tiba.drop(tiba[tiba['کارکرد'] == 'کارکرده'].index, axis=0, inplace=True)"
   ]
  },
  {
   "cell_type": "markdown",
   "id": "1680f252",
   "metadata": {},
   "source": [
    "## Check different car colors and organize them"
   ]
  },
  {
   "cell_type": "code",
   "execution_count": 11,
   "id": "06270f50",
   "metadata": {},
   "outputs": [
    {
     "data": {
      "text/plain": [
       "سفید         144\n",
       "نوک مدادی      7\n",
       "نقره ای        3\n",
       "مشکی           2\n",
       "خاکستری        2\n",
       "آلبالویی       2\n",
       "قهوه ای        2\n",
       "تیتانیوم       1\n",
       "سفید صدفی      1\n",
       "Name: رنگ, dtype: int64"
      ]
     },
     "execution_count": 11,
     "metadata": {},
     "output_type": "execute_result"
    }
   ],
   "source": [
    "tiba['رنگ'].value_counts()"
   ]
  },
  {
   "cell_type": "code",
   "execution_count": 12,
   "id": "6e1b66fa",
   "metadata": {},
   "outputs": [],
   "source": [
    "tiba.drop(tiba[tiba['رنگ'] == 'نوک مدادی'].index, axis=0, inplace=True)\n",
    "tiba.drop(tiba[tiba['رنگ'] == 'نقره ای'].index, axis=0, inplace=True)\n",
    "tiba.drop(tiba[tiba['رنگ'] == 'قهوه ای'].index, axis=0, inplace=True)\n",
    "tiba.drop(tiba[tiba['رنگ'] == 'آلبالویی'].index, axis=0, inplace=True)\n",
    "tiba.drop(tiba[tiba['رنگ'] == 'مشکی'].index, axis=0, inplace=True)\n",
    "tiba.drop(tiba[tiba['رنگ'] == 'خاکستری'].index, axis=0, inplace=True)\n",
    "tiba.drop(tiba[tiba['رنگ'] == 'سفید صدفی'].index, axis=0, inplace=True)\n",
    "tiba.drop(tiba[tiba['رنگ'] == 'تیتانیوم'].index, axis=0, inplace=True)"
   ]
  },
  {
   "cell_type": "code",
   "execution_count": 13,
   "id": "6ac2bba7",
   "metadata": {},
   "outputs": [
    {
     "data": {
      "text/plain": [
       "سفید    144\n",
       "Name: رنگ, dtype: int64"
      ]
     },
     "execution_count": 13,
     "metadata": {},
     "output_type": "execute_result"
    }
   ],
   "source": [
    "tiba['رنگ'].value_counts()"
   ]
  },
  {
   "cell_type": "markdown",
   "id": "b9f3bf8b",
   "metadata": {},
   "source": [
    "## Remove extra fields"
   ]
  },
  {
   "cell_type": "code",
   "execution_count": 14,
   "id": "b195df8f",
   "metadata": {},
   "outputs": [],
   "source": [
    "tiba.drop(['نام خودرو'], axis=1, inplace=True)"
   ]
  },
  {
   "cell_type": "code",
   "execution_count": 15,
   "id": "cb6fc088",
   "metadata": {},
   "outputs": [
    {
     "data": {
      "text/html": [
       "<div>\n",
       "<style scoped>\n",
       "    .dataframe tbody tr th:only-of-type {\n",
       "        vertical-align: middle;\n",
       "    }\n",
       "\n",
       "    .dataframe tbody tr th {\n",
       "        vertical-align: top;\n",
       "    }\n",
       "\n",
       "    .dataframe thead th {\n",
       "        text-align: right;\n",
       "    }\n",
       "</style>\n",
       "<table border=\"1\" class=\"dataframe\">\n",
       "  <thead>\n",
       "    <tr style=\"text-align: right;\">\n",
       "      <th></th>\n",
       "      <th>سال تولید</th>\n",
       "      <th>مدل</th>\n",
       "      <th>کارکرد</th>\n",
       "      <th>گیربکس</th>\n",
       "      <th>رنگ</th>\n",
       "      <th>قیمت</th>\n",
       "    </tr>\n",
       "  </thead>\n",
       "  <tbody>\n",
       "    <tr>\n",
       "      <th>0</th>\n",
       "      <td>1399</td>\n",
       "      <td>SX sandoq</td>\n",
       "      <td>29000</td>\n",
       "      <td>دنده ای</td>\n",
       "      <td>سفید</td>\n",
       "      <td>288000000</td>\n",
       "    </tr>\n",
       "    <tr>\n",
       "      <th>1</th>\n",
       "      <td>1401</td>\n",
       "      <td>SX sandoq</td>\n",
       "      <td>20500</td>\n",
       "      <td>دنده ای</td>\n",
       "      <td>سفید</td>\n",
       "      <td>290000000</td>\n",
       "    </tr>\n",
       "    <tr>\n",
       "      <th>2</th>\n",
       "      <td>1400</td>\n",
       "      <td>SX sandoq</td>\n",
       "      <td>1300</td>\n",
       "      <td>دنده ای</td>\n",
       "      <td>سفید</td>\n",
       "      <td>300000000</td>\n",
       "    </tr>\n",
       "    <tr>\n",
       "      <th>3</th>\n",
       "      <td>1400</td>\n",
       "      <td>EX sandoq</td>\n",
       "      <td>15000</td>\n",
       "      <td>دنده ای</td>\n",
       "      <td>سفید</td>\n",
       "      <td>305000000</td>\n",
       "    </tr>\n",
       "    <tr>\n",
       "      <th>4</th>\n",
       "      <td>1393</td>\n",
       "      <td>SX sandoq</td>\n",
       "      <td>105000</td>\n",
       "      <td>دنده ای</td>\n",
       "      <td>سفید</td>\n",
       "      <td>232000000</td>\n",
       "    </tr>\n",
       "    <tr>\n",
       "      <th>...</th>\n",
       "      <td>...</td>\n",
       "      <td>...</td>\n",
       "      <td>...</td>\n",
       "      <td>...</td>\n",
       "      <td>...</td>\n",
       "      <td>...</td>\n",
       "    </tr>\n",
       "    <tr>\n",
       "      <th>159</th>\n",
       "      <td>1401</td>\n",
       "      <td>EX sandoq</td>\n",
       "      <td>11000</td>\n",
       "      <td>دنده ای</td>\n",
       "      <td>سفید</td>\n",
       "      <td>289000000</td>\n",
       "    </tr>\n",
       "    <tr>\n",
       "      <th>160</th>\n",
       "      <td>1400</td>\n",
       "      <td>EX sandoq</td>\n",
       "      <td>6000</td>\n",
       "      <td>دنده ای</td>\n",
       "      <td>سفید</td>\n",
       "      <td>280000000</td>\n",
       "    </tr>\n",
       "    <tr>\n",
       "      <th>162</th>\n",
       "      <td>1399</td>\n",
       "      <td>SX sandoq</td>\n",
       "      <td>7000</td>\n",
       "      <td>دنده ای</td>\n",
       "      <td>سفید</td>\n",
       "      <td>290000000</td>\n",
       "    </tr>\n",
       "    <tr>\n",
       "      <th>163</th>\n",
       "      <td>1401</td>\n",
       "      <td>EX sandoq</td>\n",
       "      <td>21000</td>\n",
       "      <td>دنده ای</td>\n",
       "      <td>سفید</td>\n",
       "      <td>292000000</td>\n",
       "    </tr>\n",
       "    <tr>\n",
       "      <th>164</th>\n",
       "      <td>1395</td>\n",
       "      <td>SX sandoq</td>\n",
       "      <td>160000</td>\n",
       "      <td>دنده ای</td>\n",
       "      <td>سفید</td>\n",
       "      <td>220000000</td>\n",
       "    </tr>\n",
       "  </tbody>\n",
       "</table>\n",
       "<p>144 rows × 6 columns</p>\n",
       "</div>"
      ],
      "text/plain": [
       "     سال تولید        مدل  کارکرد   گیربکس   رنگ       قیمت\n",
       "0         1399  SX sandoq   29000  دنده ای  سفید  288000000\n",
       "1         1401  SX sandoq   20500  دنده ای  سفید  290000000\n",
       "2         1400  SX sandoq    1300  دنده ای  سفید  300000000\n",
       "3         1400  EX sandoq   15000  دنده ای  سفید  305000000\n",
       "4         1393  SX sandoq  105000  دنده ای  سفید  232000000\n",
       "..         ...        ...     ...      ...   ...        ...\n",
       "159       1401  EX sandoq   11000  دنده ای  سفید  289000000\n",
       "160       1400  EX sandoq    6000  دنده ای  سفید  280000000\n",
       "162       1399  SX sandoq    7000  دنده ای  سفید  290000000\n",
       "163       1401  EX sandoq   21000  دنده ای  سفید  292000000\n",
       "164       1395  SX sandoq  160000  دنده ای  سفید  220000000\n",
       "\n",
       "[144 rows x 6 columns]"
      ]
     },
     "execution_count": 15,
     "metadata": {},
     "output_type": "execute_result"
    }
   ],
   "source": [
    "tiba"
   ]
  },
  {
   "cell_type": "markdown",
   "id": "a39dea18",
   "metadata": {},
   "source": [
    "## One-hot fields"
   ]
  },
  {
   "cell_type": "code",
   "execution_count": 16,
   "id": "e27a15ce",
   "metadata": {},
   "outputs": [],
   "source": [
    "def make_one_hot(data, field):\n",
    "    temp = pd.get_dummies(data[field], prefix=field)\n",
    "    data.drop(field, axis=1, inplace=True)\n",
    "    return pd.concat([data, temp], axis=1)"
   ]
  },
  {
   "cell_type": "code",
   "execution_count": 17,
   "id": "e37a5cd2",
   "metadata": {},
   "outputs": [],
   "source": [
    "tiba = make_one_hot(tiba, 'مدل')\n",
    "tiba = make_one_hot(tiba, 'گیربکس')\n",
    "tiba = make_one_hot(tiba, 'رنگ')"
   ]
  },
  {
   "cell_type": "code",
   "execution_count": 18,
   "id": "7f010e54",
   "metadata": {},
   "outputs": [
    {
     "data": {
      "text/html": [
       "<div>\n",
       "<style scoped>\n",
       "    .dataframe tbody tr th:only-of-type {\n",
       "        vertical-align: middle;\n",
       "    }\n",
       "\n",
       "    .dataframe tbody tr th {\n",
       "        vertical-align: top;\n",
       "    }\n",
       "\n",
       "    .dataframe thead th {\n",
       "        text-align: right;\n",
       "    }\n",
       "</style>\n",
       "<table border=\"1\" class=\"dataframe\">\n",
       "  <thead>\n",
       "    <tr style=\"text-align: right;\">\n",
       "      <th></th>\n",
       "      <th>سال تولید</th>\n",
       "      <th>کارکرد</th>\n",
       "      <th>قیمت</th>\n",
       "      <th>مدل_EX sandoq</th>\n",
       "      <th>مدل_SX sandoq</th>\n",
       "      <th>گیربکس_دنده ای</th>\n",
       "      <th>رنگ_سفید</th>\n",
       "    </tr>\n",
       "  </thead>\n",
       "  <tbody>\n",
       "    <tr>\n",
       "      <th>0</th>\n",
       "      <td>1399</td>\n",
       "      <td>29000</td>\n",
       "      <td>288000000</td>\n",
       "      <td>0</td>\n",
       "      <td>1</td>\n",
       "      <td>1</td>\n",
       "      <td>1</td>\n",
       "    </tr>\n",
       "    <tr>\n",
       "      <th>1</th>\n",
       "      <td>1401</td>\n",
       "      <td>20500</td>\n",
       "      <td>290000000</td>\n",
       "      <td>0</td>\n",
       "      <td>1</td>\n",
       "      <td>1</td>\n",
       "      <td>1</td>\n",
       "    </tr>\n",
       "    <tr>\n",
       "      <th>2</th>\n",
       "      <td>1400</td>\n",
       "      <td>1300</td>\n",
       "      <td>300000000</td>\n",
       "      <td>0</td>\n",
       "      <td>1</td>\n",
       "      <td>1</td>\n",
       "      <td>1</td>\n",
       "    </tr>\n",
       "    <tr>\n",
       "      <th>3</th>\n",
       "      <td>1400</td>\n",
       "      <td>15000</td>\n",
       "      <td>305000000</td>\n",
       "      <td>1</td>\n",
       "      <td>0</td>\n",
       "      <td>1</td>\n",
       "      <td>1</td>\n",
       "    </tr>\n",
       "    <tr>\n",
       "      <th>4</th>\n",
       "      <td>1393</td>\n",
       "      <td>105000</td>\n",
       "      <td>232000000</td>\n",
       "      <td>0</td>\n",
       "      <td>1</td>\n",
       "      <td>1</td>\n",
       "      <td>1</td>\n",
       "    </tr>\n",
       "    <tr>\n",
       "      <th>...</th>\n",
       "      <td>...</td>\n",
       "      <td>...</td>\n",
       "      <td>...</td>\n",
       "      <td>...</td>\n",
       "      <td>...</td>\n",
       "      <td>...</td>\n",
       "      <td>...</td>\n",
       "    </tr>\n",
       "    <tr>\n",
       "      <th>159</th>\n",
       "      <td>1401</td>\n",
       "      <td>11000</td>\n",
       "      <td>289000000</td>\n",
       "      <td>1</td>\n",
       "      <td>0</td>\n",
       "      <td>1</td>\n",
       "      <td>1</td>\n",
       "    </tr>\n",
       "    <tr>\n",
       "      <th>160</th>\n",
       "      <td>1400</td>\n",
       "      <td>6000</td>\n",
       "      <td>280000000</td>\n",
       "      <td>1</td>\n",
       "      <td>0</td>\n",
       "      <td>1</td>\n",
       "      <td>1</td>\n",
       "    </tr>\n",
       "    <tr>\n",
       "      <th>162</th>\n",
       "      <td>1399</td>\n",
       "      <td>7000</td>\n",
       "      <td>290000000</td>\n",
       "      <td>0</td>\n",
       "      <td>1</td>\n",
       "      <td>1</td>\n",
       "      <td>1</td>\n",
       "    </tr>\n",
       "    <tr>\n",
       "      <th>163</th>\n",
       "      <td>1401</td>\n",
       "      <td>21000</td>\n",
       "      <td>292000000</td>\n",
       "      <td>1</td>\n",
       "      <td>0</td>\n",
       "      <td>1</td>\n",
       "      <td>1</td>\n",
       "    </tr>\n",
       "    <tr>\n",
       "      <th>164</th>\n",
       "      <td>1395</td>\n",
       "      <td>160000</td>\n",
       "      <td>220000000</td>\n",
       "      <td>0</td>\n",
       "      <td>1</td>\n",
       "      <td>1</td>\n",
       "      <td>1</td>\n",
       "    </tr>\n",
       "  </tbody>\n",
       "</table>\n",
       "<p>144 rows × 7 columns</p>\n",
       "</div>"
      ],
      "text/plain": [
       "     سال تولید  کارکرد       قیمت  مدل_EX sandoq  مدل_SX sandoq  \\\n",
       "0         1399   29000  288000000              0              1   \n",
       "1         1401   20500  290000000              0              1   \n",
       "2         1400    1300  300000000              0              1   \n",
       "3         1400   15000  305000000              1              0   \n",
       "4         1393  105000  232000000              0              1   \n",
       "..         ...     ...        ...            ...            ...   \n",
       "159       1401   11000  289000000              1              0   \n",
       "160       1400    6000  280000000              1              0   \n",
       "162       1399    7000  290000000              0              1   \n",
       "163       1401   21000  292000000              1              0   \n",
       "164       1395  160000  220000000              0              1   \n",
       "\n",
       "     گیربکس_دنده ای  رنگ_سفید  \n",
       "0                 1         1  \n",
       "1                 1         1  \n",
       "2                 1         1  \n",
       "3                 1         1  \n",
       "4                 1         1  \n",
       "..              ...       ...  \n",
       "159               1         1  \n",
       "160               1         1  \n",
       "162               1         1  \n",
       "163               1         1  \n",
       "164               1         1  \n",
       "\n",
       "[144 rows x 7 columns]"
      ]
     },
     "execution_count": 18,
     "metadata": {},
     "output_type": "execute_result"
    }
   ],
   "source": [
    "tiba"
   ]
  },
  {
   "cell_type": "markdown",
   "id": "8b094129",
   "metadata": {},
   "source": [
    "## Remove the label"
   ]
  },
  {
   "cell_type": "code",
   "execution_count": 19,
   "id": "2fccf6d4",
   "metadata": {},
   "outputs": [],
   "source": [
    "labels = tiba['قیمت']\n",
    "tiba.drop(['قیمت'], axis=1, inplace=True)"
   ]
  },
  {
   "cell_type": "markdown",
   "id": "b302f068",
   "metadata": {},
   "source": [
    "## Separating data into train and test sections"
   ]
  },
  {
   "cell_type": "code",
   "execution_count": 20,
   "id": "94d13a9e",
   "metadata": {},
   "outputs": [],
   "source": [
    "from sklearn.model_selection import train_test_split\n",
    "\n",
    "x_train, x_test, y_train, y_test = train_test_split(tiba, labels, test_size=0.1, shuffle=True)"
   ]
  },
  {
   "cell_type": "markdown",
   "id": "ed5e653f",
   "metadata": {},
   "source": [
    "## Model making"
   ]
  },
  {
   "cell_type": "code",
   "execution_count": 21,
   "id": "99ba4aaf",
   "metadata": {},
   "outputs": [
    {
     "name": "stdout",
     "output_type": "stream",
     "text": [
      "5,685,327 MT\n"
     ]
    }
   ],
   "source": [
    "from sklearn.linear_model import LinearRegression\n",
    "from sklearn.metrics import mean_absolute_error\n",
    "\n",
    "tiba_model = LinearRegression()\n",
    "tiba_model.fit(x_train, y_train)\n",
    "prediction = tiba_model.predict(x_test)\n",
    "\n",
    "error = int(mean_absolute_error(y_test, prediction))\n",
    "print(f'{error:,} MT')"
   ]
  },
  {
   "cell_type": "markdown",
   "id": "38581a24",
   "metadata": {},
   "source": [
    "## Save the model"
   ]
  },
  {
   "cell_type": "code",
   "execution_count": 22,
   "id": "3f628524",
   "metadata": {},
   "outputs": [],
   "source": [
    "import pickle\n",
    "pickle.dump(tiba_model, open('tiba_model.sav', 'wb'))"
   ]
  }
 ],
 "metadata": {
  "kernelspec": {
   "display_name": "Python 3 (ipykernel)",
   "language": "python",
   "name": "python3"
  },
  "language_info": {
   "codemirror_mode": {
    "name": "ipython",
    "version": 3
   },
   "file_extension": ".py",
   "mimetype": "text/x-python",
   "name": "python",
   "nbconvert_exporter": "python",
   "pygments_lexer": "ipython3",
   "version": "3.8.5"
  }
 },
 "nbformat": 4,
 "nbformat_minor": 5
}
