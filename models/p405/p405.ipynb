{
 "cells": [
  {
   "cell_type": "markdown",
   "id": "b265c255",
   "metadata": {},
   "source": [
    "# Pre-processing data and create model for Peugeot 405"
   ]
  },
  {
   "cell_type": "markdown",
   "id": "8100906a",
   "metadata": {},
   "source": [
    "## Importing packages"
   ]
  },
  {
   "cell_type": "code",
   "execution_count": 1,
   "id": "123ca9e0",
   "metadata": {},
   "outputs": [],
   "source": [
    "import os\n",
    "import pandas as pd\n",
    "import warnings\n",
    "warnings.filterwarnings('ignore')"
   ]
  },
  {
   "cell_type": "markdown",
   "id": "18ebf9d0",
   "metadata": {},
   "source": [
    "## Reading dataset"
   ]
  },
  {
   "cell_type": "code",
   "execution_count": 2,
   "id": "5da4f1f6",
   "metadata": {},
   "outputs": [],
   "source": [
    "p405 = pd.read_csv(f\"{'/'.join(os.getcwd().split('/')[:-2])}/datasets/p405.csv\")"
   ]
  },
  {
   "cell_type": "code",
   "execution_count": 3,
   "id": "3e252961",
   "metadata": {},
   "outputs": [
    {
     "data": {
      "text/html": [
       "<div>\n",
       "<style scoped>\n",
       "    .dataframe tbody tr th:only-of-type {\n",
       "        vertical-align: middle;\n",
       "    }\n",
       "\n",
       "    .dataframe tbody tr th {\n",
       "        vertical-align: top;\n",
       "    }\n",
       "\n",
       "    .dataframe thead th {\n",
       "        text-align: right;\n",
       "    }\n",
       "</style>\n",
       "<table border=\"1\" class=\"dataframe\">\n",
       "  <thead>\n",
       "    <tr style=\"text-align: right;\">\n",
       "      <th></th>\n",
       "      <th>0</th>\n",
       "      <th>1</th>\n",
       "      <th>2</th>\n",
       "      <th>3</th>\n",
       "      <th>4</th>\n",
       "      <th>5</th>\n",
       "      <th>6</th>\n",
       "    </tr>\n",
       "  </thead>\n",
       "  <tbody>\n",
       "    <tr>\n",
       "      <th>0</th>\n",
       "      <td>پژو،</td>\n",
       "      <td>1396</td>\n",
       "      <td>SLX-405</td>\n",
       "      <td>60,000 کیلومتر</td>\n",
       "      <td>دنده ای</td>\n",
       "      <td>مشکی</td>\n",
       "      <td>370,000,000</td>\n",
       "    </tr>\n",
       "    <tr>\n",
       "      <th>1</th>\n",
       "      <td>پژو،</td>\n",
       "      <td>1397</td>\n",
       "      <td>GLX دوگانه سوز-405</td>\n",
       "      <td>52,000 کیلومتر</td>\n",
       "      <td>دنده ای</td>\n",
       "      <td>نوک مدادی</td>\n",
       "      <td>350,000,000</td>\n",
       "    </tr>\n",
       "    <tr>\n",
       "      <th>2</th>\n",
       "      <td>پژو،</td>\n",
       "      <td>1395</td>\n",
       "      <td>GLX بنزینی-405</td>\n",
       "      <td>190,000 کیلومتر</td>\n",
       "      <td>دنده ای</td>\n",
       "      <td>نوک مدادی</td>\n",
       "      <td>235,000,000</td>\n",
       "    </tr>\n",
       "    <tr>\n",
       "      <th>3</th>\n",
       "      <td>پژو،</td>\n",
       "      <td>1398</td>\n",
       "      <td>GLX بنزینی-405</td>\n",
       "      <td>40,000 کیلومتر</td>\n",
       "      <td>دنده ای</td>\n",
       "      <td>نوک مدادی</td>\n",
       "      <td>380,000,000</td>\n",
       "    </tr>\n",
       "    <tr>\n",
       "      <th>4</th>\n",
       "      <td>پژو،</td>\n",
       "      <td>1400</td>\n",
       "      <td>SLX-405</td>\n",
       "      <td>9,300 کیلومتر</td>\n",
       "      <td>دنده ای</td>\n",
       "      <td>خاکستری</td>\n",
       "      <td>455,000,000</td>\n",
       "    </tr>\n",
       "    <tr>\n",
       "      <th>...</th>\n",
       "      <td>...</td>\n",
       "      <td>...</td>\n",
       "      <td>...</td>\n",
       "      <td>...</td>\n",
       "      <td>...</td>\n",
       "      <td>...</td>\n",
       "      <td>...</td>\n",
       "    </tr>\n",
       "    <tr>\n",
       "      <th>100</th>\n",
       "      <td>پژو،</td>\n",
       "      <td>1395</td>\n",
       "      <td>GLX بنزینی-405</td>\n",
       "      <td>93,000 کیلومتر</td>\n",
       "      <td>دنده ای</td>\n",
       "      <td>نقره ای</td>\n",
       "      <td>270,000,000</td>\n",
       "    </tr>\n",
       "    <tr>\n",
       "      <th>101</th>\n",
       "      <td>پژو،</td>\n",
       "      <td>1395</td>\n",
       "      <td>SLX-405</td>\n",
       "      <td>77,000 کیلومتر</td>\n",
       "      <td>دنده ای</td>\n",
       "      <td>مشکی</td>\n",
       "      <td>332,000,000</td>\n",
       "    </tr>\n",
       "    <tr>\n",
       "      <th>102</th>\n",
       "      <td>پژو،</td>\n",
       "      <td>1393</td>\n",
       "      <td>SLX-405</td>\n",
       "      <td>40,000 کیلومتر</td>\n",
       "      <td>دنده ای</td>\n",
       "      <td>سفید</td>\n",
       "      <td>340,000,000</td>\n",
       "    </tr>\n",
       "    <tr>\n",
       "      <th>103</th>\n",
       "      <td>پژو،</td>\n",
       "      <td>1398</td>\n",
       "      <td>SLX-405</td>\n",
       "      <td>100,000 کیلومتر</td>\n",
       "      <td>دنده ای</td>\n",
       "      <td>سفید</td>\n",
       "      <td>385,000,000</td>\n",
       "    </tr>\n",
       "    <tr>\n",
       "      <th>104</th>\n",
       "      <td>پژو،</td>\n",
       "      <td>1398</td>\n",
       "      <td>GLX بنزینی-405</td>\n",
       "      <td>76,000 کیلومتر</td>\n",
       "      <td>دنده ای</td>\n",
       "      <td>خاکستری</td>\n",
       "      <td>335,000,000</td>\n",
       "    </tr>\n",
       "  </tbody>\n",
       "</table>\n",
       "<p>105 rows × 7 columns</p>\n",
       "</div>"
      ],
      "text/plain": [
       "        0     1                   2                3        4          5  \\\n",
       "0    پژو،  1396             SLX-405   60,000 کیلومتر  دنده ای       مشکی   \n",
       "1    پژو،  1397  GLX دوگانه سوز-405   52,000 کیلومتر  دنده ای  نوک مدادی   \n",
       "2    پژو،  1395      GLX بنزینی-405  190,000 کیلومتر  دنده ای  نوک مدادی   \n",
       "3    پژو،  1398      GLX بنزینی-405   40,000 کیلومتر  دنده ای  نوک مدادی   \n",
       "4    پژو،  1400             SLX-405    9,300 کیلومتر  دنده ای    خاکستری   \n",
       "..    ...   ...                 ...              ...      ...        ...   \n",
       "100  پژو،  1395      GLX بنزینی-405   93,000 کیلومتر  دنده ای    نقره ای   \n",
       "101  پژو،  1395             SLX-405   77,000 کیلومتر  دنده ای       مشکی   \n",
       "102  پژو،  1393             SLX-405   40,000 کیلومتر  دنده ای       سفید   \n",
       "103  پژو،  1398             SLX-405  100,000 کیلومتر  دنده ای       سفید   \n",
       "104  پژو،  1398      GLX بنزینی-405   76,000 کیلومتر  دنده ای    خاکستری   \n",
       "\n",
       "               6  \n",
       "0    370,000,000  \n",
       "1    350,000,000  \n",
       "2    235,000,000  \n",
       "3    380,000,000  \n",
       "4    455,000,000  \n",
       "..           ...  \n",
       "100  270,000,000  \n",
       "101  332,000,000  \n",
       "102  340,000,000  \n",
       "103  385,000,000  \n",
       "104  335,000,000  \n",
       "\n",
       "[105 rows x 7 columns]"
      ]
     },
     "execution_count": 3,
     "metadata": {},
     "output_type": "execute_result"
    }
   ],
   "source": [
    "p405"
   ]
  },
  {
   "cell_type": "markdown",
   "id": "fb24a5ac",
   "metadata": {},
   "source": [
    "## Change columns name"
   ]
  },
  {
   "cell_type": "code",
   "execution_count": 4,
   "id": "673c6828",
   "metadata": {},
   "outputs": [],
   "source": [
    "def edit_cols_name(df):\n",
    "    df.rename(columns={'0': 'نام خودرو'}, inplace=True)\n",
    "    df.rename(columns={'1': 'سال تولید'}, inplace=True)\n",
    "    df.rename(columns={'2': 'مدل'}, inplace=True)\n",
    "    df.rename(columns={'3': 'کارکرد'}, inplace=True)\n",
    "    df.rename(columns={'4': 'گیربکس'}, inplace=True)\n",
    "    df.rename(columns={'5': 'رنگ'}, inplace=True)\n",
    "    df.rename(columns={'6': 'قیمت'}, inplace=True)\n",
    "    \n",
    "edit_cols_name(p405)"
   ]
  },
  {
   "cell_type": "markdown",
   "id": "130b8a55",
   "metadata": {},
   "source": [
    "## Convert km to standard mode"
   ]
  },
  {
   "cell_type": "code",
   "execution_count": 5,
   "id": "a13eadaf",
   "metadata": {},
   "outputs": [],
   "source": [
    "def fix_km(df):\n",
    "    for index in range(len(df['کارکرد'])):\n",
    "        if df['کارکرد'][index].strip() == 'کارکرد صفر':\n",
    "            df['کارکرد'][index] = 0\n",
    "        elif 'کیلومتر' in df['کارکرد'][index]:\n",
    "            df['کارکرد'][index] = int(df['کارکرد'][index].split()[0].replace(',', ''))\n",
    "                   \n",
    "fix_km(p405)"
   ]
  },
  {
   "cell_type": "markdown",
   "id": "118785b9",
   "metadata": {},
   "source": [
    "## Convert price to standard mode"
   ]
  },
  {
   "cell_type": "code",
   "execution_count": 6,
   "id": "d7f67e74",
   "metadata": {},
   "outputs": [],
   "source": [
    "for i in range(len(p405)):\n",
    "    p405['قیمت'][i] = p405['قیمت'][i].replace(',', '')\n",
    "    p405['قیمت'][i] = int(p405['قیمت'][i])"
   ]
  },
  {
   "cell_type": "markdown",
   "id": "c449c0e8",
   "metadata": {},
   "source": [
    "## Check different car models and organize them"
   ]
  },
  {
   "cell_type": "code",
   "execution_count": 7,
   "id": "2b4681f1",
   "metadata": {},
   "outputs": [
    {
     "data": {
      "text/plain": [
       "GLX بنزینی-405        43\n",
       "SLX-405               38\n",
       "GLX دوگانه سوز-405    23\n",
       "GL-405                 1\n",
       "Name: مدل, dtype: int64"
      ]
     },
     "execution_count": 7,
     "metadata": {},
     "output_type": "execute_result"
    }
   ],
   "source": [
    "p405['مدل'].value_counts()"
   ]
  },
  {
   "cell_type": "code",
   "execution_count": 8,
   "id": "271d16ba",
   "metadata": {},
   "outputs": [],
   "source": [
    "for i in range(len(p405)):\n",
    "    p405['مدل'][i] = p405['مدل'][i].split('-')[0]\n",
    "    \n",
    "for i in range(len(p405)):\n",
    "    if p405['مدل'][i] == 'GLX بنزینی':\n",
    "        p405['مدل'][i] = 'GLX'\n",
    "    elif p405['مدل'][i] == 'GLX دوگانه سوز':\n",
    "        p405['مدل'][i] = 'GLX 2fuel'\n",
    "        \n",
    "p405.drop(p405[p405['مدل'] == 'GL'].index, axis=0, inplace=True)"
   ]
  },
  {
   "cell_type": "code",
   "execution_count": 9,
   "id": "499013e2",
   "metadata": {
    "scrolled": true
   },
   "outputs": [
    {
     "data": {
      "text/plain": [
       "GLX          43\n",
       "SLX          38\n",
       "GLX 2fuel    23\n",
       "Name: مدل, dtype: int64"
      ]
     },
     "execution_count": 9,
     "metadata": {},
     "output_type": "execute_result"
    }
   ],
   "source": [
    "p405['مدل'].value_counts()"
   ]
  },
  {
   "cell_type": "markdown",
   "id": "b44808b0",
   "metadata": {},
   "source": [
    "## Delete the especially missing value"
   ]
  },
  {
   "cell_type": "code",
   "execution_count": 10,
   "id": "4935d9b7",
   "metadata": {},
   "outputs": [],
   "source": [
    "p405.drop(p405[p405['کارکرد'] == 'کارکرده'].index, axis=0, inplace=True)"
   ]
  },
  {
   "cell_type": "markdown",
   "id": "a67b52e8",
   "metadata": {},
   "source": [
    "## Check different car colors and organize them"
   ]
  },
  {
   "cell_type": "code",
   "execution_count": 11,
   "id": "31b27e7a",
   "metadata": {},
   "outputs": [
    {
     "data": {
      "text/plain": [
       "خاکستری      30\n",
       "سفید         25\n",
       "نقره ای      23\n",
       "نوک مدادی    10\n",
       "مشکی          8\n",
       "زرد           2\n",
       "دلفینی        2\n",
       "سرمه ای       1\n",
       "Name: رنگ, dtype: int64"
      ]
     },
     "execution_count": 11,
     "metadata": {},
     "output_type": "execute_result"
    }
   ],
   "source": [
    "p405['رنگ'].value_counts()"
   ]
  },
  {
   "cell_type": "code",
   "execution_count": 12,
   "id": "ec365b9a",
   "metadata": {},
   "outputs": [],
   "source": [
    "p405.drop(p405[p405['رنگ'] == 'مشکی'].index, axis=0, inplace=True)\n",
    "p405.drop(p405[p405['رنگ'] == 'زرد'].index, axis=0, inplace=True)\n",
    "p405.drop(p405[p405['رنگ'] == 'دلفینی'].index, axis=0, inplace=True)\n",
    "p405.drop(p405[p405['رنگ'] == 'سرمه ای'].index, axis=0, inplace=True)"
   ]
  },
  {
   "cell_type": "code",
   "execution_count": 13,
   "id": "1fa95059",
   "metadata": {
    "scrolled": true
   },
   "outputs": [
    {
     "data": {
      "text/plain": [
       "خاکستری      30\n",
       "سفید         25\n",
       "نقره ای      23\n",
       "نوک مدادی    10\n",
       "Name: رنگ, dtype: int64"
      ]
     },
     "execution_count": 13,
     "metadata": {},
     "output_type": "execute_result"
    }
   ],
   "source": [
    "p405['رنگ'].value_counts()"
   ]
  },
  {
   "cell_type": "markdown",
   "id": "87d45813",
   "metadata": {},
   "source": [
    "## Remove extra fields"
   ]
  },
  {
   "cell_type": "code",
   "execution_count": 14,
   "id": "e3eaca3d",
   "metadata": {},
   "outputs": [],
   "source": [
    "p405.drop(['نام خودرو'], axis=1, inplace=True)"
   ]
  },
  {
   "cell_type": "code",
   "execution_count": 15,
   "id": "74529bd2",
   "metadata": {},
   "outputs": [
    {
     "data": {
      "text/html": [
       "<div>\n",
       "<style scoped>\n",
       "    .dataframe tbody tr th:only-of-type {\n",
       "        vertical-align: middle;\n",
       "    }\n",
       "\n",
       "    .dataframe tbody tr th {\n",
       "        vertical-align: top;\n",
       "    }\n",
       "\n",
       "    .dataframe thead th {\n",
       "        text-align: right;\n",
       "    }\n",
       "</style>\n",
       "<table border=\"1\" class=\"dataframe\">\n",
       "  <thead>\n",
       "    <tr style=\"text-align: right;\">\n",
       "      <th></th>\n",
       "      <th>سال تولید</th>\n",
       "      <th>مدل</th>\n",
       "      <th>کارکرد</th>\n",
       "      <th>گیربکس</th>\n",
       "      <th>رنگ</th>\n",
       "      <th>قیمت</th>\n",
       "    </tr>\n",
       "  </thead>\n",
       "  <tbody>\n",
       "    <tr>\n",
       "      <th>1</th>\n",
       "      <td>1397</td>\n",
       "      <td>GLX 2fuel</td>\n",
       "      <td>52000</td>\n",
       "      <td>دنده ای</td>\n",
       "      <td>نوک مدادی</td>\n",
       "      <td>350000000</td>\n",
       "    </tr>\n",
       "    <tr>\n",
       "      <th>2</th>\n",
       "      <td>1395</td>\n",
       "      <td>GLX</td>\n",
       "      <td>190000</td>\n",
       "      <td>دنده ای</td>\n",
       "      <td>نوک مدادی</td>\n",
       "      <td>235000000</td>\n",
       "    </tr>\n",
       "    <tr>\n",
       "      <th>3</th>\n",
       "      <td>1398</td>\n",
       "      <td>GLX</td>\n",
       "      <td>40000</td>\n",
       "      <td>دنده ای</td>\n",
       "      <td>نوک مدادی</td>\n",
       "      <td>380000000</td>\n",
       "    </tr>\n",
       "    <tr>\n",
       "      <th>4</th>\n",
       "      <td>1400</td>\n",
       "      <td>SLX</td>\n",
       "      <td>9300</td>\n",
       "      <td>دنده ای</td>\n",
       "      <td>خاکستری</td>\n",
       "      <td>455000000</td>\n",
       "    </tr>\n",
       "    <tr>\n",
       "      <th>5</th>\n",
       "      <td>1399</td>\n",
       "      <td>SLX</td>\n",
       "      <td>50000</td>\n",
       "      <td>دنده ای</td>\n",
       "      <td>خاکستری</td>\n",
       "      <td>418000000</td>\n",
       "    </tr>\n",
       "    <tr>\n",
       "      <th>...</th>\n",
       "      <td>...</td>\n",
       "      <td>...</td>\n",
       "      <td>...</td>\n",
       "      <td>...</td>\n",
       "      <td>...</td>\n",
       "      <td>...</td>\n",
       "    </tr>\n",
       "    <tr>\n",
       "      <th>99</th>\n",
       "      <td>1399</td>\n",
       "      <td>GLX 2fuel</td>\n",
       "      <td>0</td>\n",
       "      <td>دنده ای</td>\n",
       "      <td>نقره ای</td>\n",
       "      <td>445000000</td>\n",
       "    </tr>\n",
       "    <tr>\n",
       "      <th>100</th>\n",
       "      <td>1395</td>\n",
       "      <td>GLX</td>\n",
       "      <td>93000</td>\n",
       "      <td>دنده ای</td>\n",
       "      <td>نقره ای</td>\n",
       "      <td>270000000</td>\n",
       "    </tr>\n",
       "    <tr>\n",
       "      <th>102</th>\n",
       "      <td>1393</td>\n",
       "      <td>SLX</td>\n",
       "      <td>40000</td>\n",
       "      <td>دنده ای</td>\n",
       "      <td>سفید</td>\n",
       "      <td>340000000</td>\n",
       "    </tr>\n",
       "    <tr>\n",
       "      <th>103</th>\n",
       "      <td>1398</td>\n",
       "      <td>SLX</td>\n",
       "      <td>100000</td>\n",
       "      <td>دنده ای</td>\n",
       "      <td>سفید</td>\n",
       "      <td>385000000</td>\n",
       "    </tr>\n",
       "    <tr>\n",
       "      <th>104</th>\n",
       "      <td>1398</td>\n",
       "      <td>GLX</td>\n",
       "      <td>76000</td>\n",
       "      <td>دنده ای</td>\n",
       "      <td>خاکستری</td>\n",
       "      <td>335000000</td>\n",
       "    </tr>\n",
       "  </tbody>\n",
       "</table>\n",
       "<p>88 rows × 6 columns</p>\n",
       "</div>"
      ],
      "text/plain": [
       "     سال تولید        مدل  کارکرد   گیربکس        رنگ       قیمت\n",
       "1         1397  GLX 2fuel   52000  دنده ای  نوک مدادی  350000000\n",
       "2         1395        GLX  190000  دنده ای  نوک مدادی  235000000\n",
       "3         1398        GLX   40000  دنده ای  نوک مدادی  380000000\n",
       "4         1400        SLX    9300  دنده ای    خاکستری  455000000\n",
       "5         1399        SLX   50000  دنده ای    خاکستری  418000000\n",
       "..         ...        ...     ...      ...        ...        ...\n",
       "99        1399  GLX 2fuel       0  دنده ای    نقره ای  445000000\n",
       "100       1395        GLX   93000  دنده ای    نقره ای  270000000\n",
       "102       1393        SLX   40000  دنده ای       سفید  340000000\n",
       "103       1398        SLX  100000  دنده ای       سفید  385000000\n",
       "104       1398        GLX   76000  دنده ای    خاکستری  335000000\n",
       "\n",
       "[88 rows x 6 columns]"
      ]
     },
     "execution_count": 15,
     "metadata": {},
     "output_type": "execute_result"
    }
   ],
   "source": [
    "p405"
   ]
  },
  {
   "cell_type": "markdown",
   "id": "e0242c85",
   "metadata": {},
   "source": [
    "## One-hot fields"
   ]
  },
  {
   "cell_type": "code",
   "execution_count": 16,
   "id": "053d49d2",
   "metadata": {},
   "outputs": [],
   "source": [
    "def make_one_hot(data, field):\n",
    "    temp = pd.get_dummies(data[field], prefix=field)\n",
    "    data.drop(field, axis=1, inplace=True)\n",
    "    return pd.concat([data, temp], axis=1)"
   ]
  },
  {
   "cell_type": "code",
   "execution_count": 17,
   "id": "3c1790d4",
   "metadata": {},
   "outputs": [],
   "source": [
    "p405 = make_one_hot(p405, 'مدل')\n",
    "p405 = make_one_hot(p405, 'گیربکس')\n",
    "p405 = make_one_hot(p405, 'رنگ')"
   ]
  },
  {
   "cell_type": "code",
   "execution_count": 18,
   "id": "f92c98af",
   "metadata": {},
   "outputs": [
    {
     "data": {
      "text/html": [
       "<div>\n",
       "<style scoped>\n",
       "    .dataframe tbody tr th:only-of-type {\n",
       "        vertical-align: middle;\n",
       "    }\n",
       "\n",
       "    .dataframe tbody tr th {\n",
       "        vertical-align: top;\n",
       "    }\n",
       "\n",
       "    .dataframe thead th {\n",
       "        text-align: right;\n",
       "    }\n",
       "</style>\n",
       "<table border=\"1\" class=\"dataframe\">\n",
       "  <thead>\n",
       "    <tr style=\"text-align: right;\">\n",
       "      <th></th>\n",
       "      <th>سال تولید</th>\n",
       "      <th>کارکرد</th>\n",
       "      <th>قیمت</th>\n",
       "      <th>مدل_GLX</th>\n",
       "      <th>مدل_GLX 2fuel</th>\n",
       "      <th>مدل_SLX</th>\n",
       "      <th>گیربکس_دنده ای</th>\n",
       "      <th>رنگ_خاکستری</th>\n",
       "      <th>رنگ_سفید</th>\n",
       "      <th>رنگ_نقره ای</th>\n",
       "      <th>رنگ_نوک مدادی</th>\n",
       "    </tr>\n",
       "  </thead>\n",
       "  <tbody>\n",
       "    <tr>\n",
       "      <th>1</th>\n",
       "      <td>1397</td>\n",
       "      <td>52000</td>\n",
       "      <td>350000000</td>\n",
       "      <td>0</td>\n",
       "      <td>1</td>\n",
       "      <td>0</td>\n",
       "      <td>1</td>\n",
       "      <td>0</td>\n",
       "      <td>0</td>\n",
       "      <td>0</td>\n",
       "      <td>1</td>\n",
       "    </tr>\n",
       "    <tr>\n",
       "      <th>2</th>\n",
       "      <td>1395</td>\n",
       "      <td>190000</td>\n",
       "      <td>235000000</td>\n",
       "      <td>1</td>\n",
       "      <td>0</td>\n",
       "      <td>0</td>\n",
       "      <td>1</td>\n",
       "      <td>0</td>\n",
       "      <td>0</td>\n",
       "      <td>0</td>\n",
       "      <td>1</td>\n",
       "    </tr>\n",
       "    <tr>\n",
       "      <th>3</th>\n",
       "      <td>1398</td>\n",
       "      <td>40000</td>\n",
       "      <td>380000000</td>\n",
       "      <td>1</td>\n",
       "      <td>0</td>\n",
       "      <td>0</td>\n",
       "      <td>1</td>\n",
       "      <td>0</td>\n",
       "      <td>0</td>\n",
       "      <td>0</td>\n",
       "      <td>1</td>\n",
       "    </tr>\n",
       "    <tr>\n",
       "      <th>4</th>\n",
       "      <td>1400</td>\n",
       "      <td>9300</td>\n",
       "      <td>455000000</td>\n",
       "      <td>0</td>\n",
       "      <td>0</td>\n",
       "      <td>1</td>\n",
       "      <td>1</td>\n",
       "      <td>1</td>\n",
       "      <td>0</td>\n",
       "      <td>0</td>\n",
       "      <td>0</td>\n",
       "    </tr>\n",
       "    <tr>\n",
       "      <th>5</th>\n",
       "      <td>1399</td>\n",
       "      <td>50000</td>\n",
       "      <td>418000000</td>\n",
       "      <td>0</td>\n",
       "      <td>0</td>\n",
       "      <td>1</td>\n",
       "      <td>1</td>\n",
       "      <td>1</td>\n",
       "      <td>0</td>\n",
       "      <td>0</td>\n",
       "      <td>0</td>\n",
       "    </tr>\n",
       "    <tr>\n",
       "      <th>...</th>\n",
       "      <td>...</td>\n",
       "      <td>...</td>\n",
       "      <td>...</td>\n",
       "      <td>...</td>\n",
       "      <td>...</td>\n",
       "      <td>...</td>\n",
       "      <td>...</td>\n",
       "      <td>...</td>\n",
       "      <td>...</td>\n",
       "      <td>...</td>\n",
       "      <td>...</td>\n",
       "    </tr>\n",
       "    <tr>\n",
       "      <th>99</th>\n",
       "      <td>1399</td>\n",
       "      <td>0</td>\n",
       "      <td>445000000</td>\n",
       "      <td>0</td>\n",
       "      <td>1</td>\n",
       "      <td>0</td>\n",
       "      <td>1</td>\n",
       "      <td>0</td>\n",
       "      <td>0</td>\n",
       "      <td>1</td>\n",
       "      <td>0</td>\n",
       "    </tr>\n",
       "    <tr>\n",
       "      <th>100</th>\n",
       "      <td>1395</td>\n",
       "      <td>93000</td>\n",
       "      <td>270000000</td>\n",
       "      <td>1</td>\n",
       "      <td>0</td>\n",
       "      <td>0</td>\n",
       "      <td>1</td>\n",
       "      <td>0</td>\n",
       "      <td>0</td>\n",
       "      <td>1</td>\n",
       "      <td>0</td>\n",
       "    </tr>\n",
       "    <tr>\n",
       "      <th>102</th>\n",
       "      <td>1393</td>\n",
       "      <td>40000</td>\n",
       "      <td>340000000</td>\n",
       "      <td>0</td>\n",
       "      <td>0</td>\n",
       "      <td>1</td>\n",
       "      <td>1</td>\n",
       "      <td>0</td>\n",
       "      <td>1</td>\n",
       "      <td>0</td>\n",
       "      <td>0</td>\n",
       "    </tr>\n",
       "    <tr>\n",
       "      <th>103</th>\n",
       "      <td>1398</td>\n",
       "      <td>100000</td>\n",
       "      <td>385000000</td>\n",
       "      <td>0</td>\n",
       "      <td>0</td>\n",
       "      <td>1</td>\n",
       "      <td>1</td>\n",
       "      <td>0</td>\n",
       "      <td>1</td>\n",
       "      <td>0</td>\n",
       "      <td>0</td>\n",
       "    </tr>\n",
       "    <tr>\n",
       "      <th>104</th>\n",
       "      <td>1398</td>\n",
       "      <td>76000</td>\n",
       "      <td>335000000</td>\n",
       "      <td>1</td>\n",
       "      <td>0</td>\n",
       "      <td>0</td>\n",
       "      <td>1</td>\n",
       "      <td>1</td>\n",
       "      <td>0</td>\n",
       "      <td>0</td>\n",
       "      <td>0</td>\n",
       "    </tr>\n",
       "  </tbody>\n",
       "</table>\n",
       "<p>88 rows × 11 columns</p>\n",
       "</div>"
      ],
      "text/plain": [
       "     سال تولید  کارکرد       قیمت  مدل_GLX  مدل_GLX 2fuel  مدل_SLX  \\\n",
       "1         1397   52000  350000000        0              1        0   \n",
       "2         1395  190000  235000000        1              0        0   \n",
       "3         1398   40000  380000000        1              0        0   \n",
       "4         1400    9300  455000000        0              0        1   \n",
       "5         1399   50000  418000000        0              0        1   \n",
       "..         ...     ...        ...      ...            ...      ...   \n",
       "99        1399       0  445000000        0              1        0   \n",
       "100       1395   93000  270000000        1              0        0   \n",
       "102       1393   40000  340000000        0              0        1   \n",
       "103       1398  100000  385000000        0              0        1   \n",
       "104       1398   76000  335000000        1              0        0   \n",
       "\n",
       "     گیربکس_دنده ای  رنگ_خاکستری  رنگ_سفید  رنگ_نقره ای  رنگ_نوک مدادی  \n",
       "1                 1            0         0            0              1  \n",
       "2                 1            0         0            0              1  \n",
       "3                 1            0         0            0              1  \n",
       "4                 1            1         0            0              0  \n",
       "5                 1            1         0            0              0  \n",
       "..              ...          ...       ...          ...            ...  \n",
       "99                1            0         0            1              0  \n",
       "100               1            0         0            1              0  \n",
       "102               1            0         1            0              0  \n",
       "103               1            0         1            0              0  \n",
       "104               1            1         0            0              0  \n",
       "\n",
       "[88 rows x 11 columns]"
      ]
     },
     "execution_count": 18,
     "metadata": {},
     "output_type": "execute_result"
    }
   ],
   "source": [
    "p405"
   ]
  },
  {
   "cell_type": "markdown",
   "id": "d6d24a00",
   "metadata": {},
   "source": [
    "## Remove the label"
   ]
  },
  {
   "cell_type": "code",
   "execution_count": 19,
   "id": "8d29ebae",
   "metadata": {},
   "outputs": [],
   "source": [
    "labels = p405['قیمت']\n",
    "p405.drop(['قیمت'], axis=1, inplace=True)"
   ]
  },
  {
   "cell_type": "markdown",
   "id": "ffdf1983",
   "metadata": {},
   "source": [
    "## Separating data into train and test sections"
   ]
  },
  {
   "cell_type": "code",
   "execution_count": 20,
   "id": "f8495a50",
   "metadata": {},
   "outputs": [],
   "source": [
    "from sklearn.model_selection import train_test_split\n",
    "\n",
    "x_train, x_test, y_train, y_test = train_test_split(p405, labels, test_size=0.1, shuffle=True)"
   ]
  },
  {
   "cell_type": "markdown",
   "id": "8bcc68a1",
   "metadata": {},
   "source": [
    "## Model making"
   ]
  },
  {
   "cell_type": "code",
   "execution_count": 21,
   "id": "20ff0ab8",
   "metadata": {},
   "outputs": [
    {
     "name": "stdout",
     "output_type": "stream",
     "text": [
      "9,467,069 MT\n"
     ]
    }
   ],
   "source": [
    "from sklearn.linear_model import LinearRegression\n",
    "from sklearn.metrics import mean_absolute_error\n",
    "\n",
    "p405_model = LinearRegression()\n",
    "p405_model.fit(x_train, y_train)\n",
    "prediction = p405_model.predict(x_test)\n",
    "\n",
    "error = int(mean_absolute_error(y_test, prediction))\n",
    "print(f'{error:,} MT')"
   ]
  },
  {
   "cell_type": "markdown",
   "id": "fb55c812",
   "metadata": {},
   "source": [
    "## Save the model"
   ]
  },
  {
   "cell_type": "code",
   "execution_count": 22,
   "id": "ab947787",
   "metadata": {},
   "outputs": [],
   "source": [
    "import pickle\n",
    "pickle.dump(p405_model, open('p405_model.sav', 'wb'))"
   ]
  }
 ],
 "metadata": {
  "kernelspec": {
   "display_name": "Python 3 (ipykernel)",
   "language": "python",
   "name": "python3"
  },
  "language_info": {
   "codemirror_mode": {
    "name": "ipython",
    "version": 3
   },
   "file_extension": ".py",
   "mimetype": "text/x-python",
   "name": "python",
   "nbconvert_exporter": "python",
   "pygments_lexer": "ipython3",
   "version": "3.8.5"
  }
 },
 "nbformat": 4,
 "nbformat_minor": 5
}
