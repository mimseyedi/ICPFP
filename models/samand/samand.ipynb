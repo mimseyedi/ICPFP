{
 "cells": [
  {
   "cell_type": "markdown",
   "id": "ae9adcff",
   "metadata": {},
   "source": [
    "# Pre-processing data and create model for Samand"
   ]
  },
  {
   "cell_type": "markdown",
   "id": "3daad3af",
   "metadata": {},
   "source": [
    "## Importing packages"
   ]
  },
  {
   "cell_type": "code",
   "execution_count": 1,
   "id": "62441451",
   "metadata": {},
   "outputs": [],
   "source": [
    "import os\n",
    "import pandas as pd\n",
    "import warnings\n",
    "warnings.filterwarnings('ignore')"
   ]
  },
  {
   "cell_type": "markdown",
   "id": "e8124d39",
   "metadata": {},
   "source": [
    "## Reading dataset"
   ]
  },
  {
   "cell_type": "code",
   "execution_count": 2,
   "id": "1d66d961",
   "metadata": {},
   "outputs": [],
   "source": [
    "samand = pd.read_csv(f\"{'/'.join(os.getcwd().split('/')[:-2])}/datasets/samand.csv\")"
   ]
  },
  {
   "cell_type": "code",
   "execution_count": 3,
   "id": "9e2dbc00",
   "metadata": {},
   "outputs": [
    {
     "data": {
      "text/html": [
       "<div>\n",
       "<style scoped>\n",
       "    .dataframe tbody tr th:only-of-type {\n",
       "        vertical-align: middle;\n",
       "    }\n",
       "\n",
       "    .dataframe tbody tr th {\n",
       "        vertical-align: top;\n",
       "    }\n",
       "\n",
       "    .dataframe thead th {\n",
       "        text-align: right;\n",
       "    }\n",
       "</style>\n",
       "<table border=\"1\" class=\"dataframe\">\n",
       "  <thead>\n",
       "    <tr style=\"text-align: right;\">\n",
       "      <th></th>\n",
       "      <th>0</th>\n",
       "      <th>1</th>\n",
       "      <th>2</th>\n",
       "      <th>3</th>\n",
       "      <th>4</th>\n",
       "      <th>5</th>\n",
       "      <th>6</th>\n",
       "    </tr>\n",
       "  </thead>\n",
       "  <tbody>\n",
       "    <tr>\n",
       "      <th>0</th>\n",
       "      <td>سمند،</td>\n",
       "      <td>1393</td>\n",
       "      <td>ELX-سورن</td>\n",
       "      <td>110,000 کیلومتر</td>\n",
       "      <td>دنده ای</td>\n",
       "      <td>مشکی</td>\n",
       "      <td>290,000,000</td>\n",
       "    </tr>\n",
       "    <tr>\n",
       "      <th>1</th>\n",
       "      <td>سمند،</td>\n",
       "      <td>1398</td>\n",
       "      <td>XU7-LX</td>\n",
       "      <td>34,000 کیلومتر</td>\n",
       "      <td>دنده ای</td>\n",
       "      <td>سفید</td>\n",
       "      <td>395,000,000</td>\n",
       "    </tr>\n",
       "    <tr>\n",
       "      <th>2</th>\n",
       "      <td>سمند،</td>\n",
       "      <td>1398</td>\n",
       "      <td>XU7-LX</td>\n",
       "      <td>60,000 کیلومتر</td>\n",
       "      <td>دنده ای</td>\n",
       "      <td>سفید</td>\n",
       "      <td>360,000,000</td>\n",
       "    </tr>\n",
       "    <tr>\n",
       "      <th>3</th>\n",
       "      <td>سمند،</td>\n",
       "      <td>1400</td>\n",
       "      <td>XU7-LX</td>\n",
       "      <td>3,900 کیلومتر</td>\n",
       "      <td>دنده ای</td>\n",
       "      <td>سفید</td>\n",
       "      <td>425,000,000</td>\n",
       "    </tr>\n",
       "    <tr>\n",
       "      <th>4</th>\n",
       "      <td>سمند،</td>\n",
       "      <td>1395</td>\n",
       "      <td>XU7-LX</td>\n",
       "      <td>207,000 کیلومتر</td>\n",
       "      <td>دنده ای</td>\n",
       "      <td>سفید</td>\n",
       "      <td>305,000,000</td>\n",
       "    </tr>\n",
       "    <tr>\n",
       "      <th>...</th>\n",
       "      <td>...</td>\n",
       "      <td>...</td>\n",
       "      <td>...</td>\n",
       "      <td>...</td>\n",
       "      <td>...</td>\n",
       "      <td>...</td>\n",
       "      <td>...</td>\n",
       "    </tr>\n",
       "    <tr>\n",
       "      <th>183</th>\n",
       "      <td>سمند،</td>\n",
       "      <td>1398</td>\n",
       "      <td>XU7-LX</td>\n",
       "      <td>8,000 کیلومتر</td>\n",
       "      <td>دنده ای</td>\n",
       "      <td>سفید</td>\n",
       "      <td>372,500,000</td>\n",
       "    </tr>\n",
       "    <tr>\n",
       "      <th>184</th>\n",
       "      <td>سمند،</td>\n",
       "      <td>1399</td>\n",
       "      <td>EF7-LX</td>\n",
       "      <td>1,900 کیلومتر</td>\n",
       "      <td>دنده ای</td>\n",
       "      <td>خاکستری</td>\n",
       "      <td>435,000,000</td>\n",
       "    </tr>\n",
       "    <tr>\n",
       "      <th>185</th>\n",
       "      <td>سمند،</td>\n",
       "      <td>1400</td>\n",
       "      <td>پلاس بنزینی-سورن</td>\n",
       "      <td>40,700 کیلومتر</td>\n",
       "      <td>دنده ای</td>\n",
       "      <td>مشکی</td>\n",
       "      <td>455,000,000</td>\n",
       "    </tr>\n",
       "    <tr>\n",
       "      <th>186</th>\n",
       "      <td>سمند،</td>\n",
       "      <td>1396</td>\n",
       "      <td>EF7-LX</td>\n",
       "      <td>58,000 کیلومتر</td>\n",
       "      <td>دنده ای</td>\n",
       "      <td>مشکی</td>\n",
       "      <td>350,000,000</td>\n",
       "    </tr>\n",
       "    <tr>\n",
       "      <th>187</th>\n",
       "      <td>سمند،</td>\n",
       "      <td>1398</td>\n",
       "      <td>XU7-LX</td>\n",
       "      <td>96,000 کیلومتر</td>\n",
       "      <td>دنده ای</td>\n",
       "      <td>سفید</td>\n",
       "      <td>275,000,000</td>\n",
       "    </tr>\n",
       "  </tbody>\n",
       "</table>\n",
       "<p>188 rows × 7 columns</p>\n",
       "</div>"
      ],
      "text/plain": [
       "         0     1                 2                3        4        5  \\\n",
       "0    سمند،  1393          ELX-سورن  110,000 کیلومتر  دنده ای     مشکی   \n",
       "1    سمند،  1398            XU7-LX   34,000 کیلومتر  دنده ای     سفید   \n",
       "2    سمند،  1398            XU7-LX   60,000 کیلومتر  دنده ای     سفید   \n",
       "3    سمند،  1400            XU7-LX    3,900 کیلومتر  دنده ای     سفید   \n",
       "4    سمند،  1395            XU7-LX  207,000 کیلومتر  دنده ای     سفید   \n",
       "..     ...   ...               ...              ...      ...      ...   \n",
       "183  سمند،  1398            XU7-LX    8,000 کیلومتر  دنده ای     سفید   \n",
       "184  سمند،  1399            EF7-LX    1,900 کیلومتر  دنده ای  خاکستری   \n",
       "185  سمند،  1400  پلاس بنزینی-سورن   40,700 کیلومتر  دنده ای     مشکی   \n",
       "186  سمند،  1396            EF7-LX   58,000 کیلومتر  دنده ای     مشکی   \n",
       "187  سمند،  1398            XU7-LX   96,000 کیلومتر  دنده ای     سفید   \n",
       "\n",
       "               6  \n",
       "0    290,000,000  \n",
       "1    395,000,000  \n",
       "2    360,000,000  \n",
       "3    425,000,000  \n",
       "4    305,000,000  \n",
       "..           ...  \n",
       "183  372,500,000  \n",
       "184  435,000,000  \n",
       "185  455,000,000  \n",
       "186  350,000,000  \n",
       "187  275,000,000  \n",
       "\n",
       "[188 rows x 7 columns]"
      ]
     },
     "execution_count": 3,
     "metadata": {},
     "output_type": "execute_result"
    }
   ],
   "source": [
    "samand"
   ]
  },
  {
   "cell_type": "markdown",
   "id": "dd5c37cd",
   "metadata": {},
   "source": [
    "## Change columns name"
   ]
  },
  {
   "cell_type": "code",
   "execution_count": 4,
   "id": "3d90b533",
   "metadata": {},
   "outputs": [],
   "source": [
    "def edit_cols_name(df):\n",
    "    df.rename(columns={'0': 'نام خودرو'}, inplace=True)\n",
    "    df.rename(columns={'1': 'سال تولید'}, inplace=True)\n",
    "    df.rename(columns={'2': 'مدل'}, inplace=True)\n",
    "    df.rename(columns={'3': 'کارکرد'}, inplace=True)\n",
    "    df.rename(columns={'4': 'گیربکس'}, inplace=True)\n",
    "    df.rename(columns={'5': 'رنگ'}, inplace=True)\n",
    "    df.rename(columns={'6': 'قیمت'}, inplace=True)\n",
    "    \n",
    "edit_cols_name(samand)"
   ]
  },
  {
   "cell_type": "markdown",
   "id": "1de60a97",
   "metadata": {},
   "source": [
    "## Convert km to standard mode"
   ]
  },
  {
   "cell_type": "code",
   "execution_count": 5,
   "id": "f09a12c6",
   "metadata": {},
   "outputs": [],
   "source": [
    "def fix_km(df):\n",
    "    for index in range(len(df['کارکرد'])):\n",
    "        if df['کارکرد'][index].strip() == 'کارکرد صفر':\n",
    "            df['کارکرد'][index] = 0\n",
    "        elif 'کیلومتر' in df['کارکرد'][index]:\n",
    "            df['کارکرد'][index] = int(df['کارکرد'][index].split()[0].replace(',', ''))\n",
    "                   \n",
    "fix_km(samand)"
   ]
  },
  {
   "cell_type": "markdown",
   "id": "8acb28e3",
   "metadata": {},
   "source": [
    "## Convert price to standard mode"
   ]
  },
  {
   "cell_type": "code",
   "execution_count": 6,
   "id": "32648aef",
   "metadata": {},
   "outputs": [],
   "source": [
    "for i in range(len(samand)):\n",
    "    samand['قیمت'][i] = samand['قیمت'][i].replace(',', '')\n",
    "    samand['قیمت'][i] = int(samand['قیمت'][i])"
   ]
  },
  {
   "cell_type": "markdown",
   "id": "ee37a393",
   "metadata": {},
   "source": [
    "## Check different car models and organize them"
   ]
  },
  {
   "cell_type": "code",
   "execution_count": 7,
   "id": "d4e1fba2",
   "metadata": {},
   "outputs": [
    {
     "data": {
      "text/plain": [
       "XU7-LX               89\n",
       "EF7-LX               45\n",
       "EF7 دوگانه سوز-LX    28\n",
       "پلاس بنزینی-سورن     16\n",
       "ELX-سورن              8\n",
       "دنده ای-X7            1\n",
       "ساده-سورن             1\n",
       "Name: مدل, dtype: int64"
      ]
     },
     "execution_count": 7,
     "metadata": {},
     "output_type": "execute_result"
    }
   ],
   "source": [
    "samand['مدل'].value_counts()"
   ]
  },
  {
   "cell_type": "code",
   "execution_count": 8,
   "id": "5b10f2d1",
   "metadata": {},
   "outputs": [],
   "source": [
    "for i in range(len(samand)):\n",
    "    if samand['مدل'][i] == 'EF7 دوگانه سوز-LX':\n",
    "        samand['مدل'][i] = 'EF7-LX 2fuel'\n",
    "\n",
    "samand.drop(samand[samand['مدل'] == 'پلاس بنزینی-سورن'].index, axis=0, inplace=True)\n",
    "samand.drop(samand[samand['مدل'] == 'ELX-سورن'].index, axis=0, inplace=True)\n",
    "samand.drop(samand[samand['مدل'] == 'ساده-سورن'].index, axis=0, inplace=True)\n",
    "samand.drop(samand[samand['مدل'] == 'دنده ای-X7'].index, axis=0, inplace=True)"
   ]
  },
  {
   "cell_type": "code",
   "execution_count": 9,
   "id": "384a89c8",
   "metadata": {
    "scrolled": true
   },
   "outputs": [
    {
     "data": {
      "text/plain": [
       "XU7-LX          89\n",
       "EF7-LX          45\n",
       "EF7-LX 2fuel    28\n",
       "Name: مدل, dtype: int64"
      ]
     },
     "execution_count": 9,
     "metadata": {},
     "output_type": "execute_result"
    }
   ],
   "source": [
    "samand['مدل'].value_counts()"
   ]
  },
  {
   "cell_type": "markdown",
   "id": "1407e6e8",
   "metadata": {},
   "source": [
    "## Delete the especially missing value"
   ]
  },
  {
   "cell_type": "code",
   "execution_count": 10,
   "id": "1201bd9f",
   "metadata": {},
   "outputs": [],
   "source": [
    "samand.drop(samand[samand['کارکرد'] == 'کارکرده'].index, axis=0, inplace=True)"
   ]
  },
  {
   "cell_type": "markdown",
   "id": "6795f79a",
   "metadata": {},
   "source": [
    "## Check different car colors and organize them"
   ]
  },
  {
   "cell_type": "code",
   "execution_count": 11,
   "id": "e948de62",
   "metadata": {},
   "outputs": [
    {
     "data": {
      "text/plain": [
       "سفید         119\n",
       "خاکستری       20\n",
       "مشکی          10\n",
       "سرمه ای        4\n",
       "آبی            3\n",
       "نوک مدادی      2\n",
       "نقره ای        2\n",
       "سفید صدفی      1\n",
       "زرد            1\n",
       "Name: رنگ, dtype: int64"
      ]
     },
     "execution_count": 11,
     "metadata": {},
     "output_type": "execute_result"
    }
   ],
   "source": [
    "samand['رنگ'].value_counts()"
   ]
  },
  {
   "cell_type": "code",
   "execution_count": 12,
   "id": "024c389d",
   "metadata": {},
   "outputs": [],
   "source": [
    "samand.drop(samand[samand['رنگ'] == 'سرمه ای'].index, axis=0, inplace=True)\n",
    "samand.drop(samand[samand['رنگ'] == 'آبی'].index, axis=0, inplace=True)\n",
    "samand.drop(samand[samand['رنگ'] == 'نقره ای'].index, axis=0, inplace=True)\n",
    "samand.drop(samand[samand['رنگ'] == 'نوک مدادی'].index, axis=0, inplace=True)\n",
    "samand.drop(samand[samand['رنگ'] == 'زرد'].index, axis=0, inplace=True)\n",
    "samand.drop(samand[samand['رنگ'] == 'سفید صدفی'].index, axis=0, inplace=True)"
   ]
  },
  {
   "cell_type": "code",
   "execution_count": 13,
   "id": "7a38f600",
   "metadata": {},
   "outputs": [
    {
     "data": {
      "text/plain": [
       "سفید       119\n",
       "خاکستری     20\n",
       "مشکی        10\n",
       "Name: رنگ, dtype: int64"
      ]
     },
     "execution_count": 13,
     "metadata": {},
     "output_type": "execute_result"
    }
   ],
   "source": [
    "samand['رنگ'].value_counts()"
   ]
  },
  {
   "cell_type": "markdown",
   "id": "d022a585",
   "metadata": {},
   "source": [
    "## Remove extra fields"
   ]
  },
  {
   "cell_type": "code",
   "execution_count": 14,
   "id": "796e52ec",
   "metadata": {},
   "outputs": [],
   "source": [
    "samand.drop(['نام خودرو'], axis=1, inplace=True)"
   ]
  },
  {
   "cell_type": "code",
   "execution_count": 15,
   "id": "3e3ee34c",
   "metadata": {},
   "outputs": [
    {
     "data": {
      "text/html": [
       "<div>\n",
       "<style scoped>\n",
       "    .dataframe tbody tr th:only-of-type {\n",
       "        vertical-align: middle;\n",
       "    }\n",
       "\n",
       "    .dataframe tbody tr th {\n",
       "        vertical-align: top;\n",
       "    }\n",
       "\n",
       "    .dataframe thead th {\n",
       "        text-align: right;\n",
       "    }\n",
       "</style>\n",
       "<table border=\"1\" class=\"dataframe\">\n",
       "  <thead>\n",
       "    <tr style=\"text-align: right;\">\n",
       "      <th></th>\n",
       "      <th>سال تولید</th>\n",
       "      <th>مدل</th>\n",
       "      <th>کارکرد</th>\n",
       "      <th>گیربکس</th>\n",
       "      <th>رنگ</th>\n",
       "      <th>قیمت</th>\n",
       "    </tr>\n",
       "  </thead>\n",
       "  <tbody>\n",
       "    <tr>\n",
       "      <th>1</th>\n",
       "      <td>1398</td>\n",
       "      <td>XU7-LX</td>\n",
       "      <td>34000</td>\n",
       "      <td>دنده ای</td>\n",
       "      <td>سفید</td>\n",
       "      <td>395000000</td>\n",
       "    </tr>\n",
       "    <tr>\n",
       "      <th>2</th>\n",
       "      <td>1398</td>\n",
       "      <td>XU7-LX</td>\n",
       "      <td>60000</td>\n",
       "      <td>دنده ای</td>\n",
       "      <td>سفید</td>\n",
       "      <td>360000000</td>\n",
       "    </tr>\n",
       "    <tr>\n",
       "      <th>3</th>\n",
       "      <td>1400</td>\n",
       "      <td>XU7-LX</td>\n",
       "      <td>3900</td>\n",
       "      <td>دنده ای</td>\n",
       "      <td>سفید</td>\n",
       "      <td>425000000</td>\n",
       "    </tr>\n",
       "    <tr>\n",
       "      <th>4</th>\n",
       "      <td>1395</td>\n",
       "      <td>XU7-LX</td>\n",
       "      <td>207000</td>\n",
       "      <td>دنده ای</td>\n",
       "      <td>سفید</td>\n",
       "      <td>305000000</td>\n",
       "    </tr>\n",
       "    <tr>\n",
       "      <th>5</th>\n",
       "      <td>1400</td>\n",
       "      <td>EF7-LX</td>\n",
       "      <td>16500</td>\n",
       "      <td>دنده ای</td>\n",
       "      <td>سفید</td>\n",
       "      <td>440000000</td>\n",
       "    </tr>\n",
       "    <tr>\n",
       "      <th>...</th>\n",
       "      <td>...</td>\n",
       "      <td>...</td>\n",
       "      <td>...</td>\n",
       "      <td>...</td>\n",
       "      <td>...</td>\n",
       "      <td>...</td>\n",
       "    </tr>\n",
       "    <tr>\n",
       "      <th>182</th>\n",
       "      <td>1396</td>\n",
       "      <td>EF7-LX</td>\n",
       "      <td>94000</td>\n",
       "      <td>دنده ای</td>\n",
       "      <td>خاکستری</td>\n",
       "      <td>328000000</td>\n",
       "    </tr>\n",
       "    <tr>\n",
       "      <th>183</th>\n",
       "      <td>1398</td>\n",
       "      <td>XU7-LX</td>\n",
       "      <td>8000</td>\n",
       "      <td>دنده ای</td>\n",
       "      <td>سفید</td>\n",
       "      <td>372500000</td>\n",
       "    </tr>\n",
       "    <tr>\n",
       "      <th>184</th>\n",
       "      <td>1399</td>\n",
       "      <td>EF7-LX</td>\n",
       "      <td>1900</td>\n",
       "      <td>دنده ای</td>\n",
       "      <td>خاکستری</td>\n",
       "      <td>435000000</td>\n",
       "    </tr>\n",
       "    <tr>\n",
       "      <th>186</th>\n",
       "      <td>1396</td>\n",
       "      <td>EF7-LX</td>\n",
       "      <td>58000</td>\n",
       "      <td>دنده ای</td>\n",
       "      <td>مشکی</td>\n",
       "      <td>350000000</td>\n",
       "    </tr>\n",
       "    <tr>\n",
       "      <th>187</th>\n",
       "      <td>1398</td>\n",
       "      <td>XU7-LX</td>\n",
       "      <td>96000</td>\n",
       "      <td>دنده ای</td>\n",
       "      <td>سفید</td>\n",
       "      <td>275000000</td>\n",
       "    </tr>\n",
       "  </tbody>\n",
       "</table>\n",
       "<p>149 rows × 6 columns</p>\n",
       "</div>"
      ],
      "text/plain": [
       "     سال تولید     مدل  کارکرد   گیربکس      رنگ       قیمت\n",
       "1         1398  XU7-LX   34000  دنده ای     سفید  395000000\n",
       "2         1398  XU7-LX   60000  دنده ای     سفید  360000000\n",
       "3         1400  XU7-LX    3900  دنده ای     سفید  425000000\n",
       "4         1395  XU7-LX  207000  دنده ای     سفید  305000000\n",
       "5         1400  EF7-LX   16500  دنده ای     سفید  440000000\n",
       "..         ...     ...     ...      ...      ...        ...\n",
       "182       1396  EF7-LX   94000  دنده ای  خاکستری  328000000\n",
       "183       1398  XU7-LX    8000  دنده ای     سفید  372500000\n",
       "184       1399  EF7-LX    1900  دنده ای  خاکستری  435000000\n",
       "186       1396  EF7-LX   58000  دنده ای     مشکی  350000000\n",
       "187       1398  XU7-LX   96000  دنده ای     سفید  275000000\n",
       "\n",
       "[149 rows x 6 columns]"
      ]
     },
     "execution_count": 15,
     "metadata": {},
     "output_type": "execute_result"
    }
   ],
   "source": [
    "samand"
   ]
  },
  {
   "cell_type": "markdown",
   "id": "234bb431",
   "metadata": {},
   "source": [
    "## One-hot fields"
   ]
  },
  {
   "cell_type": "code",
   "execution_count": 16,
   "id": "9cf239d6",
   "metadata": {},
   "outputs": [],
   "source": [
    "def make_one_hot(data, field):\n",
    "    temp = pd.get_dummies(data[field], prefix=field)\n",
    "    data.drop(field, axis=1, inplace=True)\n",
    "    return pd.concat([data, temp], axis=1)"
   ]
  },
  {
   "cell_type": "code",
   "execution_count": 17,
   "id": "6134b460",
   "metadata": {},
   "outputs": [],
   "source": [
    "samand = make_one_hot(samand, 'مدل')\n",
    "samand = make_one_hot(samand, 'گیربکس')\n",
    "samand = make_one_hot(samand, 'رنگ')"
   ]
  },
  {
   "cell_type": "code",
   "execution_count": 18,
   "id": "1eaae05c",
   "metadata": {},
   "outputs": [
    {
     "data": {
      "text/html": [
       "<div>\n",
       "<style scoped>\n",
       "    .dataframe tbody tr th:only-of-type {\n",
       "        vertical-align: middle;\n",
       "    }\n",
       "\n",
       "    .dataframe tbody tr th {\n",
       "        vertical-align: top;\n",
       "    }\n",
       "\n",
       "    .dataframe thead th {\n",
       "        text-align: right;\n",
       "    }\n",
       "</style>\n",
       "<table border=\"1\" class=\"dataframe\">\n",
       "  <thead>\n",
       "    <tr style=\"text-align: right;\">\n",
       "      <th></th>\n",
       "      <th>سال تولید</th>\n",
       "      <th>کارکرد</th>\n",
       "      <th>قیمت</th>\n",
       "      <th>مدل_EF7-LX</th>\n",
       "      <th>مدل_EF7-LX 2fuel</th>\n",
       "      <th>مدل_XU7-LX</th>\n",
       "      <th>گیربکس_دنده ای</th>\n",
       "      <th>رنگ_خاکستری</th>\n",
       "      <th>رنگ_سفید</th>\n",
       "      <th>رنگ_مشکی</th>\n",
       "    </tr>\n",
       "  </thead>\n",
       "  <tbody>\n",
       "    <tr>\n",
       "      <th>1</th>\n",
       "      <td>1398</td>\n",
       "      <td>34000</td>\n",
       "      <td>395000000</td>\n",
       "      <td>0</td>\n",
       "      <td>0</td>\n",
       "      <td>1</td>\n",
       "      <td>1</td>\n",
       "      <td>0</td>\n",
       "      <td>1</td>\n",
       "      <td>0</td>\n",
       "    </tr>\n",
       "    <tr>\n",
       "      <th>2</th>\n",
       "      <td>1398</td>\n",
       "      <td>60000</td>\n",
       "      <td>360000000</td>\n",
       "      <td>0</td>\n",
       "      <td>0</td>\n",
       "      <td>1</td>\n",
       "      <td>1</td>\n",
       "      <td>0</td>\n",
       "      <td>1</td>\n",
       "      <td>0</td>\n",
       "    </tr>\n",
       "    <tr>\n",
       "      <th>3</th>\n",
       "      <td>1400</td>\n",
       "      <td>3900</td>\n",
       "      <td>425000000</td>\n",
       "      <td>0</td>\n",
       "      <td>0</td>\n",
       "      <td>1</td>\n",
       "      <td>1</td>\n",
       "      <td>0</td>\n",
       "      <td>1</td>\n",
       "      <td>0</td>\n",
       "    </tr>\n",
       "    <tr>\n",
       "      <th>4</th>\n",
       "      <td>1395</td>\n",
       "      <td>207000</td>\n",
       "      <td>305000000</td>\n",
       "      <td>0</td>\n",
       "      <td>0</td>\n",
       "      <td>1</td>\n",
       "      <td>1</td>\n",
       "      <td>0</td>\n",
       "      <td>1</td>\n",
       "      <td>0</td>\n",
       "    </tr>\n",
       "    <tr>\n",
       "      <th>5</th>\n",
       "      <td>1400</td>\n",
       "      <td>16500</td>\n",
       "      <td>440000000</td>\n",
       "      <td>1</td>\n",
       "      <td>0</td>\n",
       "      <td>0</td>\n",
       "      <td>1</td>\n",
       "      <td>0</td>\n",
       "      <td>1</td>\n",
       "      <td>0</td>\n",
       "    </tr>\n",
       "    <tr>\n",
       "      <th>...</th>\n",
       "      <td>...</td>\n",
       "      <td>...</td>\n",
       "      <td>...</td>\n",
       "      <td>...</td>\n",
       "      <td>...</td>\n",
       "      <td>...</td>\n",
       "      <td>...</td>\n",
       "      <td>...</td>\n",
       "      <td>...</td>\n",
       "      <td>...</td>\n",
       "    </tr>\n",
       "    <tr>\n",
       "      <th>182</th>\n",
       "      <td>1396</td>\n",
       "      <td>94000</td>\n",
       "      <td>328000000</td>\n",
       "      <td>1</td>\n",
       "      <td>0</td>\n",
       "      <td>0</td>\n",
       "      <td>1</td>\n",
       "      <td>1</td>\n",
       "      <td>0</td>\n",
       "      <td>0</td>\n",
       "    </tr>\n",
       "    <tr>\n",
       "      <th>183</th>\n",
       "      <td>1398</td>\n",
       "      <td>8000</td>\n",
       "      <td>372500000</td>\n",
       "      <td>0</td>\n",
       "      <td>0</td>\n",
       "      <td>1</td>\n",
       "      <td>1</td>\n",
       "      <td>0</td>\n",
       "      <td>1</td>\n",
       "      <td>0</td>\n",
       "    </tr>\n",
       "    <tr>\n",
       "      <th>184</th>\n",
       "      <td>1399</td>\n",
       "      <td>1900</td>\n",
       "      <td>435000000</td>\n",
       "      <td>1</td>\n",
       "      <td>0</td>\n",
       "      <td>0</td>\n",
       "      <td>1</td>\n",
       "      <td>1</td>\n",
       "      <td>0</td>\n",
       "      <td>0</td>\n",
       "    </tr>\n",
       "    <tr>\n",
       "      <th>186</th>\n",
       "      <td>1396</td>\n",
       "      <td>58000</td>\n",
       "      <td>350000000</td>\n",
       "      <td>1</td>\n",
       "      <td>0</td>\n",
       "      <td>0</td>\n",
       "      <td>1</td>\n",
       "      <td>0</td>\n",
       "      <td>0</td>\n",
       "      <td>1</td>\n",
       "    </tr>\n",
       "    <tr>\n",
       "      <th>187</th>\n",
       "      <td>1398</td>\n",
       "      <td>96000</td>\n",
       "      <td>275000000</td>\n",
       "      <td>0</td>\n",
       "      <td>0</td>\n",
       "      <td>1</td>\n",
       "      <td>1</td>\n",
       "      <td>0</td>\n",
       "      <td>1</td>\n",
       "      <td>0</td>\n",
       "    </tr>\n",
       "  </tbody>\n",
       "</table>\n",
       "<p>149 rows × 10 columns</p>\n",
       "</div>"
      ],
      "text/plain": [
       "     سال تولید  کارکرد       قیمت  مدل_EF7-LX  مدل_EF7-LX 2fuel  مدل_XU7-LX  \\\n",
       "1         1398   34000  395000000           0                 0           1   \n",
       "2         1398   60000  360000000           0                 0           1   \n",
       "3         1400    3900  425000000           0                 0           1   \n",
       "4         1395  207000  305000000           0                 0           1   \n",
       "5         1400   16500  440000000           1                 0           0   \n",
       "..         ...     ...        ...         ...               ...         ...   \n",
       "182       1396   94000  328000000           1                 0           0   \n",
       "183       1398    8000  372500000           0                 0           1   \n",
       "184       1399    1900  435000000           1                 0           0   \n",
       "186       1396   58000  350000000           1                 0           0   \n",
       "187       1398   96000  275000000           0                 0           1   \n",
       "\n",
       "     گیربکس_دنده ای  رنگ_خاکستری  رنگ_سفید  رنگ_مشکی  \n",
       "1                 1            0         1         0  \n",
       "2                 1            0         1         0  \n",
       "3                 1            0         1         0  \n",
       "4                 1            0         1         0  \n",
       "5                 1            0         1         0  \n",
       "..              ...          ...       ...       ...  \n",
       "182               1            1         0         0  \n",
       "183               1            0         1         0  \n",
       "184               1            1         0         0  \n",
       "186               1            0         0         1  \n",
       "187               1            0         1         0  \n",
       "\n",
       "[149 rows x 10 columns]"
      ]
     },
     "execution_count": 18,
     "metadata": {},
     "output_type": "execute_result"
    }
   ],
   "source": [
    "samand"
   ]
  },
  {
   "cell_type": "markdown",
   "id": "136000c5",
   "metadata": {},
   "source": [
    "## Remove the label"
   ]
  },
  {
   "cell_type": "code",
   "execution_count": 19,
   "id": "1bed13ee",
   "metadata": {},
   "outputs": [],
   "source": [
    "labels = samand['قیمت']\n",
    "samand.drop(['قیمت'], axis=1, inplace=True)"
   ]
  },
  {
   "cell_type": "markdown",
   "id": "82edb47f",
   "metadata": {},
   "source": [
    "## Separating data into train and test sections"
   ]
  },
  {
   "cell_type": "code",
   "execution_count": 20,
   "id": "85650469",
   "metadata": {},
   "outputs": [],
   "source": [
    "from sklearn.model_selection import train_test_split\n",
    "\n",
    "x_train, x_test, y_train, y_test = train_test_split(samand, labels, test_size=0.1, shuffle=True)"
   ]
  },
  {
   "cell_type": "markdown",
   "id": "de9a5986",
   "metadata": {},
   "source": [
    "## Model making"
   ]
  },
  {
   "cell_type": "code",
   "execution_count": 21,
   "id": "76b14f90",
   "metadata": {},
   "outputs": [
    {
     "name": "stdout",
     "output_type": "stream",
     "text": [
      "10,564,308 MT\n"
     ]
    }
   ],
   "source": [
    "from sklearn.linear_model import LinearRegression\n",
    "from sklearn.metrics import mean_absolute_error\n",
    "\n",
    "samand_model = LinearRegression()\n",
    "samand_model.fit(x_train, y_train)\n",
    "prediction = samand_model.predict(x_test)\n",
    "\n",
    "error = int(mean_absolute_error(y_test, prediction))\n",
    "print(f'{error:,} MT')"
   ]
  },
  {
   "cell_type": "markdown",
   "id": "e3fb01ab",
   "metadata": {},
   "source": [
    "## Save the model"
   ]
  },
  {
   "cell_type": "code",
   "execution_count": 22,
   "id": "4b6e45ae",
   "metadata": {},
   "outputs": [],
   "source": [
    "import pickle\n",
    "pickle.dump(samand_model, open('samand_model.sav', 'wb'))"
   ]
  }
 ],
 "metadata": {
  "kernelspec": {
   "display_name": "Python 3 (ipykernel)",
   "language": "python",
   "name": "python3"
  },
  "language_info": {
   "codemirror_mode": {
    "name": "ipython",
    "version": 3
   },
   "file_extension": ".py",
   "mimetype": "text/x-python",
   "name": "python",
   "nbconvert_exporter": "python",
   "pygments_lexer": "ipython3",
   "version": "3.8.5"
  }
 },
 "nbformat": 4,
 "nbformat_minor": 5
}
