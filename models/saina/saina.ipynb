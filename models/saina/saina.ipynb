{
 "cells": [
  {
   "cell_type": "markdown",
   "id": "e1bbce56",
   "metadata": {},
   "source": [
    "# Pre-processing data and create model for Saina"
   ]
  },
  {
   "cell_type": "markdown",
   "id": "e0e5b75d",
   "metadata": {},
   "source": [
    "## Importing packages"
   ]
  },
  {
   "cell_type": "code",
   "execution_count": 1,
   "id": "acff26f6",
   "metadata": {},
   "outputs": [],
   "source": [
    "import os\n",
    "import pandas as pd\n",
    "import warnings\n",
    "warnings.filterwarnings('ignore')"
   ]
  },
  {
   "cell_type": "markdown",
   "id": "dc0337e6",
   "metadata": {},
   "source": [
    "## Reading dataset"
   ]
  },
  {
   "cell_type": "code",
   "execution_count": 2,
   "id": "add82990",
   "metadata": {},
   "outputs": [],
   "source": [
    "saina = pd.read_csv(f\"{'/'.join(os.getcwd().split('/')[:-2])}/datasets/saina.csv\")"
   ]
  },
  {
   "cell_type": "code",
   "execution_count": 3,
   "id": "94f40742",
   "metadata": {},
   "outputs": [
    {
     "data": {
      "text/html": [
       "<div>\n",
       "<style scoped>\n",
       "    .dataframe tbody tr th:only-of-type {\n",
       "        vertical-align: middle;\n",
       "    }\n",
       "\n",
       "    .dataframe tbody tr th {\n",
       "        vertical-align: top;\n",
       "    }\n",
       "\n",
       "    .dataframe thead th {\n",
       "        text-align: right;\n",
       "    }\n",
       "</style>\n",
       "<table border=\"1\" class=\"dataframe\">\n",
       "  <thead>\n",
       "    <tr style=\"text-align: right;\">\n",
       "      <th></th>\n",
       "      <th>0</th>\n",
       "      <th>1</th>\n",
       "      <th>2</th>\n",
       "      <th>3</th>\n",
       "      <th>4</th>\n",
       "      <th>5</th>\n",
       "      <th>6</th>\n",
       "    </tr>\n",
       "  </thead>\n",
       "  <tbody>\n",
       "    <tr>\n",
       "      <th>0</th>\n",
       "      <td>ساینا،</td>\n",
       "      <td>1401</td>\n",
       "      <td>دنده ای-S</td>\n",
       "      <td>کارکرد صفر</td>\n",
       "      <td>دنده ای</td>\n",
       "      <td>سفید صدفی</td>\n",
       "      <td>325,000,000</td>\n",
       "    </tr>\n",
       "    <tr>\n",
       "      <th>1</th>\n",
       "      <td>ساینا،</td>\n",
       "      <td>1400</td>\n",
       "      <td>دنده ای-S</td>\n",
       "      <td>14,000 کیلومتر</td>\n",
       "      <td>دنده ای</td>\n",
       "      <td>سفید</td>\n",
       "      <td>300,000,000</td>\n",
       "    </tr>\n",
       "    <tr>\n",
       "      <th>2</th>\n",
       "      <td>ساینا،</td>\n",
       "      <td>1399</td>\n",
       "      <td>دنده ای-EX</td>\n",
       "      <td>46,000 کیلومتر</td>\n",
       "      <td>دنده ای</td>\n",
       "      <td>سفید</td>\n",
       "      <td>290,000,000</td>\n",
       "    </tr>\n",
       "    <tr>\n",
       "      <th>3</th>\n",
       "      <td>ساینا،</td>\n",
       "      <td>1401</td>\n",
       "      <td>دنده ای-S</td>\n",
       "      <td>کارکرد صفر</td>\n",
       "      <td>دنده ای</td>\n",
       "      <td>سفید</td>\n",
       "      <td>320,000,000</td>\n",
       "    </tr>\n",
       "    <tr>\n",
       "      <th>4</th>\n",
       "      <td>ساینا،</td>\n",
       "      <td>1399</td>\n",
       "      <td>دنده ای-EX</td>\n",
       "      <td>14,000 کیلومتر</td>\n",
       "      <td>دنده ای</td>\n",
       "      <td>نوک مدادی</td>\n",
       "      <td>295,000,000</td>\n",
       "    </tr>\n",
       "    <tr>\n",
       "      <th>...</th>\n",
       "      <td>...</td>\n",
       "      <td>...</td>\n",
       "      <td>...</td>\n",
       "      <td>...</td>\n",
       "      <td>...</td>\n",
       "      <td>...</td>\n",
       "      <td>...</td>\n",
       "    </tr>\n",
       "    <tr>\n",
       "      <th>147</th>\n",
       "      <td>ساینا،</td>\n",
       "      <td>1401</td>\n",
       "      <td>دنده ای-EX</td>\n",
       "      <td>6,200 کیلومتر</td>\n",
       "      <td>دنده ای</td>\n",
       "      <td>سفید</td>\n",
       "      <td>297,000,000</td>\n",
       "    </tr>\n",
       "    <tr>\n",
       "      <th>148</th>\n",
       "      <td>ساینا،</td>\n",
       "      <td>1398</td>\n",
       "      <td>دنده ای-EX</td>\n",
       "      <td>18,000 کیلومتر</td>\n",
       "      <td>دنده ای</td>\n",
       "      <td>سفید</td>\n",
       "      <td>270,000,000</td>\n",
       "    </tr>\n",
       "    <tr>\n",
       "      <th>149</th>\n",
       "      <td>ساینا،</td>\n",
       "      <td>1399</td>\n",
       "      <td>دنده ای-EX</td>\n",
       "      <td>47,000 کیلومتر</td>\n",
       "      <td>دنده ای</td>\n",
       "      <td>سفید</td>\n",
       "      <td>275,000,000</td>\n",
       "    </tr>\n",
       "    <tr>\n",
       "      <th>150</th>\n",
       "      <td>ساینا،</td>\n",
       "      <td>1401</td>\n",
       "      <td>دنده ای-S</td>\n",
       "      <td>کارکرد صفر</td>\n",
       "      <td>دنده ای</td>\n",
       "      <td>سفید</td>\n",
       "      <td>304,000,000</td>\n",
       "    </tr>\n",
       "    <tr>\n",
       "      <th>151</th>\n",
       "      <td>ساینا،</td>\n",
       "      <td>1401</td>\n",
       "      <td>دنده ای-S</td>\n",
       "      <td>17 کیلومتر</td>\n",
       "      <td>دنده ای</td>\n",
       "      <td>سفید</td>\n",
       "      <td>295,000,000</td>\n",
       "    </tr>\n",
       "  </tbody>\n",
       "</table>\n",
       "<p>152 rows × 7 columns</p>\n",
       "</div>"
      ],
      "text/plain": [
       "          0     1           2               3        4          5            6\n",
       "0    ساینا،  1401   دنده ای-S      کارکرد صفر  دنده ای  سفید صدفی  325,000,000\n",
       "1    ساینا،  1400   دنده ای-S  14,000 کیلومتر  دنده ای       سفید  300,000,000\n",
       "2    ساینا،  1399  دنده ای-EX  46,000 کیلومتر  دنده ای       سفید  290,000,000\n",
       "3    ساینا،  1401   دنده ای-S      کارکرد صفر  دنده ای       سفید  320,000,000\n",
       "4    ساینا،  1399  دنده ای-EX  14,000 کیلومتر  دنده ای  نوک مدادی  295,000,000\n",
       "..      ...   ...         ...             ...      ...        ...          ...\n",
       "147  ساینا،  1401  دنده ای-EX   6,200 کیلومتر  دنده ای       سفید  297,000,000\n",
       "148  ساینا،  1398  دنده ای-EX  18,000 کیلومتر  دنده ای       سفید  270,000,000\n",
       "149  ساینا،  1399  دنده ای-EX  47,000 کیلومتر  دنده ای       سفید  275,000,000\n",
       "150  ساینا،  1401   دنده ای-S      کارکرد صفر  دنده ای       سفید  304,000,000\n",
       "151  ساینا،  1401   دنده ای-S      17 کیلومتر  دنده ای       سفید  295,000,000\n",
       "\n",
       "[152 rows x 7 columns]"
      ]
     },
     "execution_count": 3,
     "metadata": {},
     "output_type": "execute_result"
    }
   ],
   "source": [
    "saina"
   ]
  },
  {
   "cell_type": "markdown",
   "id": "dcbf6505",
   "metadata": {},
   "source": [
    "## Change columns name"
   ]
  },
  {
   "cell_type": "code",
   "execution_count": 4,
   "id": "878432b2",
   "metadata": {},
   "outputs": [],
   "source": [
    "def edit_cols_name(df):\n",
    "    df.rename(columns={'0': 'نام خودرو'}, inplace=True)\n",
    "    df.rename(columns={'1': 'سال تولید'}, inplace=True)\n",
    "    df.rename(columns={'2': 'مدل'}, inplace=True)\n",
    "    df.rename(columns={'3': 'کارکرد'}, inplace=True)\n",
    "    df.rename(columns={'4': 'گیربکس'}, inplace=True)\n",
    "    df.rename(columns={'5': 'رنگ'}, inplace=True)\n",
    "    df.rename(columns={'6': 'قیمت'}, inplace=True)\n",
    "    \n",
    "edit_cols_name(saina)"
   ]
  },
  {
   "cell_type": "markdown",
   "id": "26b751b5",
   "metadata": {},
   "source": [
    "## Convert km to standard mode"
   ]
  },
  {
   "cell_type": "code",
   "execution_count": 5,
   "id": "cd1f52be",
   "metadata": {},
   "outputs": [],
   "source": [
    "def fix_km(df):\n",
    "    for index in range(len(df['کارکرد'])):\n",
    "        if df['کارکرد'][index].strip() == 'کارکرد صفر':\n",
    "            df['کارکرد'][index] = 0\n",
    "        elif 'کیلومتر' in df['کارکرد'][index]:\n",
    "            df['کارکرد'][index] = int(df['کارکرد'][index].split()[0].replace(',', ''))\n",
    "                   \n",
    "fix_km(saina)"
   ]
  },
  {
   "cell_type": "markdown",
   "id": "2174aa4b",
   "metadata": {},
   "source": [
    "## Convert price to standard mode"
   ]
  },
  {
   "cell_type": "code",
   "execution_count": 6,
   "id": "fd7b7266",
   "metadata": {},
   "outputs": [],
   "source": [
    "for i in range(len(saina)):\n",
    "    saina['قیمت'][i] = saina['قیمت'][i].replace(',', '')\n",
    "    saina['قیمت'][i] = int(saina['قیمت'][i])"
   ]
  },
  {
   "cell_type": "markdown",
   "id": "55ed4a5a",
   "metadata": {},
   "source": [
    "## Check different car models and organize them"
   ]
  },
  {
   "cell_type": "code",
   "execution_count": 7,
   "id": "3ffc46a1",
   "metadata": {},
   "outputs": [
    {
     "data": {
      "text/plain": [
       "دنده ای-EX           79\n",
       "دنده ای-S            66\n",
       "دنده ای-پلاس          5\n",
       "اتوماتیک-اتوماتیک     2\n",
       "Name: مدل, dtype: int64"
      ]
     },
     "execution_count": 7,
     "metadata": {},
     "output_type": "execute_result"
    }
   ],
   "source": [
    "saina['مدل'].value_counts()"
   ]
  },
  {
   "cell_type": "code",
   "execution_count": 8,
   "id": "4cc8f9a4",
   "metadata": {},
   "outputs": [],
   "source": [
    "for i in range(len(saina)):\n",
    "    saina['مدل'][i] = saina['مدل'][i].split('-')[1]\n",
    "    \n",
    "saina.drop(saina[saina['مدل'] == 'پلاس'].index, axis=0, inplace=True)\n",
    "saina.drop(saina[saina['مدل'] == 'اتوماتیک'].index, axis=0, inplace=True)"
   ]
  },
  {
   "cell_type": "code",
   "execution_count": 9,
   "id": "a1f1ce46",
   "metadata": {},
   "outputs": [
    {
     "data": {
      "text/plain": [
       "EX    79\n",
       "S     66\n",
       "Name: مدل, dtype: int64"
      ]
     },
     "execution_count": 9,
     "metadata": {},
     "output_type": "execute_result"
    }
   ],
   "source": [
    "saina['مدل'].value_counts()"
   ]
  },
  {
   "cell_type": "markdown",
   "id": "d5d9f10e",
   "metadata": {},
   "source": [
    "## Delete the especially missing value"
   ]
  },
  {
   "cell_type": "code",
   "execution_count": 10,
   "id": "e25f294d",
   "metadata": {},
   "outputs": [],
   "source": [
    "saina.drop(saina[saina['کارکرد'] == 'کارکرده'].index, axis=0, inplace=True)"
   ]
  },
  {
   "cell_type": "markdown",
   "id": "8c78d739",
   "metadata": {},
   "source": [
    "## Check different car colors and organize them"
   ]
  },
  {
   "cell_type": "code",
   "execution_count": 11,
   "id": "d6ee5288",
   "metadata": {},
   "outputs": [
    {
     "data": {
      "text/plain": [
       "سفید         140\n",
       "نوک مدادی      2\n",
       "مشکی           1\n",
       "سفید صدفی      1\n",
       "آبی            1\n",
       "Name: رنگ, dtype: int64"
      ]
     },
     "execution_count": 11,
     "metadata": {},
     "output_type": "execute_result"
    }
   ],
   "source": [
    "saina['رنگ'].value_counts()"
   ]
  },
  {
   "cell_type": "code",
   "execution_count": 12,
   "id": "4eaad90f",
   "metadata": {},
   "outputs": [],
   "source": [
    "saina.drop(saina[saina['رنگ'] == 'نوک مدادی'].index, axis=0, inplace=True)\n",
    "saina.drop(saina[saina['رنگ'] == 'مشکی'].index, axis=0, inplace=True)\n",
    "saina.drop(saina[saina['رنگ'] == 'آبی'].index, axis=0, inplace=True)\n",
    "saina.drop(saina[saina['رنگ'] == 'سفید صدفی'].index, axis=0, inplace=True)"
   ]
  },
  {
   "cell_type": "code",
   "execution_count": 13,
   "id": "5f7dc530",
   "metadata": {},
   "outputs": [
    {
     "data": {
      "text/plain": [
       "سفید    140\n",
       "Name: رنگ, dtype: int64"
      ]
     },
     "execution_count": 13,
     "metadata": {},
     "output_type": "execute_result"
    }
   ],
   "source": [
    "saina['رنگ'].value_counts()"
   ]
  },
  {
   "cell_type": "markdown",
   "id": "e4d46b7e",
   "metadata": {},
   "source": [
    "## Remove extra fields"
   ]
  },
  {
   "cell_type": "code",
   "execution_count": 14,
   "id": "da4d3821",
   "metadata": {},
   "outputs": [],
   "source": [
    "saina.drop(['نام خودرو'], axis=1, inplace=True)"
   ]
  },
  {
   "cell_type": "code",
   "execution_count": 15,
   "id": "37ad3fb0",
   "metadata": {},
   "outputs": [
    {
     "data": {
      "text/html": [
       "<div>\n",
       "<style scoped>\n",
       "    .dataframe tbody tr th:only-of-type {\n",
       "        vertical-align: middle;\n",
       "    }\n",
       "\n",
       "    .dataframe tbody tr th {\n",
       "        vertical-align: top;\n",
       "    }\n",
       "\n",
       "    .dataframe thead th {\n",
       "        text-align: right;\n",
       "    }\n",
       "</style>\n",
       "<table border=\"1\" class=\"dataframe\">\n",
       "  <thead>\n",
       "    <tr style=\"text-align: right;\">\n",
       "      <th></th>\n",
       "      <th>سال تولید</th>\n",
       "      <th>مدل</th>\n",
       "      <th>کارکرد</th>\n",
       "      <th>گیربکس</th>\n",
       "      <th>رنگ</th>\n",
       "      <th>قیمت</th>\n",
       "    </tr>\n",
       "  </thead>\n",
       "  <tbody>\n",
       "    <tr>\n",
       "      <th>1</th>\n",
       "      <td>1400</td>\n",
       "      <td>S</td>\n",
       "      <td>14000</td>\n",
       "      <td>دنده ای</td>\n",
       "      <td>سفید</td>\n",
       "      <td>300000000</td>\n",
       "    </tr>\n",
       "    <tr>\n",
       "      <th>2</th>\n",
       "      <td>1399</td>\n",
       "      <td>EX</td>\n",
       "      <td>46000</td>\n",
       "      <td>دنده ای</td>\n",
       "      <td>سفید</td>\n",
       "      <td>290000000</td>\n",
       "    </tr>\n",
       "    <tr>\n",
       "      <th>3</th>\n",
       "      <td>1401</td>\n",
       "      <td>S</td>\n",
       "      <td>0</td>\n",
       "      <td>دنده ای</td>\n",
       "      <td>سفید</td>\n",
       "      <td>320000000</td>\n",
       "    </tr>\n",
       "    <tr>\n",
       "      <th>5</th>\n",
       "      <td>1396</td>\n",
       "      <td>EX</td>\n",
       "      <td>133000</td>\n",
       "      <td>دنده ای</td>\n",
       "      <td>سفید</td>\n",
       "      <td>257000000</td>\n",
       "    </tr>\n",
       "    <tr>\n",
       "      <th>6</th>\n",
       "      <td>1401</td>\n",
       "      <td>S</td>\n",
       "      <td>0</td>\n",
       "      <td>دنده ای</td>\n",
       "      <td>سفید</td>\n",
       "      <td>307000000</td>\n",
       "    </tr>\n",
       "    <tr>\n",
       "      <th>...</th>\n",
       "      <td>...</td>\n",
       "      <td>...</td>\n",
       "      <td>...</td>\n",
       "      <td>...</td>\n",
       "      <td>...</td>\n",
       "      <td>...</td>\n",
       "    </tr>\n",
       "    <tr>\n",
       "      <th>147</th>\n",
       "      <td>1401</td>\n",
       "      <td>EX</td>\n",
       "      <td>6200</td>\n",
       "      <td>دنده ای</td>\n",
       "      <td>سفید</td>\n",
       "      <td>297000000</td>\n",
       "    </tr>\n",
       "    <tr>\n",
       "      <th>148</th>\n",
       "      <td>1398</td>\n",
       "      <td>EX</td>\n",
       "      <td>18000</td>\n",
       "      <td>دنده ای</td>\n",
       "      <td>سفید</td>\n",
       "      <td>270000000</td>\n",
       "    </tr>\n",
       "    <tr>\n",
       "      <th>149</th>\n",
       "      <td>1399</td>\n",
       "      <td>EX</td>\n",
       "      <td>47000</td>\n",
       "      <td>دنده ای</td>\n",
       "      <td>سفید</td>\n",
       "      <td>275000000</td>\n",
       "    </tr>\n",
       "    <tr>\n",
       "      <th>150</th>\n",
       "      <td>1401</td>\n",
       "      <td>S</td>\n",
       "      <td>0</td>\n",
       "      <td>دنده ای</td>\n",
       "      <td>سفید</td>\n",
       "      <td>304000000</td>\n",
       "    </tr>\n",
       "    <tr>\n",
       "      <th>151</th>\n",
       "      <td>1401</td>\n",
       "      <td>S</td>\n",
       "      <td>17</td>\n",
       "      <td>دنده ای</td>\n",
       "      <td>سفید</td>\n",
       "      <td>295000000</td>\n",
       "    </tr>\n",
       "  </tbody>\n",
       "</table>\n",
       "<p>140 rows × 6 columns</p>\n",
       "</div>"
      ],
      "text/plain": [
       "     سال تولید مدل  کارکرد   گیربکس   رنگ       قیمت\n",
       "1         1400   S   14000  دنده ای  سفید  300000000\n",
       "2         1399  EX   46000  دنده ای  سفید  290000000\n",
       "3         1401   S       0  دنده ای  سفید  320000000\n",
       "5         1396  EX  133000  دنده ای  سفید  257000000\n",
       "6         1401   S       0  دنده ای  سفید  307000000\n",
       "..         ...  ..     ...      ...   ...        ...\n",
       "147       1401  EX    6200  دنده ای  سفید  297000000\n",
       "148       1398  EX   18000  دنده ای  سفید  270000000\n",
       "149       1399  EX   47000  دنده ای  سفید  275000000\n",
       "150       1401   S       0  دنده ای  سفید  304000000\n",
       "151       1401   S      17  دنده ای  سفید  295000000\n",
       "\n",
       "[140 rows x 6 columns]"
      ]
     },
     "execution_count": 15,
     "metadata": {},
     "output_type": "execute_result"
    }
   ],
   "source": [
    "saina"
   ]
  },
  {
   "cell_type": "markdown",
   "id": "b48def0a",
   "metadata": {},
   "source": [
    "## One-hot fields"
   ]
  },
  {
   "cell_type": "code",
   "execution_count": 16,
   "id": "698a9fa4",
   "metadata": {},
   "outputs": [],
   "source": [
    "def make_one_hot(data, field):\n",
    "    temp = pd.get_dummies(data[field], prefix=field)\n",
    "    data.drop(field, axis=1, inplace=True)\n",
    "    return pd.concat([data, temp], axis=1)"
   ]
  },
  {
   "cell_type": "code",
   "execution_count": 17,
   "id": "62a5c590",
   "metadata": {},
   "outputs": [],
   "source": [
    "saina = make_one_hot(saina, 'مدل')\n",
    "saina = make_one_hot(saina, 'گیربکس')\n",
    "saina = make_one_hot(saina, 'رنگ')"
   ]
  },
  {
   "cell_type": "code",
   "execution_count": 18,
   "id": "4b9460ba",
   "metadata": {},
   "outputs": [
    {
     "data": {
      "text/html": [
       "<div>\n",
       "<style scoped>\n",
       "    .dataframe tbody tr th:only-of-type {\n",
       "        vertical-align: middle;\n",
       "    }\n",
       "\n",
       "    .dataframe tbody tr th {\n",
       "        vertical-align: top;\n",
       "    }\n",
       "\n",
       "    .dataframe thead th {\n",
       "        text-align: right;\n",
       "    }\n",
       "</style>\n",
       "<table border=\"1\" class=\"dataframe\">\n",
       "  <thead>\n",
       "    <tr style=\"text-align: right;\">\n",
       "      <th></th>\n",
       "      <th>سال تولید</th>\n",
       "      <th>کارکرد</th>\n",
       "      <th>قیمت</th>\n",
       "      <th>مدل_EX</th>\n",
       "      <th>مدل_S</th>\n",
       "      <th>گیربکس_دنده ای</th>\n",
       "      <th>رنگ_سفید</th>\n",
       "    </tr>\n",
       "  </thead>\n",
       "  <tbody>\n",
       "    <tr>\n",
       "      <th>1</th>\n",
       "      <td>1400</td>\n",
       "      <td>14000</td>\n",
       "      <td>300000000</td>\n",
       "      <td>0</td>\n",
       "      <td>1</td>\n",
       "      <td>1</td>\n",
       "      <td>1</td>\n",
       "    </tr>\n",
       "    <tr>\n",
       "      <th>2</th>\n",
       "      <td>1399</td>\n",
       "      <td>46000</td>\n",
       "      <td>290000000</td>\n",
       "      <td>1</td>\n",
       "      <td>0</td>\n",
       "      <td>1</td>\n",
       "      <td>1</td>\n",
       "    </tr>\n",
       "    <tr>\n",
       "      <th>3</th>\n",
       "      <td>1401</td>\n",
       "      <td>0</td>\n",
       "      <td>320000000</td>\n",
       "      <td>0</td>\n",
       "      <td>1</td>\n",
       "      <td>1</td>\n",
       "      <td>1</td>\n",
       "    </tr>\n",
       "    <tr>\n",
       "      <th>5</th>\n",
       "      <td>1396</td>\n",
       "      <td>133000</td>\n",
       "      <td>257000000</td>\n",
       "      <td>1</td>\n",
       "      <td>0</td>\n",
       "      <td>1</td>\n",
       "      <td>1</td>\n",
       "    </tr>\n",
       "    <tr>\n",
       "      <th>6</th>\n",
       "      <td>1401</td>\n",
       "      <td>0</td>\n",
       "      <td>307000000</td>\n",
       "      <td>0</td>\n",
       "      <td>1</td>\n",
       "      <td>1</td>\n",
       "      <td>1</td>\n",
       "    </tr>\n",
       "    <tr>\n",
       "      <th>...</th>\n",
       "      <td>...</td>\n",
       "      <td>...</td>\n",
       "      <td>...</td>\n",
       "      <td>...</td>\n",
       "      <td>...</td>\n",
       "      <td>...</td>\n",
       "      <td>...</td>\n",
       "    </tr>\n",
       "    <tr>\n",
       "      <th>147</th>\n",
       "      <td>1401</td>\n",
       "      <td>6200</td>\n",
       "      <td>297000000</td>\n",
       "      <td>1</td>\n",
       "      <td>0</td>\n",
       "      <td>1</td>\n",
       "      <td>1</td>\n",
       "    </tr>\n",
       "    <tr>\n",
       "      <th>148</th>\n",
       "      <td>1398</td>\n",
       "      <td>18000</td>\n",
       "      <td>270000000</td>\n",
       "      <td>1</td>\n",
       "      <td>0</td>\n",
       "      <td>1</td>\n",
       "      <td>1</td>\n",
       "    </tr>\n",
       "    <tr>\n",
       "      <th>149</th>\n",
       "      <td>1399</td>\n",
       "      <td>47000</td>\n",
       "      <td>275000000</td>\n",
       "      <td>1</td>\n",
       "      <td>0</td>\n",
       "      <td>1</td>\n",
       "      <td>1</td>\n",
       "    </tr>\n",
       "    <tr>\n",
       "      <th>150</th>\n",
       "      <td>1401</td>\n",
       "      <td>0</td>\n",
       "      <td>304000000</td>\n",
       "      <td>0</td>\n",
       "      <td>1</td>\n",
       "      <td>1</td>\n",
       "      <td>1</td>\n",
       "    </tr>\n",
       "    <tr>\n",
       "      <th>151</th>\n",
       "      <td>1401</td>\n",
       "      <td>17</td>\n",
       "      <td>295000000</td>\n",
       "      <td>0</td>\n",
       "      <td>1</td>\n",
       "      <td>1</td>\n",
       "      <td>1</td>\n",
       "    </tr>\n",
       "  </tbody>\n",
       "</table>\n",
       "<p>140 rows × 7 columns</p>\n",
       "</div>"
      ],
      "text/plain": [
       "     سال تولید  کارکرد       قیمت  مدل_EX  مدل_S  گیربکس_دنده ای  رنگ_سفید\n",
       "1         1400   14000  300000000       0      1               1         1\n",
       "2         1399   46000  290000000       1      0               1         1\n",
       "3         1401       0  320000000       0      1               1         1\n",
       "5         1396  133000  257000000       1      0               1         1\n",
       "6         1401       0  307000000       0      1               1         1\n",
       "..         ...     ...        ...     ...    ...             ...       ...\n",
       "147       1401    6200  297000000       1      0               1         1\n",
       "148       1398   18000  270000000       1      0               1         1\n",
       "149       1399   47000  275000000       1      0               1         1\n",
       "150       1401       0  304000000       0      1               1         1\n",
       "151       1401      17  295000000       0      1               1         1\n",
       "\n",
       "[140 rows x 7 columns]"
      ]
     },
     "execution_count": 18,
     "metadata": {},
     "output_type": "execute_result"
    }
   ],
   "source": [
    "saina"
   ]
  },
  {
   "cell_type": "markdown",
   "id": "90cec9b4",
   "metadata": {},
   "source": [
    "## Remove the label"
   ]
  },
  {
   "cell_type": "code",
   "execution_count": 19,
   "id": "b260ee9c",
   "metadata": {},
   "outputs": [],
   "source": [
    "labels = saina['قیمت']\n",
    "saina.drop(['قیمت'], axis=1, inplace=True)"
   ]
  },
  {
   "cell_type": "markdown",
   "id": "586d096c",
   "metadata": {},
   "source": [
    "## Separating data into train and test sections"
   ]
  },
  {
   "cell_type": "code",
   "execution_count": 20,
   "id": "f04d866e",
   "metadata": {},
   "outputs": [],
   "source": [
    "from sklearn.model_selection import train_test_split\n",
    "\n",
    "x_train, x_test, y_train, y_test = train_test_split(saina, labels, test_size=0.1, shuffle=True)"
   ]
  },
  {
   "cell_type": "markdown",
   "id": "b128846e",
   "metadata": {},
   "source": [
    "## Model making"
   ]
  },
  {
   "cell_type": "code",
   "execution_count": 21,
   "id": "0a9d2c5d",
   "metadata": {},
   "outputs": [
    {
     "name": "stdout",
     "output_type": "stream",
     "text": [
      "6,166,519 MT\n"
     ]
    }
   ],
   "source": [
    "from sklearn.linear_model import LinearRegression\n",
    "from sklearn.metrics import mean_absolute_error\n",
    "\n",
    "saina_model = LinearRegression()\n",
    "saina_model.fit(x_train, y_train)\n",
    "prediction = saina_model.predict(x_test)\n",
    "\n",
    "error = int(mean_absolute_error(y_test, prediction))\n",
    "print(f'{error:,} MT')"
   ]
  },
  {
   "cell_type": "markdown",
   "id": "006b986a",
   "metadata": {},
   "source": [
    "## Save the model"
   ]
  },
  {
   "cell_type": "code",
   "execution_count": 22,
   "id": "f1b2da9d",
   "metadata": {},
   "outputs": [],
   "source": [
    "import pickle\n",
    "pickle.dump(saina_model, open('saina_model.sav', 'wb'))"
   ]
  }
 ],
 "metadata": {
  "kernelspec": {
   "display_name": "Python 3 (ipykernel)",
   "language": "python",
   "name": "python3"
  },
  "language_info": {
   "codemirror_mode": {
    "name": "ipython",
    "version": 3
   },
   "file_extension": ".py",
   "mimetype": "text/x-python",
   "name": "python",
   "nbconvert_exporter": "python",
   "pygments_lexer": "ipython3",
   "version": "3.8.5"
  }
 },
 "nbformat": 4,
 "nbformat_minor": 5
}
