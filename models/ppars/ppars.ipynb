{
 "cells": [
  {
   "cell_type": "markdown",
   "id": "66d23d00",
   "metadata": {},
   "source": [
    "# Pre-processing data and create model for Peugeot Pars"
   ]
  },
  {
   "cell_type": "markdown",
   "id": "62ce209d",
   "metadata": {},
   "source": [
    "## Importing packages"
   ]
  },
  {
   "cell_type": "code",
   "execution_count": 1,
   "id": "671f777d",
   "metadata": {},
   "outputs": [],
   "source": [
    "import os\n",
    "import pandas as pd\n",
    "import warnings\n",
    "warnings.filterwarnings('ignore')"
   ]
  },
  {
   "cell_type": "markdown",
   "id": "75367701",
   "metadata": {},
   "source": [
    "## Reading dataset"
   ]
  },
  {
   "cell_type": "code",
   "execution_count": 2,
   "id": "c03a9d3f",
   "metadata": {},
   "outputs": [],
   "source": [
    "ppars = pd.read_csv(f\"{'/'.join(os.getcwd().split('/')[:-2])}/datasets/ppars.csv\")"
   ]
  },
  {
   "cell_type": "code",
   "execution_count": 3,
   "id": "8768a4d2",
   "metadata": {},
   "outputs": [
    {
     "data": {
      "text/html": [
       "<div>\n",
       "<style scoped>\n",
       "    .dataframe tbody tr th:only-of-type {\n",
       "        vertical-align: middle;\n",
       "    }\n",
       "\n",
       "    .dataframe tbody tr th {\n",
       "        vertical-align: top;\n",
       "    }\n",
       "\n",
       "    .dataframe thead th {\n",
       "        text-align: right;\n",
       "    }\n",
       "</style>\n",
       "<table border=\"1\" class=\"dataframe\">\n",
       "  <thead>\n",
       "    <tr style=\"text-align: right;\">\n",
       "      <th></th>\n",
       "      <th>0</th>\n",
       "      <th>1</th>\n",
       "      <th>2</th>\n",
       "      <th>3</th>\n",
       "      <th>4</th>\n",
       "      <th>5</th>\n",
       "      <th>6</th>\n",
       "    </tr>\n",
       "  </thead>\n",
       "  <tbody>\n",
       "    <tr>\n",
       "      <th>0</th>\n",
       "      <td>پژو،</td>\n",
       "      <td>1401</td>\n",
       "      <td>XU7P-پارس</td>\n",
       "      <td>کارکرد صفر</td>\n",
       "      <td>دنده ای</td>\n",
       "      <td>سفید</td>\n",
       "      <td>472,000,000</td>\n",
       "    </tr>\n",
       "    <tr>\n",
       "      <th>1</th>\n",
       "      <td>پژو،</td>\n",
       "      <td>1401</td>\n",
       "      <td>LX-پارس</td>\n",
       "      <td>کارکرد صفر</td>\n",
       "      <td>دنده ای</td>\n",
       "      <td>سفید</td>\n",
       "      <td>562,000,000</td>\n",
       "    </tr>\n",
       "    <tr>\n",
       "      <th>2</th>\n",
       "      <td>پژو،</td>\n",
       "      <td>1399</td>\n",
       "      <td>دوگانه سوز-پارس</td>\n",
       "      <td>42,000 کیلومتر</td>\n",
       "      <td>دنده ای</td>\n",
       "      <td>سفید</td>\n",
       "      <td>488,000,000</td>\n",
       "    </tr>\n",
       "    <tr>\n",
       "      <th>3</th>\n",
       "      <td>پژو،</td>\n",
       "      <td>1399</td>\n",
       "      <td>XU7-پارس</td>\n",
       "      <td>48,000 کیلومتر</td>\n",
       "      <td>دنده ای</td>\n",
       "      <td>خاکستری</td>\n",
       "      <td>430,000,000</td>\n",
       "    </tr>\n",
       "    <tr>\n",
       "      <th>4</th>\n",
       "      <td>پژو،</td>\n",
       "      <td>1401</td>\n",
       "      <td>XU7-پارس</td>\n",
       "      <td>30,000 کیلومتر</td>\n",
       "      <td>دنده ای</td>\n",
       "      <td>سفید</td>\n",
       "      <td>451,000,000</td>\n",
       "    </tr>\n",
       "    <tr>\n",
       "      <th>...</th>\n",
       "      <td>...</td>\n",
       "      <td>...</td>\n",
       "      <td>...</td>\n",
       "      <td>...</td>\n",
       "      <td>...</td>\n",
       "      <td>...</td>\n",
       "      <td>...</td>\n",
       "    </tr>\n",
       "    <tr>\n",
       "      <th>200</th>\n",
       "      <td>پژو،</td>\n",
       "      <td>1398</td>\n",
       "      <td>LX-پارس</td>\n",
       "      <td>76,000 کیلومتر</td>\n",
       "      <td>دنده ای</td>\n",
       "      <td>سفید</td>\n",
       "      <td>456,000,000</td>\n",
       "    </tr>\n",
       "    <tr>\n",
       "      <th>201</th>\n",
       "      <td>پژو،</td>\n",
       "      <td>1400</td>\n",
       "      <td>LX-پارس</td>\n",
       "      <td>10,000 کیلومتر</td>\n",
       "      <td>دنده ای</td>\n",
       "      <td>نوک مدادی</td>\n",
       "      <td>515,000,000</td>\n",
       "    </tr>\n",
       "    <tr>\n",
       "      <th>202</th>\n",
       "      <td>پژو،</td>\n",
       "      <td>1399</td>\n",
       "      <td>XU7-پارس</td>\n",
       "      <td>59,000 کیلومتر</td>\n",
       "      <td>دنده ای</td>\n",
       "      <td>سفید</td>\n",
       "      <td>396,000,000</td>\n",
       "    </tr>\n",
       "    <tr>\n",
       "      <th>203</th>\n",
       "      <td>پژو،</td>\n",
       "      <td>1401</td>\n",
       "      <td>LX-پارس</td>\n",
       "      <td>کارکرد صفر</td>\n",
       "      <td>دنده ای</td>\n",
       "      <td>سفید</td>\n",
       "      <td>525,000,000</td>\n",
       "    </tr>\n",
       "    <tr>\n",
       "      <th>204</th>\n",
       "      <td>پژو،</td>\n",
       "      <td>1401</td>\n",
       "      <td>XU7P-پارس</td>\n",
       "      <td>600 کیلومتر</td>\n",
       "      <td>دنده ای</td>\n",
       "      <td>سفید</td>\n",
       "      <td>443,000,000</td>\n",
       "    </tr>\n",
       "  </tbody>\n",
       "</table>\n",
       "<p>205 rows × 7 columns</p>\n",
       "</div>"
      ],
      "text/plain": [
       "        0     1                2               3        4          5  \\\n",
       "0    پژو،  1401        XU7P-پارس      کارکرد صفر  دنده ای       سفید   \n",
       "1    پژو،  1401          LX-پارس      کارکرد صفر  دنده ای       سفید   \n",
       "2    پژو،  1399  دوگانه سوز-پارس  42,000 کیلومتر  دنده ای       سفید   \n",
       "3    پژو،  1399         XU7-پارس  48,000 کیلومتر  دنده ای    خاکستری   \n",
       "4    پژو،  1401         XU7-پارس  30,000 کیلومتر  دنده ای       سفید   \n",
       "..    ...   ...              ...             ...      ...        ...   \n",
       "200  پژو،  1398          LX-پارس  76,000 کیلومتر  دنده ای       سفید   \n",
       "201  پژو،  1400          LX-پارس  10,000 کیلومتر  دنده ای  نوک مدادی   \n",
       "202  پژو،  1399         XU7-پارس  59,000 کیلومتر  دنده ای       سفید   \n",
       "203  پژو،  1401          LX-پارس      کارکرد صفر  دنده ای       سفید   \n",
       "204  پژو،  1401        XU7P-پارس     600 کیلومتر  دنده ای       سفید   \n",
       "\n",
       "               6  \n",
       "0    472,000,000  \n",
       "1    562,000,000  \n",
       "2    488,000,000  \n",
       "3    430,000,000  \n",
       "4    451,000,000  \n",
       "..           ...  \n",
       "200  456,000,000  \n",
       "201  515,000,000  \n",
       "202  396,000,000  \n",
       "203  525,000,000  \n",
       "204  443,000,000  \n",
       "\n",
       "[205 rows x 7 columns]"
      ]
     },
     "execution_count": 3,
     "metadata": {},
     "output_type": "execute_result"
    }
   ],
   "source": [
    "ppars"
   ]
  },
  {
   "cell_type": "markdown",
   "id": "3d24f6b3",
   "metadata": {},
   "source": [
    "## Change columns name"
   ]
  },
  {
   "cell_type": "code",
   "execution_count": 4,
   "id": "ef1b6971",
   "metadata": {},
   "outputs": [],
   "source": [
    "def edit_cols_name(df):\n",
    "    df.rename(columns={'0': 'نام خودرو'}, inplace=True)\n",
    "    df.rename(columns={'1': 'سال تولید'}, inplace=True)\n",
    "    df.rename(columns={'2': 'مدل'}, inplace=True)\n",
    "    df.rename(columns={'3': 'کارکرد'}, inplace=True)\n",
    "    df.rename(columns={'4': 'گیربکس'}, inplace=True)\n",
    "    df.rename(columns={'5': 'رنگ'}, inplace=True)\n",
    "    df.rename(columns={'6': 'قیمت'}, inplace=True)\n",
    "    \n",
    "edit_cols_name(ppars)"
   ]
  },
  {
   "cell_type": "markdown",
   "id": "b887ef10",
   "metadata": {},
   "source": [
    "## Convert km to standard mode"
   ]
  },
  {
   "cell_type": "code",
   "execution_count": 5,
   "id": "729ea3ac",
   "metadata": {},
   "outputs": [],
   "source": [
    "def fix_km(df):\n",
    "    for index in range(len(df['کارکرد'])):\n",
    "        if df['کارکرد'][index].strip() == 'کارکرد صفر':\n",
    "            df['کارکرد'][index] = 0\n",
    "        elif 'کیلومتر' in df['کارکرد'][index]:\n",
    "            df['کارکرد'][index] = int(df['کارکرد'][index].split()[0].replace(',', ''))\n",
    "                   \n",
    "fix_km(ppars)"
   ]
  },
  {
   "cell_type": "markdown",
   "id": "bf2478fe",
   "metadata": {},
   "source": [
    "## Convert price to standard mode"
   ]
  },
  {
   "cell_type": "code",
   "execution_count": 6,
   "id": "dd10d18d",
   "metadata": {},
   "outputs": [],
   "source": [
    "for i in range(len(ppars)):\n",
    "    ppars['قیمت'][i] = ppars['قیمت'][i].replace(',', '')\n",
    "    ppars['قیمت'][i] = int(ppars['قیمت'][i])"
   ]
  },
  {
   "cell_type": "markdown",
   "id": "4a604e25",
   "metadata": {},
   "source": [
    "## Check different car models and organize them"
   ]
  },
  {
   "cell_type": "code",
   "execution_count": 7,
   "id": "258ceb28",
   "metadata": {},
   "outputs": [
    {
     "data": {
      "text/plain": [
       "LX-پارس            79\n",
       "XU7-پارس           51\n",
       "XU7P-پارس          46\n",
       "دوگانه سوز-پارس     9\n",
       "ELX-XU7P-پارس       9\n",
       "اتوماتیک-پارس       6\n",
       "ELX-TU5-پارس        3\n",
       "ELX-XUM-پارس        2\n",
       "Name: مدل, dtype: int64"
      ]
     },
     "execution_count": 7,
     "metadata": {},
     "output_type": "execute_result"
    }
   ],
   "source": [
    "ppars['مدل'].value_counts()"
   ]
  },
  {
   "cell_type": "code",
   "execution_count": 8,
   "id": "f0f06102",
   "metadata": {},
   "outputs": [],
   "source": [
    "for i in range(len(ppars)):\n",
    "    ppars['نام خودرو'][i] = 'پارس'\n",
    "    ppars['مدل'][i] = ppars['مدل'][i].split('-')[0]\n",
    "    \n",
    "ppars.drop(ppars[ppars['مدل'] == 'دوگانه سوز'].index, axis=0, inplace=True)\n",
    "ppars.drop(ppars[ppars['مدل'] == 'اتوماتیک'].index, axis=0, inplace=True)"
   ]
  },
  {
   "cell_type": "code",
   "execution_count": 9,
   "id": "ac04f5dd",
   "metadata": {
    "scrolled": true
   },
   "outputs": [
    {
     "data": {
      "text/plain": [
       "LX      79\n",
       "XU7     51\n",
       "XU7P    46\n",
       "ELX     14\n",
       "Name: مدل, dtype: int64"
      ]
     },
     "execution_count": 9,
     "metadata": {},
     "output_type": "execute_result"
    }
   ],
   "source": [
    "ppars['مدل'].value_counts()"
   ]
  },
  {
   "cell_type": "markdown",
   "id": "5c16f362",
   "metadata": {},
   "source": [
    "## Delete the especially missing value"
   ]
  },
  {
   "cell_type": "code",
   "execution_count": 10,
   "id": "734ef33b",
   "metadata": {},
   "outputs": [],
   "source": [
    "ppars.drop(ppars[ppars['کارکرد'] == 'کارکرده'].index, axis=0, inplace=True)"
   ]
  },
  {
   "cell_type": "markdown",
   "id": "0c59cc14",
   "metadata": {},
   "source": [
    "## Check different car colors and organize them"
   ]
  },
  {
   "cell_type": "code",
   "execution_count": 11,
   "id": "117d20ec",
   "metadata": {},
   "outputs": [
    {
     "data": {
      "text/plain": [
       "سفید         153\n",
       "خاکستری       19\n",
       "مشکی           9\n",
       "نوک مدادی      4\n",
       "دلفینی         2\n",
       "آبی            1\n",
       "نقره ای        1\n",
       "قهوه ای        1\n",
       "Name: رنگ, dtype: int64"
      ]
     },
     "execution_count": 11,
     "metadata": {},
     "output_type": "execute_result"
    }
   ],
   "source": [
    "ppars['رنگ'].value_counts()"
   ]
  },
  {
   "cell_type": "code",
   "execution_count": 12,
   "id": "8f5d0366",
   "metadata": {},
   "outputs": [],
   "source": [
    "ppars.drop(ppars[ppars['رنگ'] == 'مشکی'].index, axis=0, inplace=True)\n",
    "ppars.drop(ppars[ppars['رنگ'] == 'آبی'].index, axis=0, inplace=True)\n",
    "ppars.drop(ppars[ppars['رنگ'] == 'نوک مدادی'].index, axis=0, inplace=True)\n",
    "ppars.drop(ppars[ppars['رنگ'] == 'نقره ای'].index, axis=0, inplace=True)\n",
    "ppars.drop(ppars[ppars['رنگ'] == 'قهوه ای'].index, axis=0, inplace=True)\n",
    "ppars.drop(ppars[ppars['رنگ'] == 'دلفینی'].index, axis=0, inplace=True)"
   ]
  },
  {
   "cell_type": "code",
   "execution_count": 13,
   "id": "d88ad96c",
   "metadata": {
    "scrolled": true
   },
   "outputs": [
    {
     "data": {
      "text/plain": [
       "سفید       153\n",
       "خاکستری     19\n",
       "Name: رنگ, dtype: int64"
      ]
     },
     "execution_count": 13,
     "metadata": {},
     "output_type": "execute_result"
    }
   ],
   "source": [
    "ppars['رنگ'].value_counts()"
   ]
  },
  {
   "cell_type": "markdown",
   "id": "9c995123",
   "metadata": {},
   "source": [
    "## Remove extra fields"
   ]
  },
  {
   "cell_type": "code",
   "execution_count": 14,
   "id": "ea9d2951",
   "metadata": {},
   "outputs": [],
   "source": [
    "ppars.drop(['نام خودرو'], axis=1, inplace=True)"
   ]
  },
  {
   "cell_type": "code",
   "execution_count": 15,
   "id": "184a9f24",
   "metadata": {},
   "outputs": [
    {
     "data": {
      "text/html": [
       "<div>\n",
       "<style scoped>\n",
       "    .dataframe tbody tr th:only-of-type {\n",
       "        vertical-align: middle;\n",
       "    }\n",
       "\n",
       "    .dataframe tbody tr th {\n",
       "        vertical-align: top;\n",
       "    }\n",
       "\n",
       "    .dataframe thead th {\n",
       "        text-align: right;\n",
       "    }\n",
       "</style>\n",
       "<table border=\"1\" class=\"dataframe\">\n",
       "  <thead>\n",
       "    <tr style=\"text-align: right;\">\n",
       "      <th></th>\n",
       "      <th>سال تولید</th>\n",
       "      <th>مدل</th>\n",
       "      <th>کارکرد</th>\n",
       "      <th>گیربکس</th>\n",
       "      <th>رنگ</th>\n",
       "      <th>قیمت</th>\n",
       "    </tr>\n",
       "  </thead>\n",
       "  <tbody>\n",
       "    <tr>\n",
       "      <th>0</th>\n",
       "      <td>1401</td>\n",
       "      <td>XU7P</td>\n",
       "      <td>0</td>\n",
       "      <td>دنده ای</td>\n",
       "      <td>سفید</td>\n",
       "      <td>472000000</td>\n",
       "    </tr>\n",
       "    <tr>\n",
       "      <th>1</th>\n",
       "      <td>1401</td>\n",
       "      <td>LX</td>\n",
       "      <td>0</td>\n",
       "      <td>دنده ای</td>\n",
       "      <td>سفید</td>\n",
       "      <td>562000000</td>\n",
       "    </tr>\n",
       "    <tr>\n",
       "      <th>3</th>\n",
       "      <td>1399</td>\n",
       "      <td>XU7</td>\n",
       "      <td>48000</td>\n",
       "      <td>دنده ای</td>\n",
       "      <td>خاکستری</td>\n",
       "      <td>430000000</td>\n",
       "    </tr>\n",
       "    <tr>\n",
       "      <th>4</th>\n",
       "      <td>1401</td>\n",
       "      <td>XU7</td>\n",
       "      <td>30000</td>\n",
       "      <td>دنده ای</td>\n",
       "      <td>سفید</td>\n",
       "      <td>451000000</td>\n",
       "    </tr>\n",
       "    <tr>\n",
       "      <th>5</th>\n",
       "      <td>1401</td>\n",
       "      <td>XU7P</td>\n",
       "      <td>0</td>\n",
       "      <td>دنده ای</td>\n",
       "      <td>سفید</td>\n",
       "      <td>485000000</td>\n",
       "    </tr>\n",
       "    <tr>\n",
       "      <th>...</th>\n",
       "      <td>...</td>\n",
       "      <td>...</td>\n",
       "      <td>...</td>\n",
       "      <td>...</td>\n",
       "      <td>...</td>\n",
       "      <td>...</td>\n",
       "    </tr>\n",
       "    <tr>\n",
       "      <th>199</th>\n",
       "      <td>1401</td>\n",
       "      <td>XU7P</td>\n",
       "      <td>2000</td>\n",
       "      <td>دنده ای</td>\n",
       "      <td>سفید</td>\n",
       "      <td>430000000</td>\n",
       "    </tr>\n",
       "    <tr>\n",
       "      <th>200</th>\n",
       "      <td>1398</td>\n",
       "      <td>LX</td>\n",
       "      <td>76000</td>\n",
       "      <td>دنده ای</td>\n",
       "      <td>سفید</td>\n",
       "      <td>456000000</td>\n",
       "    </tr>\n",
       "    <tr>\n",
       "      <th>202</th>\n",
       "      <td>1399</td>\n",
       "      <td>XU7</td>\n",
       "      <td>59000</td>\n",
       "      <td>دنده ای</td>\n",
       "      <td>سفید</td>\n",
       "      <td>396000000</td>\n",
       "    </tr>\n",
       "    <tr>\n",
       "      <th>203</th>\n",
       "      <td>1401</td>\n",
       "      <td>LX</td>\n",
       "      <td>0</td>\n",
       "      <td>دنده ای</td>\n",
       "      <td>سفید</td>\n",
       "      <td>525000000</td>\n",
       "    </tr>\n",
       "    <tr>\n",
       "      <th>204</th>\n",
       "      <td>1401</td>\n",
       "      <td>XU7P</td>\n",
       "      <td>600</td>\n",
       "      <td>دنده ای</td>\n",
       "      <td>سفید</td>\n",
       "      <td>443000000</td>\n",
       "    </tr>\n",
       "  </tbody>\n",
       "</table>\n",
       "<p>172 rows × 6 columns</p>\n",
       "</div>"
      ],
      "text/plain": [
       "     سال تولید   مدل کارکرد   گیربکس      رنگ       قیمت\n",
       "0         1401  XU7P      0  دنده ای     سفید  472000000\n",
       "1         1401    LX      0  دنده ای     سفید  562000000\n",
       "3         1399   XU7  48000  دنده ای  خاکستری  430000000\n",
       "4         1401   XU7  30000  دنده ای     سفید  451000000\n",
       "5         1401  XU7P      0  دنده ای     سفید  485000000\n",
       "..         ...   ...    ...      ...      ...        ...\n",
       "199       1401  XU7P   2000  دنده ای     سفید  430000000\n",
       "200       1398    LX  76000  دنده ای     سفید  456000000\n",
       "202       1399   XU7  59000  دنده ای     سفید  396000000\n",
       "203       1401    LX      0  دنده ای     سفید  525000000\n",
       "204       1401  XU7P    600  دنده ای     سفید  443000000\n",
       "\n",
       "[172 rows x 6 columns]"
      ]
     },
     "execution_count": 15,
     "metadata": {},
     "output_type": "execute_result"
    }
   ],
   "source": [
    "ppars"
   ]
  },
  {
   "cell_type": "markdown",
   "id": "e003bce7",
   "metadata": {},
   "source": [
    "## One-hot fields"
   ]
  },
  {
   "cell_type": "code",
   "execution_count": 16,
   "id": "5454f42c",
   "metadata": {},
   "outputs": [],
   "source": [
    "def make_one_hot(data, field):\n",
    "    temp = pd.get_dummies(data[field], prefix=field)\n",
    "    data.drop(field, axis=1, inplace=True)\n",
    "    return pd.concat([data, temp], axis=1)"
   ]
  },
  {
   "cell_type": "code",
   "execution_count": 17,
   "id": "8ace11f7",
   "metadata": {},
   "outputs": [],
   "source": [
    "ppars = make_one_hot(ppars, 'مدل')\n",
    "ppars = make_one_hot(ppars, 'گیربکس')\n",
    "ppars = make_one_hot(ppars, 'رنگ')"
   ]
  },
  {
   "cell_type": "code",
   "execution_count": 18,
   "id": "02a456b1",
   "metadata": {},
   "outputs": [
    {
     "data": {
      "text/html": [
       "<div>\n",
       "<style scoped>\n",
       "    .dataframe tbody tr th:only-of-type {\n",
       "        vertical-align: middle;\n",
       "    }\n",
       "\n",
       "    .dataframe tbody tr th {\n",
       "        vertical-align: top;\n",
       "    }\n",
       "\n",
       "    .dataframe thead th {\n",
       "        text-align: right;\n",
       "    }\n",
       "</style>\n",
       "<table border=\"1\" class=\"dataframe\">\n",
       "  <thead>\n",
       "    <tr style=\"text-align: right;\">\n",
       "      <th></th>\n",
       "      <th>سال تولید</th>\n",
       "      <th>کارکرد</th>\n",
       "      <th>قیمت</th>\n",
       "      <th>مدل_ELX</th>\n",
       "      <th>مدل_LX</th>\n",
       "      <th>مدل_XU7</th>\n",
       "      <th>مدل_XU7P</th>\n",
       "      <th>گیربکس_دنده ای</th>\n",
       "      <th>رنگ_خاکستری</th>\n",
       "      <th>رنگ_سفید</th>\n",
       "    </tr>\n",
       "  </thead>\n",
       "  <tbody>\n",
       "    <tr>\n",
       "      <th>0</th>\n",
       "      <td>1401</td>\n",
       "      <td>0</td>\n",
       "      <td>472000000</td>\n",
       "      <td>0</td>\n",
       "      <td>0</td>\n",
       "      <td>0</td>\n",
       "      <td>1</td>\n",
       "      <td>1</td>\n",
       "      <td>0</td>\n",
       "      <td>1</td>\n",
       "    </tr>\n",
       "    <tr>\n",
       "      <th>1</th>\n",
       "      <td>1401</td>\n",
       "      <td>0</td>\n",
       "      <td>562000000</td>\n",
       "      <td>0</td>\n",
       "      <td>1</td>\n",
       "      <td>0</td>\n",
       "      <td>0</td>\n",
       "      <td>1</td>\n",
       "      <td>0</td>\n",
       "      <td>1</td>\n",
       "    </tr>\n",
       "    <tr>\n",
       "      <th>3</th>\n",
       "      <td>1399</td>\n",
       "      <td>48000</td>\n",
       "      <td>430000000</td>\n",
       "      <td>0</td>\n",
       "      <td>0</td>\n",
       "      <td>1</td>\n",
       "      <td>0</td>\n",
       "      <td>1</td>\n",
       "      <td>1</td>\n",
       "      <td>0</td>\n",
       "    </tr>\n",
       "    <tr>\n",
       "      <th>4</th>\n",
       "      <td>1401</td>\n",
       "      <td>30000</td>\n",
       "      <td>451000000</td>\n",
       "      <td>0</td>\n",
       "      <td>0</td>\n",
       "      <td>1</td>\n",
       "      <td>0</td>\n",
       "      <td>1</td>\n",
       "      <td>0</td>\n",
       "      <td>1</td>\n",
       "    </tr>\n",
       "    <tr>\n",
       "      <th>5</th>\n",
       "      <td>1401</td>\n",
       "      <td>0</td>\n",
       "      <td>485000000</td>\n",
       "      <td>0</td>\n",
       "      <td>0</td>\n",
       "      <td>0</td>\n",
       "      <td>1</td>\n",
       "      <td>1</td>\n",
       "      <td>0</td>\n",
       "      <td>1</td>\n",
       "    </tr>\n",
       "    <tr>\n",
       "      <th>...</th>\n",
       "      <td>...</td>\n",
       "      <td>...</td>\n",
       "      <td>...</td>\n",
       "      <td>...</td>\n",
       "      <td>...</td>\n",
       "      <td>...</td>\n",
       "      <td>...</td>\n",
       "      <td>...</td>\n",
       "      <td>...</td>\n",
       "      <td>...</td>\n",
       "    </tr>\n",
       "    <tr>\n",
       "      <th>199</th>\n",
       "      <td>1401</td>\n",
       "      <td>2000</td>\n",
       "      <td>430000000</td>\n",
       "      <td>0</td>\n",
       "      <td>0</td>\n",
       "      <td>0</td>\n",
       "      <td>1</td>\n",
       "      <td>1</td>\n",
       "      <td>0</td>\n",
       "      <td>1</td>\n",
       "    </tr>\n",
       "    <tr>\n",
       "      <th>200</th>\n",
       "      <td>1398</td>\n",
       "      <td>76000</td>\n",
       "      <td>456000000</td>\n",
       "      <td>0</td>\n",
       "      <td>1</td>\n",
       "      <td>0</td>\n",
       "      <td>0</td>\n",
       "      <td>1</td>\n",
       "      <td>0</td>\n",
       "      <td>1</td>\n",
       "    </tr>\n",
       "    <tr>\n",
       "      <th>202</th>\n",
       "      <td>1399</td>\n",
       "      <td>59000</td>\n",
       "      <td>396000000</td>\n",
       "      <td>0</td>\n",
       "      <td>0</td>\n",
       "      <td>1</td>\n",
       "      <td>0</td>\n",
       "      <td>1</td>\n",
       "      <td>0</td>\n",
       "      <td>1</td>\n",
       "    </tr>\n",
       "    <tr>\n",
       "      <th>203</th>\n",
       "      <td>1401</td>\n",
       "      <td>0</td>\n",
       "      <td>525000000</td>\n",
       "      <td>0</td>\n",
       "      <td>1</td>\n",
       "      <td>0</td>\n",
       "      <td>0</td>\n",
       "      <td>1</td>\n",
       "      <td>0</td>\n",
       "      <td>1</td>\n",
       "    </tr>\n",
       "    <tr>\n",
       "      <th>204</th>\n",
       "      <td>1401</td>\n",
       "      <td>600</td>\n",
       "      <td>443000000</td>\n",
       "      <td>0</td>\n",
       "      <td>0</td>\n",
       "      <td>0</td>\n",
       "      <td>1</td>\n",
       "      <td>1</td>\n",
       "      <td>0</td>\n",
       "      <td>1</td>\n",
       "    </tr>\n",
       "  </tbody>\n",
       "</table>\n",
       "<p>172 rows × 10 columns</p>\n",
       "</div>"
      ],
      "text/plain": [
       "     سال تولید کارکرد       قیمت  مدل_ELX  مدل_LX  مدل_XU7  مدل_XU7P  \\\n",
       "0         1401      0  472000000        0       0        0         1   \n",
       "1         1401      0  562000000        0       1        0         0   \n",
       "3         1399  48000  430000000        0       0        1         0   \n",
       "4         1401  30000  451000000        0       0        1         0   \n",
       "5         1401      0  485000000        0       0        0         1   \n",
       "..         ...    ...        ...      ...     ...      ...       ...   \n",
       "199       1401   2000  430000000        0       0        0         1   \n",
       "200       1398  76000  456000000        0       1        0         0   \n",
       "202       1399  59000  396000000        0       0        1         0   \n",
       "203       1401      0  525000000        0       1        0         0   \n",
       "204       1401    600  443000000        0       0        0         1   \n",
       "\n",
       "     گیربکس_دنده ای  رنگ_خاکستری  رنگ_سفید  \n",
       "0                 1            0         1  \n",
       "1                 1            0         1  \n",
       "3                 1            1         0  \n",
       "4                 1            0         1  \n",
       "5                 1            0         1  \n",
       "..              ...          ...       ...  \n",
       "199               1            0         1  \n",
       "200               1            0         1  \n",
       "202               1            0         1  \n",
       "203               1            0         1  \n",
       "204               1            0         1  \n",
       "\n",
       "[172 rows x 10 columns]"
      ]
     },
     "execution_count": 18,
     "metadata": {},
     "output_type": "execute_result"
    }
   ],
   "source": [
    "ppars"
   ]
  },
  {
   "cell_type": "markdown",
   "id": "088657e8",
   "metadata": {},
   "source": [
    "## Remove the label"
   ]
  },
  {
   "cell_type": "code",
   "execution_count": 19,
   "id": "30dc6e2a",
   "metadata": {},
   "outputs": [],
   "source": [
    "labels = ppars['قیمت']\n",
    "ppars.drop(['قیمت'], axis=1, inplace=True)"
   ]
  },
  {
   "cell_type": "markdown",
   "id": "54a2d95a",
   "metadata": {},
   "source": [
    "## Separating data into train and test sections"
   ]
  },
  {
   "cell_type": "code",
   "execution_count": 20,
   "id": "14aa0853",
   "metadata": {},
   "outputs": [],
   "source": [
    "from sklearn.model_selection import train_test_split\n",
    "\n",
    "x_train, x_test, y_train, y_test = train_test_split(ppars, labels, test_size=0.1, shuffle=True)"
   ]
  },
  {
   "cell_type": "markdown",
   "id": "f086b398",
   "metadata": {},
   "source": [
    "## Model making"
   ]
  },
  {
   "cell_type": "code",
   "execution_count": 21,
   "id": "0aee7c7f",
   "metadata": {},
   "outputs": [
    {
     "name": "stdout",
     "output_type": "stream",
     "text": [
      "10,439,080 MT\n"
     ]
    }
   ],
   "source": [
    "from sklearn.linear_model import LinearRegression\n",
    "from sklearn.metrics import mean_absolute_error\n",
    "\n",
    "ppars_model = LinearRegression()\n",
    "ppars_model.fit(x_train, y_train)\n",
    "prediction = ppars_model.predict(x_test)\n",
    "\n",
    "error = int(mean_absolute_error(y_test, prediction))\n",
    "print(f'{error:,} MT')"
   ]
  },
  {
   "cell_type": "markdown",
   "id": "acabbad4",
   "metadata": {},
   "source": [
    "## Save the model"
   ]
  },
  {
   "cell_type": "code",
   "execution_count": 22,
   "id": "870257f3",
   "metadata": {},
   "outputs": [],
   "source": [
    "import pickle\n",
    "pickle.dump(ppars_model, open('ppars_model.sav', 'wb'))"
   ]
  }
 ],
 "metadata": {
  "kernelspec": {
   "display_name": "Python 3 (ipykernel)",
   "language": "python",
   "name": "python3"
  },
  "language_info": {
   "codemirror_mode": {
    "name": "ipython",
    "version": 3
   },
   "file_extension": ".py",
   "mimetype": "text/x-python",
   "name": "python",
   "nbconvert_exporter": "python",
   "pygments_lexer": "ipython3",
   "version": "3.8.5"
  }
 },
 "nbformat": 4,
 "nbformat_minor": 5
}
