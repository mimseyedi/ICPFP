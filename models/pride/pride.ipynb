{
 "cells": [
  {
   "cell_type": "markdown",
   "id": "cab90eb9",
   "metadata": {},
   "source": [
    "# Pre-processing data and create model for Pride"
   ]
  },
  {
   "cell_type": "markdown",
   "id": "4b86c656",
   "metadata": {},
   "source": [
    "## Importing packages"
   ]
  },
  {
   "cell_type": "code",
   "execution_count": 1,
   "id": "70d92c50",
   "metadata": {},
   "outputs": [],
   "source": [
    "import os\n",
    "import pandas as pd\n",
    "import warnings\n",
    "warnings.filterwarnings('ignore')"
   ]
  },
  {
   "cell_type": "markdown",
   "id": "9c9bf26d",
   "metadata": {},
   "source": [
    "## Reading dataset"
   ]
  },
  {
   "cell_type": "code",
   "execution_count": 2,
   "id": "75d4f161",
   "metadata": {},
   "outputs": [],
   "source": [
    "pride = pd.read_csv(f\"{'/'.join(os.getcwd().split('/')[:-2])}/datasets/pride.csv\")"
   ]
  },
  {
   "cell_type": "code",
   "execution_count": 3,
   "id": "c6a35c89",
   "metadata": {},
   "outputs": [
    {
     "data": {
      "text/html": [
       "<div>\n",
       "<style scoped>\n",
       "    .dataframe tbody tr th:only-of-type {\n",
       "        vertical-align: middle;\n",
       "    }\n",
       "\n",
       "    .dataframe tbody tr th {\n",
       "        vertical-align: top;\n",
       "    }\n",
       "\n",
       "    .dataframe thead th {\n",
       "        text-align: right;\n",
       "    }\n",
       "</style>\n",
       "<table border=\"1\" class=\"dataframe\">\n",
       "  <thead>\n",
       "    <tr style=\"text-align: right;\">\n",
       "      <th></th>\n",
       "      <th>0</th>\n",
       "      <th>1</th>\n",
       "      <th>2</th>\n",
       "      <th>3</th>\n",
       "      <th>4</th>\n",
       "      <th>5</th>\n",
       "      <th>6</th>\n",
       "    </tr>\n",
       "  </thead>\n",
       "  <tbody>\n",
       "    <tr>\n",
       "      <th>0</th>\n",
       "      <td>پراید،</td>\n",
       "      <td>1390</td>\n",
       "      <td>SL-131</td>\n",
       "      <td>150,000 کیلومتر</td>\n",
       "      <td>دنده ای</td>\n",
       "      <td>خاکستری</td>\n",
       "      <td>168,000,000</td>\n",
       "    </tr>\n",
       "    <tr>\n",
       "      <th>1</th>\n",
       "      <td>پراید،</td>\n",
       "      <td>1397</td>\n",
       "      <td>SE-131</td>\n",
       "      <td>41,000 کیلومتر</td>\n",
       "      <td>دنده ای</td>\n",
       "      <td>سفید</td>\n",
       "      <td>240,000,000</td>\n",
       "    </tr>\n",
       "    <tr>\n",
       "      <th>2</th>\n",
       "      <td>پراید،</td>\n",
       "      <td>1399</td>\n",
       "      <td>SE-131</td>\n",
       "      <td>26,000 کیلومتر</td>\n",
       "      <td>دنده ای</td>\n",
       "      <td>سفید</td>\n",
       "      <td>275,000,000</td>\n",
       "    </tr>\n",
       "    <tr>\n",
       "      <th>3</th>\n",
       "      <td>پراید،</td>\n",
       "      <td>1395</td>\n",
       "      <td>SE-111</td>\n",
       "      <td>133,000 کیلومتر</td>\n",
       "      <td>دنده ای</td>\n",
       "      <td>سفید</td>\n",
       "      <td>220,000,000</td>\n",
       "    </tr>\n",
       "    <tr>\n",
       "      <th>4</th>\n",
       "      <td>پراید،</td>\n",
       "      <td>1399</td>\n",
       "      <td>SE-131</td>\n",
       "      <td>55,000 کیلومتر</td>\n",
       "      <td>دنده ای</td>\n",
       "      <td>سفید</td>\n",
       "      <td>256,000,000</td>\n",
       "    </tr>\n",
       "    <tr>\n",
       "      <th>...</th>\n",
       "      <td>...</td>\n",
       "      <td>...</td>\n",
       "      <td>...</td>\n",
       "      <td>...</td>\n",
       "      <td>...</td>\n",
       "      <td>...</td>\n",
       "      <td>...</td>\n",
       "    </tr>\n",
       "    <tr>\n",
       "      <th>320</th>\n",
       "      <td>پراید،</td>\n",
       "      <td>1399</td>\n",
       "      <td>SE-151</td>\n",
       "      <td>14,000 کیلومتر</td>\n",
       "      <td>دنده ای</td>\n",
       "      <td>سفید</td>\n",
       "      <td>229,000,000</td>\n",
       "    </tr>\n",
       "    <tr>\n",
       "      <th>321</th>\n",
       "      <td>پراید،</td>\n",
       "      <td>1399</td>\n",
       "      <td>SE-131</td>\n",
       "      <td>135 کیلومتر</td>\n",
       "      <td>دنده ای</td>\n",
       "      <td>سفید</td>\n",
       "      <td>278,000,000</td>\n",
       "    </tr>\n",
       "    <tr>\n",
       "      <th>322</th>\n",
       "      <td>پراید،</td>\n",
       "      <td>1396</td>\n",
       "      <td>SE-111</td>\n",
       "      <td>62,000 کیلومتر</td>\n",
       "      <td>دنده ای</td>\n",
       "      <td>سفید</td>\n",
       "      <td>235,000,000</td>\n",
       "    </tr>\n",
       "    <tr>\n",
       "      <th>323</th>\n",
       "      <td>پراید،</td>\n",
       "      <td>1388</td>\n",
       "      <td>دنده ای-صندوق</td>\n",
       "      <td>48,000 کیلومتر</td>\n",
       "      <td>دنده ای</td>\n",
       "      <td>مشکی</td>\n",
       "      <td>185,000,000</td>\n",
       "    </tr>\n",
       "    <tr>\n",
       "      <th>324</th>\n",
       "      <td>پراید،</td>\n",
       "      <td>1393</td>\n",
       "      <td>SE-131</td>\n",
       "      <td>93,000 کیلومتر</td>\n",
       "      <td>دنده ای</td>\n",
       "      <td>سفید</td>\n",
       "      <td>197,000,000</td>\n",
       "    </tr>\n",
       "  </tbody>\n",
       "</table>\n",
       "<p>325 rows × 7 columns</p>\n",
       "</div>"
      ],
      "text/plain": [
       "          0     1              2                3        4        5  \\\n",
       "0    پراید،  1390         SL-131  150,000 کیلومتر  دنده ای  خاکستری   \n",
       "1    پراید،  1397         SE-131   41,000 کیلومتر  دنده ای     سفید   \n",
       "2    پراید،  1399         SE-131   26,000 کیلومتر  دنده ای     سفید   \n",
       "3    پراید،  1395         SE-111  133,000 کیلومتر  دنده ای     سفید   \n",
       "4    پراید،  1399         SE-131   55,000 کیلومتر  دنده ای     سفید   \n",
       "..      ...   ...            ...              ...      ...      ...   \n",
       "320  پراید،  1399         SE-151   14,000 کیلومتر  دنده ای     سفید   \n",
       "321  پراید،  1399         SE-131      135 کیلومتر  دنده ای     سفید   \n",
       "322  پراید،  1396         SE-111   62,000 کیلومتر  دنده ای     سفید   \n",
       "323  پراید،  1388  دنده ای-صندوق   48,000 کیلومتر  دنده ای     مشکی   \n",
       "324  پراید،  1393         SE-131   93,000 کیلومتر  دنده ای     سفید   \n",
       "\n",
       "               6  \n",
       "0    168,000,000  \n",
       "1    240,000,000  \n",
       "2    275,000,000  \n",
       "3    220,000,000  \n",
       "4    256,000,000  \n",
       "..           ...  \n",
       "320  229,000,000  \n",
       "321  278,000,000  \n",
       "322  235,000,000  \n",
       "323  185,000,000  \n",
       "324  197,000,000  \n",
       "\n",
       "[325 rows x 7 columns]"
      ]
     },
     "execution_count": 3,
     "metadata": {},
     "output_type": "execute_result"
    }
   ],
   "source": [
    "pride"
   ]
  },
  {
   "cell_type": "markdown",
   "id": "f7a4df6d",
   "metadata": {},
   "source": [
    "## Change columns name"
   ]
  },
  {
   "cell_type": "code",
   "execution_count": 4,
   "id": "104f4a49",
   "metadata": {},
   "outputs": [],
   "source": [
    "def edit_cols_name(df):\n",
    "    df.rename(columns={'0': 'نام خودرو'}, inplace=True)\n",
    "    df.rename(columns={'1': 'سال تولید'}, inplace=True)\n",
    "    df.rename(columns={'2': 'مدل'}, inplace=True)\n",
    "    df.rename(columns={'3': 'کارکرد'}, inplace=True)\n",
    "    df.rename(columns={'4': 'گیربکس'}, inplace=True)\n",
    "    df.rename(columns={'5': 'رنگ'}, inplace=True)\n",
    "    df.rename(columns={'6': 'قیمت'}, inplace=True)\n",
    "    \n",
    "edit_cols_name(pride)"
   ]
  },
  {
   "cell_type": "markdown",
   "id": "a656d67c",
   "metadata": {},
   "source": [
    "## Convert km to standard mode"
   ]
  },
  {
   "cell_type": "code",
   "execution_count": 5,
   "id": "7fa3abc8",
   "metadata": {},
   "outputs": [],
   "source": [
    "def fix_km(df):\n",
    "    for index in range(len(df['کارکرد'])):\n",
    "        if df['کارکرد'][index].strip() == 'کارکرد صفر':\n",
    "            df['کارکرد'][index] = 0\n",
    "        elif 'کیلومتر' in df['کارکرد'][index]:\n",
    "            df['کارکرد'][index] = int(df['کارکرد'][index].split()[0].replace(',', ''))\n",
    "                   \n",
    "fix_km(pride)"
   ]
  },
  {
   "cell_type": "markdown",
   "id": "c55dcb6b",
   "metadata": {},
   "source": [
    "## Convert price to standard mode"
   ]
  },
  {
   "cell_type": "code",
   "execution_count": 6,
   "id": "87eb392b",
   "metadata": {},
   "outputs": [],
   "source": [
    "for i in range(len(pride)):\n",
    "    pride['قیمت'][i] = pride['قیمت'][i].replace(',', '')\n",
    "    pride['قیمت'][i] = int(pride['قیمت'][i])"
   ]
  },
  {
   "cell_type": "markdown",
   "id": "433a140a",
   "metadata": {},
   "source": [
    "## Check different car models and organize them"
   ]
  },
  {
   "cell_type": "code",
   "execution_count": 7,
   "id": "08154eb6",
   "metadata": {},
   "outputs": [
    {
     "data": {
      "text/plain": [
       "SE-131           164\n",
       "SE-151            68\n",
       "SE-111            46\n",
       "دنده ای-صندوق     22\n",
       "SE-132             5\n",
       "SL-131             4\n",
       "ساده-141           4\n",
       "SX-131             2\n",
       "EX-111             2\n",
       "EX-131             2\n",
       "ساده-132           1\n",
       "SX-132             1\n",
       "پلاس-151           1\n",
       "SX-111             1\n",
       "TL-131             1\n",
       "SL-151             1\n",
       "Name: مدل, dtype: int64"
      ]
     },
     "execution_count": 7,
     "metadata": {},
     "output_type": "execute_result"
    }
   ],
   "source": [
    "pride['مدل'].value_counts()"
   ]
  },
  {
   "cell_type": "code",
   "execution_count": 8,
   "id": "0e94994d",
   "metadata": {},
   "outputs": [],
   "source": [
    "for i in range(len(pride)):\n",
    "    if pride['مدل'][i] == 'دنده ای-صندوق':\n",
    "        pride['مدل'][i] = 'صندوق دار'\n",
    "        \n",
    "pride.drop(pride[pride['مدل'] == 'SE-132'].index, axis=0, inplace=True)\n",
    "pride.drop(pride[pride['مدل'] == 'ساده-141'].index, axis=0, inplace=True)\n",
    "pride.drop(pride[pride['مدل'] == 'SL-131'].index, axis=0, inplace=True)\n",
    "pride.drop(pride[pride['مدل'] == 'EX-131'].index, axis=0, inplace=True)\n",
    "pride.drop(pride[pride['مدل'] == 'EX-111'].index, axis=0, inplace=True)\n",
    "pride.drop(pride[pride['مدل'] == 'SX-131'].index, axis=0, inplace=True)\n",
    "pride.drop(pride[pride['مدل'] == 'SL-151'].index, axis=0, inplace=True)\n",
    "pride.drop(pride[pride['مدل'] == 'SX-132'].index, axis=0, inplace=True)\n",
    "pride.drop(pride[pride['مدل'] == 'ساده-132'].index, axis=0, inplace=True)\n",
    "pride.drop(pride[pride['مدل'] == 'پلاس-151'].index, axis=0, inplace=True)\n",
    "pride.drop(pride[pride['مدل'] == 'SX-111'].index, axis=0, inplace=True)\n",
    "pride.drop(pride[pride['مدل'] == 'TL-131'].index, axis=0, inplace=True)"
   ]
  },
  {
   "cell_type": "code",
   "execution_count": 9,
   "id": "a1259393",
   "metadata": {
    "scrolled": true
   },
   "outputs": [
    {
     "data": {
      "text/plain": [
       "SE-131       164\n",
       "SE-151        68\n",
       "SE-111        46\n",
       "صندوق دار     22\n",
       "Name: مدل, dtype: int64"
      ]
     },
     "execution_count": 9,
     "metadata": {},
     "output_type": "execute_result"
    }
   ],
   "source": [
    "pride['مدل'].value_counts()"
   ]
  },
  {
   "cell_type": "markdown",
   "id": "cf0b3fde",
   "metadata": {},
   "source": [
    "## Delete the especially missing value"
   ]
  },
  {
   "cell_type": "code",
   "execution_count": 10,
   "id": "daadb413",
   "metadata": {},
   "outputs": [],
   "source": [
    "pride.drop(pride[pride['کارکرد'] == 'کارکرده'].index, axis=0, inplace=True)"
   ]
  },
  {
   "cell_type": "markdown",
   "id": "df2dd55a",
   "metadata": {},
   "source": [
    "## Check different car colors and organize them"
   ]
  },
  {
   "cell_type": "code",
   "execution_count": 11,
   "id": "3ffd1f90",
   "metadata": {},
   "outputs": [
    {
     "data": {
      "text/plain": [
       "سفید         255\n",
       "نوک مدادی     13\n",
       "نقره ای        6\n",
       "مشکی           6\n",
       "آبی            4\n",
       "خاکستری        3\n",
       "زیتونی         2\n",
       "سرمه ای        1\n",
       "قرمز           1\n",
       "ذغالی          1\n",
       "زرشکی          1\n",
       "نقرآبی         1\n",
       "دلفینی         1\n",
       "بژ             1\n",
       "طوسی           1\n",
       "نامشخص         1\n",
       "Name: رنگ, dtype: int64"
      ]
     },
     "execution_count": 11,
     "metadata": {},
     "output_type": "execute_result"
    }
   ],
   "source": [
    "pride['رنگ'].value_counts()"
   ]
  },
  {
   "cell_type": "code",
   "execution_count": 12,
   "id": "79f0d2b2",
   "metadata": {},
   "outputs": [],
   "source": [
    "pride.drop(pride[pride['رنگ'] == 'نامشخص'].index, axis=0, inplace=True)\n",
    "pride.drop(pride[pride['رنگ'] == 'بژ'].index, axis=0, inplace=True)\n",
    "pride.drop(pride[pride['رنگ'] == 'دلفینی'].index, axis=0, inplace=True)\n",
    "pride.drop(pride[pride['رنگ'] == 'سرمه ای'].index, axis=0, inplace=True)\n",
    "pride.drop(pride[pride['رنگ'] == 'مشکی'].index, axis=0, inplace=True)\n",
    "pride.drop(pride[pride['رنگ'] == 'نقره ای'].index, axis=0, inplace=True)\n",
    "pride.drop(pride[pride['رنگ'] == 'زرشکی'].index, axis=0, inplace=True)\n",
    "pride.drop(pride[pride['رنگ'] == 'نقرآبی'].index, axis=0, inplace=True)\n",
    "pride.drop(pride[pride['رنگ'] == 'ذغالی'].index, axis=0, inplace=True)\n",
    "pride.drop(pride[pride['رنگ'] == 'زیتونی'].index, axis=0, inplace=True)\n",
    "pride.drop(pride[pride['رنگ'] == 'خاکستری'].index, axis=0, inplace=True)\n",
    "pride.drop(pride[pride['رنگ'] == 'آبی'].index, axis=0, inplace=True)\n",
    "pride.drop(pride[pride['رنگ'] == 'قرمز'].index, axis=0, inplace=True)\n",
    "pride.drop(pride[pride['رنگ'] == 'طوسی'].index, axis=0, inplace=True)"
   ]
  },
  {
   "cell_type": "code",
   "execution_count": 13,
   "id": "272fa7b5",
   "metadata": {},
   "outputs": [
    {
     "data": {
      "text/plain": [
       "سفید         255\n",
       "نوک مدادی     13\n",
       "Name: رنگ, dtype: int64"
      ]
     },
     "execution_count": 13,
     "metadata": {},
     "output_type": "execute_result"
    }
   ],
   "source": [
    "pride['رنگ'].value_counts()"
   ]
  },
  {
   "cell_type": "markdown",
   "id": "858bc259",
   "metadata": {},
   "source": [
    "## Remove extra fields"
   ]
  },
  {
   "cell_type": "code",
   "execution_count": 14,
   "id": "e60c8a28",
   "metadata": {},
   "outputs": [],
   "source": [
    "pride.drop(['نام خودرو'], axis=1, inplace=True)"
   ]
  },
  {
   "cell_type": "code",
   "execution_count": 15,
   "id": "1e2a89e7",
   "metadata": {},
   "outputs": [
    {
     "data": {
      "text/html": [
       "<div>\n",
       "<style scoped>\n",
       "    .dataframe tbody tr th:only-of-type {\n",
       "        vertical-align: middle;\n",
       "    }\n",
       "\n",
       "    .dataframe tbody tr th {\n",
       "        vertical-align: top;\n",
       "    }\n",
       "\n",
       "    .dataframe thead th {\n",
       "        text-align: right;\n",
       "    }\n",
       "</style>\n",
       "<table border=\"1\" class=\"dataframe\">\n",
       "  <thead>\n",
       "    <tr style=\"text-align: right;\">\n",
       "      <th></th>\n",
       "      <th>سال تولید</th>\n",
       "      <th>مدل</th>\n",
       "      <th>کارکرد</th>\n",
       "      <th>گیربکس</th>\n",
       "      <th>رنگ</th>\n",
       "      <th>قیمت</th>\n",
       "    </tr>\n",
       "  </thead>\n",
       "  <tbody>\n",
       "    <tr>\n",
       "      <th>1</th>\n",
       "      <td>1397</td>\n",
       "      <td>SE-131</td>\n",
       "      <td>41000</td>\n",
       "      <td>دنده ای</td>\n",
       "      <td>سفید</td>\n",
       "      <td>240000000</td>\n",
       "    </tr>\n",
       "    <tr>\n",
       "      <th>2</th>\n",
       "      <td>1399</td>\n",
       "      <td>SE-131</td>\n",
       "      <td>26000</td>\n",
       "      <td>دنده ای</td>\n",
       "      <td>سفید</td>\n",
       "      <td>275000000</td>\n",
       "    </tr>\n",
       "    <tr>\n",
       "      <th>3</th>\n",
       "      <td>1395</td>\n",
       "      <td>SE-111</td>\n",
       "      <td>133000</td>\n",
       "      <td>دنده ای</td>\n",
       "      <td>سفید</td>\n",
       "      <td>220000000</td>\n",
       "    </tr>\n",
       "    <tr>\n",
       "      <th>4</th>\n",
       "      <td>1399</td>\n",
       "      <td>SE-131</td>\n",
       "      <td>55000</td>\n",
       "      <td>دنده ای</td>\n",
       "      <td>سفید</td>\n",
       "      <td>256000000</td>\n",
       "    </tr>\n",
       "    <tr>\n",
       "      <th>5</th>\n",
       "      <td>1396</td>\n",
       "      <td>SE-111</td>\n",
       "      <td>20000</td>\n",
       "      <td>دنده ای</td>\n",
       "      <td>سفید</td>\n",
       "      <td>245000000</td>\n",
       "    </tr>\n",
       "    <tr>\n",
       "      <th>...</th>\n",
       "      <td>...</td>\n",
       "      <td>...</td>\n",
       "      <td>...</td>\n",
       "      <td>...</td>\n",
       "      <td>...</td>\n",
       "      <td>...</td>\n",
       "    </tr>\n",
       "    <tr>\n",
       "      <th>319</th>\n",
       "      <td>1396</td>\n",
       "      <td>SE-131</td>\n",
       "      <td>63000</td>\n",
       "      <td>دنده ای</td>\n",
       "      <td>سفید</td>\n",
       "      <td>215000000</td>\n",
       "    </tr>\n",
       "    <tr>\n",
       "      <th>320</th>\n",
       "      <td>1399</td>\n",
       "      <td>SE-151</td>\n",
       "      <td>14000</td>\n",
       "      <td>دنده ای</td>\n",
       "      <td>سفید</td>\n",
       "      <td>229000000</td>\n",
       "    </tr>\n",
       "    <tr>\n",
       "      <th>321</th>\n",
       "      <td>1399</td>\n",
       "      <td>SE-131</td>\n",
       "      <td>135</td>\n",
       "      <td>دنده ای</td>\n",
       "      <td>سفید</td>\n",
       "      <td>278000000</td>\n",
       "    </tr>\n",
       "    <tr>\n",
       "      <th>322</th>\n",
       "      <td>1396</td>\n",
       "      <td>SE-111</td>\n",
       "      <td>62000</td>\n",
       "      <td>دنده ای</td>\n",
       "      <td>سفید</td>\n",
       "      <td>235000000</td>\n",
       "    </tr>\n",
       "    <tr>\n",
       "      <th>324</th>\n",
       "      <td>1393</td>\n",
       "      <td>SE-131</td>\n",
       "      <td>93000</td>\n",
       "      <td>دنده ای</td>\n",
       "      <td>سفید</td>\n",
       "      <td>197000000</td>\n",
       "    </tr>\n",
       "  </tbody>\n",
       "</table>\n",
       "<p>268 rows × 6 columns</p>\n",
       "</div>"
      ],
      "text/plain": [
       "     سال تولید     مدل  کارکرد   گیربکس   رنگ       قیمت\n",
       "1         1397  SE-131   41000  دنده ای  سفید  240000000\n",
       "2         1399  SE-131   26000  دنده ای  سفید  275000000\n",
       "3         1395  SE-111  133000  دنده ای  سفید  220000000\n",
       "4         1399  SE-131   55000  دنده ای  سفید  256000000\n",
       "5         1396  SE-111   20000  دنده ای  سفید  245000000\n",
       "..         ...     ...     ...      ...   ...        ...\n",
       "319       1396  SE-131   63000  دنده ای  سفید  215000000\n",
       "320       1399  SE-151   14000  دنده ای  سفید  229000000\n",
       "321       1399  SE-131     135  دنده ای  سفید  278000000\n",
       "322       1396  SE-111   62000  دنده ای  سفید  235000000\n",
       "324       1393  SE-131   93000  دنده ای  سفید  197000000\n",
       "\n",
       "[268 rows x 6 columns]"
      ]
     },
     "execution_count": 15,
     "metadata": {},
     "output_type": "execute_result"
    }
   ],
   "source": [
    "pride"
   ]
  },
  {
   "cell_type": "markdown",
   "id": "ec2f4c1d",
   "metadata": {},
   "source": [
    "## One-hot fields"
   ]
  },
  {
   "cell_type": "code",
   "execution_count": 16,
   "id": "52ff88f7",
   "metadata": {},
   "outputs": [],
   "source": [
    "def make_one_hot(data, field):\n",
    "    temp = pd.get_dummies(data[field], prefix=field)\n",
    "    data.drop(field, axis=1, inplace=True)\n",
    "    return pd.concat([data, temp], axis=1)"
   ]
  },
  {
   "cell_type": "code",
   "execution_count": 17,
   "id": "b382ae5b",
   "metadata": {},
   "outputs": [],
   "source": [
    "pride = make_one_hot(pride, 'مدل')\n",
    "pride = make_one_hot(pride, 'گیربکس')\n",
    "pride = make_one_hot(pride, 'رنگ')"
   ]
  },
  {
   "cell_type": "code",
   "execution_count": 18,
   "id": "9972373a",
   "metadata": {},
   "outputs": [
    {
     "data": {
      "text/html": [
       "<div>\n",
       "<style scoped>\n",
       "    .dataframe tbody tr th:only-of-type {\n",
       "        vertical-align: middle;\n",
       "    }\n",
       "\n",
       "    .dataframe tbody tr th {\n",
       "        vertical-align: top;\n",
       "    }\n",
       "\n",
       "    .dataframe thead th {\n",
       "        text-align: right;\n",
       "    }\n",
       "</style>\n",
       "<table border=\"1\" class=\"dataframe\">\n",
       "  <thead>\n",
       "    <tr style=\"text-align: right;\">\n",
       "      <th></th>\n",
       "      <th>سال تولید</th>\n",
       "      <th>کارکرد</th>\n",
       "      <th>قیمت</th>\n",
       "      <th>مدل_SE-111</th>\n",
       "      <th>مدل_SE-131</th>\n",
       "      <th>مدل_SE-151</th>\n",
       "      <th>مدل_صندوق دار</th>\n",
       "      <th>گیربکس_دنده ای</th>\n",
       "      <th>رنگ_سفید</th>\n",
       "      <th>رنگ_نوک مدادی</th>\n",
       "    </tr>\n",
       "  </thead>\n",
       "  <tbody>\n",
       "    <tr>\n",
       "      <th>1</th>\n",
       "      <td>1397</td>\n",
       "      <td>41000</td>\n",
       "      <td>240000000</td>\n",
       "      <td>0</td>\n",
       "      <td>1</td>\n",
       "      <td>0</td>\n",
       "      <td>0</td>\n",
       "      <td>1</td>\n",
       "      <td>1</td>\n",
       "      <td>0</td>\n",
       "    </tr>\n",
       "    <tr>\n",
       "      <th>2</th>\n",
       "      <td>1399</td>\n",
       "      <td>26000</td>\n",
       "      <td>275000000</td>\n",
       "      <td>0</td>\n",
       "      <td>1</td>\n",
       "      <td>0</td>\n",
       "      <td>0</td>\n",
       "      <td>1</td>\n",
       "      <td>1</td>\n",
       "      <td>0</td>\n",
       "    </tr>\n",
       "    <tr>\n",
       "      <th>3</th>\n",
       "      <td>1395</td>\n",
       "      <td>133000</td>\n",
       "      <td>220000000</td>\n",
       "      <td>1</td>\n",
       "      <td>0</td>\n",
       "      <td>0</td>\n",
       "      <td>0</td>\n",
       "      <td>1</td>\n",
       "      <td>1</td>\n",
       "      <td>0</td>\n",
       "    </tr>\n",
       "    <tr>\n",
       "      <th>4</th>\n",
       "      <td>1399</td>\n",
       "      <td>55000</td>\n",
       "      <td>256000000</td>\n",
       "      <td>0</td>\n",
       "      <td>1</td>\n",
       "      <td>0</td>\n",
       "      <td>0</td>\n",
       "      <td>1</td>\n",
       "      <td>1</td>\n",
       "      <td>0</td>\n",
       "    </tr>\n",
       "    <tr>\n",
       "      <th>5</th>\n",
       "      <td>1396</td>\n",
       "      <td>20000</td>\n",
       "      <td>245000000</td>\n",
       "      <td>1</td>\n",
       "      <td>0</td>\n",
       "      <td>0</td>\n",
       "      <td>0</td>\n",
       "      <td>1</td>\n",
       "      <td>1</td>\n",
       "      <td>0</td>\n",
       "    </tr>\n",
       "    <tr>\n",
       "      <th>...</th>\n",
       "      <td>...</td>\n",
       "      <td>...</td>\n",
       "      <td>...</td>\n",
       "      <td>...</td>\n",
       "      <td>...</td>\n",
       "      <td>...</td>\n",
       "      <td>...</td>\n",
       "      <td>...</td>\n",
       "      <td>...</td>\n",
       "      <td>...</td>\n",
       "    </tr>\n",
       "    <tr>\n",
       "      <th>319</th>\n",
       "      <td>1396</td>\n",
       "      <td>63000</td>\n",
       "      <td>215000000</td>\n",
       "      <td>0</td>\n",
       "      <td>1</td>\n",
       "      <td>0</td>\n",
       "      <td>0</td>\n",
       "      <td>1</td>\n",
       "      <td>1</td>\n",
       "      <td>0</td>\n",
       "    </tr>\n",
       "    <tr>\n",
       "      <th>320</th>\n",
       "      <td>1399</td>\n",
       "      <td>14000</td>\n",
       "      <td>229000000</td>\n",
       "      <td>0</td>\n",
       "      <td>0</td>\n",
       "      <td>1</td>\n",
       "      <td>0</td>\n",
       "      <td>1</td>\n",
       "      <td>1</td>\n",
       "      <td>0</td>\n",
       "    </tr>\n",
       "    <tr>\n",
       "      <th>321</th>\n",
       "      <td>1399</td>\n",
       "      <td>135</td>\n",
       "      <td>278000000</td>\n",
       "      <td>0</td>\n",
       "      <td>1</td>\n",
       "      <td>0</td>\n",
       "      <td>0</td>\n",
       "      <td>1</td>\n",
       "      <td>1</td>\n",
       "      <td>0</td>\n",
       "    </tr>\n",
       "    <tr>\n",
       "      <th>322</th>\n",
       "      <td>1396</td>\n",
       "      <td>62000</td>\n",
       "      <td>235000000</td>\n",
       "      <td>1</td>\n",
       "      <td>0</td>\n",
       "      <td>0</td>\n",
       "      <td>0</td>\n",
       "      <td>1</td>\n",
       "      <td>1</td>\n",
       "      <td>0</td>\n",
       "    </tr>\n",
       "    <tr>\n",
       "      <th>324</th>\n",
       "      <td>1393</td>\n",
       "      <td>93000</td>\n",
       "      <td>197000000</td>\n",
       "      <td>0</td>\n",
       "      <td>1</td>\n",
       "      <td>0</td>\n",
       "      <td>0</td>\n",
       "      <td>1</td>\n",
       "      <td>1</td>\n",
       "      <td>0</td>\n",
       "    </tr>\n",
       "  </tbody>\n",
       "</table>\n",
       "<p>268 rows × 10 columns</p>\n",
       "</div>"
      ],
      "text/plain": [
       "     سال تولید  کارکرد       قیمت  مدل_SE-111  مدل_SE-131  مدل_SE-151  \\\n",
       "1         1397   41000  240000000           0           1           0   \n",
       "2         1399   26000  275000000           0           1           0   \n",
       "3         1395  133000  220000000           1           0           0   \n",
       "4         1399   55000  256000000           0           1           0   \n",
       "5         1396   20000  245000000           1           0           0   \n",
       "..         ...     ...        ...         ...         ...         ...   \n",
       "319       1396   63000  215000000           0           1           0   \n",
       "320       1399   14000  229000000           0           0           1   \n",
       "321       1399     135  278000000           0           1           0   \n",
       "322       1396   62000  235000000           1           0           0   \n",
       "324       1393   93000  197000000           0           1           0   \n",
       "\n",
       "     مدل_صندوق دار  گیربکس_دنده ای  رنگ_سفید  رنگ_نوک مدادی  \n",
       "1                0               1         1              0  \n",
       "2                0               1         1              0  \n",
       "3                0               1         1              0  \n",
       "4                0               1         1              0  \n",
       "5                0               1         1              0  \n",
       "..             ...             ...       ...            ...  \n",
       "319              0               1         1              0  \n",
       "320              0               1         1              0  \n",
       "321              0               1         1              0  \n",
       "322              0               1         1              0  \n",
       "324              0               1         1              0  \n",
       "\n",
       "[268 rows x 10 columns]"
      ]
     },
     "execution_count": 18,
     "metadata": {},
     "output_type": "execute_result"
    }
   ],
   "source": [
    "pride"
   ]
  },
  {
   "cell_type": "markdown",
   "id": "2d501550",
   "metadata": {},
   "source": [
    "## Remove the label"
   ]
  },
  {
   "cell_type": "code",
   "execution_count": 19,
   "id": "a79f14ec",
   "metadata": {},
   "outputs": [],
   "source": [
    "labels = pride['قیمت']\n",
    "pride.drop(['قیمت'], axis=1, inplace=True)"
   ]
  },
  {
   "cell_type": "markdown",
   "id": "e8886417",
   "metadata": {},
   "source": [
    "## Separating data into train and test sections"
   ]
  },
  {
   "cell_type": "code",
   "execution_count": 20,
   "id": "7bd93644",
   "metadata": {},
   "outputs": [],
   "source": [
    "from sklearn.model_selection import train_test_split\n",
    "\n",
    "x_train, x_test, y_train, y_test = train_test_split(pride, labels, test_size=0.1, shuffle=True)"
   ]
  },
  {
   "cell_type": "markdown",
   "id": "985e2d21",
   "metadata": {},
   "source": [
    "## Model making"
   ]
  },
  {
   "cell_type": "code",
   "execution_count": 21,
   "id": "a182cdf9",
   "metadata": {},
   "outputs": [
    {
     "name": "stdout",
     "output_type": "stream",
     "text": [
      "6,886,776 MT\n"
     ]
    }
   ],
   "source": [
    "from sklearn.linear_model import LinearRegression\n",
    "from sklearn.metrics import mean_absolute_error\n",
    "\n",
    "pride_model = LinearRegression()\n",
    "pride_model.fit(x_train, y_train)\n",
    "prediction = pride_model.predict(x_test)\n",
    "\n",
    "error = int(mean_absolute_error(y_test, prediction))\n",
    "print(f'{error:,} MT')"
   ]
  },
  {
   "cell_type": "markdown",
   "id": "5bf20cee",
   "metadata": {},
   "source": [
    "## Save the model"
   ]
  },
  {
   "cell_type": "code",
   "execution_count": 22,
   "id": "99433bce",
   "metadata": {},
   "outputs": [],
   "source": [
    "import pickle\n",
    "pickle.dump(pride_model, open('pride_model.sav', 'wb'))"
   ]
  }
 ],
 "metadata": {
  "kernelspec": {
   "display_name": "Python 3 (ipykernel)",
   "language": "python",
   "name": "python3"
  },
  "language_info": {
   "codemirror_mode": {
    "name": "ipython",
    "version": 3
   },
   "file_extension": ".py",
   "mimetype": "text/x-python",
   "name": "python",
   "nbconvert_exporter": "python",
   "pygments_lexer": "ipython3",
   "version": "3.8.5"
  }
 },
 "nbformat": 4,
 "nbformat_minor": 5
}
