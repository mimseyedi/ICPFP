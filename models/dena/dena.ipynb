{
 "cells": [
  {
   "cell_type": "markdown",
   "id": "098f2ca4",
   "metadata": {},
   "source": [
    "# Pre-processing data and create model for Dena"
   ]
  },
  {
   "cell_type": "markdown",
   "id": "453f494d",
   "metadata": {},
   "source": [
    "## Importing packages"
   ]
  },
  {
   "cell_type": "code",
   "execution_count": 1,
   "id": "48e4fe46",
   "metadata": {},
   "outputs": [],
   "source": [
    "import os\n",
    "import pandas as pd\n",
    "import warnings\n",
    "warnings.filterwarnings('ignore')"
   ]
  },
  {
   "cell_type": "markdown",
   "id": "e5e829bd",
   "metadata": {},
   "source": [
    "## Reading dataset"
   ]
  },
  {
   "cell_type": "code",
   "execution_count": 2,
   "id": "37881eee",
   "metadata": {},
   "outputs": [],
   "source": [
    "dena = pd.read_csv(f\"{'/'.join(os.getcwd().split('/')[:-2])}/datasets/dena.csv\")"
   ]
  },
  {
   "cell_type": "code",
   "execution_count": 3,
   "id": "d83f4d38",
   "metadata": {},
   "outputs": [
    {
     "data": {
      "text/html": [
       "<div>\n",
       "<style scoped>\n",
       "    .dataframe tbody tr th:only-of-type {\n",
       "        vertical-align: middle;\n",
       "    }\n",
       "\n",
       "    .dataframe tbody tr th {\n",
       "        vertical-align: top;\n",
       "    }\n",
       "\n",
       "    .dataframe thead th {\n",
       "        text-align: right;\n",
       "    }\n",
       "</style>\n",
       "<table border=\"1\" class=\"dataframe\">\n",
       "  <thead>\n",
       "    <tr style=\"text-align: right;\">\n",
       "      <th></th>\n",
       "      <th>0</th>\n",
       "      <th>1</th>\n",
       "      <th>2</th>\n",
       "      <th>3</th>\n",
       "      <th>4</th>\n",
       "      <th>5</th>\n",
       "      <th>6</th>\n",
       "    </tr>\n",
       "  </thead>\n",
       "  <tbody>\n",
       "    <tr>\n",
       "      <th>0</th>\n",
       "      <td>دنا،</td>\n",
       "      <td>1401</td>\n",
       "      <td>دنده ای ساده-پلاس</td>\n",
       "      <td>کارکرد صفر</td>\n",
       "      <td>دنده ای</td>\n",
       "      <td>مشکی</td>\n",
       "      <td>622,000,000</td>\n",
       "    </tr>\n",
       "    <tr>\n",
       "      <th>1</th>\n",
       "      <td>دنا،</td>\n",
       "      <td>1401</td>\n",
       "      <td>دنده ای ساده-پلاس</td>\n",
       "      <td>کارکرد صفر</td>\n",
       "      <td>دنده ای</td>\n",
       "      <td>سفید</td>\n",
       "      <td>635,000,000</td>\n",
       "    </tr>\n",
       "    <tr>\n",
       "      <th>2</th>\n",
       "      <td>دنا،</td>\n",
       "      <td>1394</td>\n",
       "      <td>دنده ای-معمولی</td>\n",
       "      <td>94,500 کیلومتر</td>\n",
       "      <td>دنده ای</td>\n",
       "      <td>خاکستری</td>\n",
       "      <td>450,000,000</td>\n",
       "    </tr>\n",
       "    <tr>\n",
       "      <th>3</th>\n",
       "      <td>دنا،</td>\n",
       "      <td>1395</td>\n",
       "      <td>دنده ای-معمولی</td>\n",
       "      <td>180,000 کیلومتر</td>\n",
       "      <td>دنده ای</td>\n",
       "      <td>نوک مدادی</td>\n",
       "      <td>450,000,000</td>\n",
       "    </tr>\n",
       "    <tr>\n",
       "      <th>4</th>\n",
       "      <td>دنا،</td>\n",
       "      <td>1401</td>\n",
       "      <td>دنده ای ساده-پلاس</td>\n",
       "      <td>کارکرد صفر</td>\n",
       "      <td>دنده ای</td>\n",
       "      <td>سفید</td>\n",
       "      <td>620,000,000</td>\n",
       "    </tr>\n",
       "    <tr>\n",
       "      <th>...</th>\n",
       "      <td>...</td>\n",
       "      <td>...</td>\n",
       "      <td>...</td>\n",
       "      <td>...</td>\n",
       "      <td>...</td>\n",
       "      <td>...</td>\n",
       "      <td>...</td>\n",
       "    </tr>\n",
       "    <tr>\n",
       "      <th>200</th>\n",
       "      <td>دنا،</td>\n",
       "      <td>1401</td>\n",
       "      <td>اتوماتیک توربو-پلاس</td>\n",
       "      <td>کارکرد صفر</td>\n",
       "      <td>اتوماتیک</td>\n",
       "      <td>مشکی</td>\n",
       "      <td>785,000,000</td>\n",
       "    </tr>\n",
       "    <tr>\n",
       "      <th>201</th>\n",
       "      <td>دنا،</td>\n",
       "      <td>1401</td>\n",
       "      <td>اتوماتیک توربو-پلاس</td>\n",
       "      <td>کارکرد صفر</td>\n",
       "      <td>اتوماتیک</td>\n",
       "      <td>مشکی</td>\n",
       "      <td>800,000,000</td>\n",
       "    </tr>\n",
       "    <tr>\n",
       "      <th>202</th>\n",
       "      <td>دنا،</td>\n",
       "      <td>1401</td>\n",
       "      <td>اتوماتیک توربو-پلاس</td>\n",
       "      <td>کارکرد صفر</td>\n",
       "      <td>اتوماتیک</td>\n",
       "      <td>مشکی</td>\n",
       "      <td>760,000,000</td>\n",
       "    </tr>\n",
       "    <tr>\n",
       "      <th>203</th>\n",
       "      <td>دنا،</td>\n",
       "      <td>1400</td>\n",
       "      <td>دنده ای ساده-پلاس</td>\n",
       "      <td>13,800 کیلومتر</td>\n",
       "      <td>دنده ای</td>\n",
       "      <td>خاکستری</td>\n",
       "      <td>620,000,000</td>\n",
       "    </tr>\n",
       "    <tr>\n",
       "      <th>204</th>\n",
       "      <td>دنا،</td>\n",
       "      <td>1401</td>\n",
       "      <td>اتوماتیک توربو-پلاس</td>\n",
       "      <td>کارکرد صفر</td>\n",
       "      <td>اتوماتیک</td>\n",
       "      <td>مشکی</td>\n",
       "      <td>778,000,000</td>\n",
       "    </tr>\n",
       "  </tbody>\n",
       "</table>\n",
       "<p>205 rows × 7 columns</p>\n",
       "</div>"
      ],
      "text/plain": [
       "        0     1                    2                3         4          5  \\\n",
       "0    دنا،  1401    دنده ای ساده-پلاس       کارکرد صفر   دنده ای       مشکی   \n",
       "1    دنا،  1401    دنده ای ساده-پلاس       کارکرد صفر   دنده ای       سفید   \n",
       "2    دنا،  1394       دنده ای-معمولی   94,500 کیلومتر   دنده ای    خاکستری   \n",
       "3    دنا،  1395       دنده ای-معمولی  180,000 کیلومتر   دنده ای  نوک مدادی   \n",
       "4    دنا،  1401    دنده ای ساده-پلاس       کارکرد صفر   دنده ای       سفید   \n",
       "..    ...   ...                  ...              ...       ...        ...   \n",
       "200  دنا،  1401  اتوماتیک توربو-پلاس       کارکرد صفر  اتوماتیک       مشکی   \n",
       "201  دنا،  1401  اتوماتیک توربو-پلاس       کارکرد صفر  اتوماتیک       مشکی   \n",
       "202  دنا،  1401  اتوماتیک توربو-پلاس       کارکرد صفر  اتوماتیک       مشکی   \n",
       "203  دنا،  1400    دنده ای ساده-پلاس   13,800 کیلومتر   دنده ای    خاکستری   \n",
       "204  دنا،  1401  اتوماتیک توربو-پلاس       کارکرد صفر  اتوماتیک       مشکی   \n",
       "\n",
       "               6  \n",
       "0    622,000,000  \n",
       "1    635,000,000  \n",
       "2    450,000,000  \n",
       "3    450,000,000  \n",
       "4    620,000,000  \n",
       "..           ...  \n",
       "200  785,000,000  \n",
       "201  800,000,000  \n",
       "202  760,000,000  \n",
       "203  620,000,000  \n",
       "204  778,000,000  \n",
       "\n",
       "[205 rows x 7 columns]"
      ]
     },
     "execution_count": 3,
     "metadata": {},
     "output_type": "execute_result"
    }
   ],
   "source": [
    "dena"
   ]
  },
  {
   "cell_type": "markdown",
   "id": "3d96865b",
   "metadata": {},
   "source": [
    "## Change columns name"
   ]
  },
  {
   "cell_type": "code",
   "execution_count": 4,
   "id": "00d96ec3",
   "metadata": {},
   "outputs": [],
   "source": [
    "def edit_cols_name(df):\n",
    "    df.rename(columns={'0': 'نام خودرو'}, inplace=True)\n",
    "    df.rename(columns={'1': 'سال تولید'}, inplace=True)\n",
    "    df.rename(columns={'2': 'مدل'}, inplace=True)\n",
    "    df.rename(columns={'3': 'کارکرد'}, inplace=True)\n",
    "    df.rename(columns={'4': 'گیربکس'}, inplace=True)\n",
    "    df.rename(columns={'5': 'رنگ'}, inplace=True)\n",
    "    df.rename(columns={'6': 'قیمت'}, inplace=True)\n",
    "    \n",
    "edit_cols_name(dena)"
   ]
  },
  {
   "cell_type": "markdown",
   "id": "8d248fe4",
   "metadata": {},
   "source": [
    "## Convert km to standard mode"
   ]
  },
  {
   "cell_type": "code",
   "execution_count": 5,
   "id": "d35dda06",
   "metadata": {},
   "outputs": [],
   "source": [
    "def fix_km(df):\n",
    "    for index in range(len(df['کارکرد'])):\n",
    "        if df['کارکرد'][index].strip() == 'کارکرد صفر':\n",
    "            df['کارکرد'][index] = 0\n",
    "        elif 'کیلومتر' in df['کارکرد'][index]:\n",
    "            df['کارکرد'][index] = int(df['کارکرد'][index].split()[0].replace(',', ''))\n",
    "                   \n",
    "fix_km(dena)"
   ]
  },
  {
   "cell_type": "markdown",
   "id": "2c934bc4",
   "metadata": {},
   "source": [
    "## Convert price to standard mode"
   ]
  },
  {
   "cell_type": "code",
   "execution_count": 6,
   "id": "d546e4a8",
   "metadata": {},
   "outputs": [],
   "source": [
    "for i in range(len(dena)):\n",
    "    dena['قیمت'][i] = dena['قیمت'][i].replace(',', '')\n",
    "    dena['قیمت'][i] = int(dena['قیمت'][i])"
   ]
  },
  {
   "cell_type": "markdown",
   "id": "5a2d5544",
   "metadata": {},
   "source": [
    "## Check different car models and organize them"
   ]
  },
  {
   "cell_type": "code",
   "execution_count": 7,
   "id": "38bde7fa",
   "metadata": {},
   "outputs": [
    {
     "data": {
      "text/plain": [
       "اتوماتیک توربو-پلاس    84\n",
       "دنده ای ساده-پلاس      73\n",
       "دنده ای-معمولی         32\n",
       "6 دنده توربو-پلاس       9\n",
       "5 دنده توربو-پلاس       7\n",
       "Name: مدل, dtype: int64"
      ]
     },
     "execution_count": 7,
     "metadata": {},
     "output_type": "execute_result"
    }
   ],
   "source": [
    "dena['مدل'].value_counts()"
   ]
  },
  {
   "cell_type": "code",
   "execution_count": 8,
   "id": "db6292a5",
   "metadata": {},
   "outputs": [],
   "source": [
    "for i in range(len(dena)):\n",
    "    if 'پلاس' in dena['مدل'][i] and 'توربو' in dena['مدل'][i]:\n",
    "        dena['مدل'][i] = 'توربو پلاس'\n",
    "    elif 'پلاس' in dena['مدل'][i]:\n",
    "        dena['مدل'][i] = 'پلاس'\n",
    "    elif 'معمولی' in dena['مدل'][i]:\n",
    "        dena['مدل'][i] = 'معمولی'"
   ]
  },
  {
   "cell_type": "code",
   "execution_count": 9,
   "id": "860f1763",
   "metadata": {},
   "outputs": [
    {
     "data": {
      "text/plain": [
       "توربو پلاس    100\n",
       "پلاس           73\n",
       "معمولی         32\n",
       "Name: مدل, dtype: int64"
      ]
     },
     "execution_count": 9,
     "metadata": {},
     "output_type": "execute_result"
    }
   ],
   "source": [
    "dena['مدل'].value_counts()"
   ]
  },
  {
   "cell_type": "markdown",
   "id": "71da9e60",
   "metadata": {},
   "source": [
    "## Delete the especially missing value"
   ]
  },
  {
   "cell_type": "code",
   "execution_count": 10,
   "id": "bbe2ed7e",
   "metadata": {},
   "outputs": [],
   "source": [
    "dena.drop(dena[dena['کارکرد'] == 'کارکرده'].index, axis=0, inplace=True)"
   ]
  },
  {
   "cell_type": "markdown",
   "id": "a3661ab1",
   "metadata": {},
   "source": [
    "## Check different car colors and organize them"
   ]
  },
  {
   "cell_type": "code",
   "execution_count": 11,
   "id": "2fab8614",
   "metadata": {},
   "outputs": [
    {
     "data": {
      "text/plain": [
       "سفید         111\n",
       "مشکی          60\n",
       "خاکستری       22\n",
       "نوک مدادی      5\n",
       "نقره ای        4\n",
       "سرمه ای        1\n",
       "Name: رنگ, dtype: int64"
      ]
     },
     "execution_count": 11,
     "metadata": {},
     "output_type": "execute_result"
    }
   ],
   "source": [
    "dena['رنگ'].value_counts()"
   ]
  },
  {
   "cell_type": "code",
   "execution_count": 12,
   "id": "89a766b1",
   "metadata": {},
   "outputs": [],
   "source": [
    "dena.drop(dena[dena['رنگ'] == 'آبی'].index, axis=0, inplace=True)\n",
    "dena.drop(dena[dena['رنگ'] == 'نوک مدادی'].index, axis=0, inplace=True)\n",
    "dena.drop(dena[dena['رنگ'] == 'نقره ای'].index, axis=0, inplace=True)\n",
    "dena.drop(dena[dena['رنگ'] == 'سرمه ای'].index, axis=0, inplace=True)"
   ]
  },
  {
   "cell_type": "code",
   "execution_count": 13,
   "id": "e4cf21bd",
   "metadata": {},
   "outputs": [
    {
     "data": {
      "text/plain": [
       "سفید       111\n",
       "مشکی        60\n",
       "خاکستری     22\n",
       "Name: رنگ, dtype: int64"
      ]
     },
     "execution_count": 13,
     "metadata": {},
     "output_type": "execute_result"
    }
   ],
   "source": [
    "dena['رنگ'].value_counts()"
   ]
  },
  {
   "cell_type": "markdown",
   "id": "2365ad96",
   "metadata": {},
   "source": [
    "## Remove extra fields"
   ]
  },
  {
   "cell_type": "code",
   "execution_count": 14,
   "id": "ce5b3d93",
   "metadata": {},
   "outputs": [],
   "source": [
    "dena.drop(['نام خودرو'], axis=1, inplace=True)"
   ]
  },
  {
   "cell_type": "code",
   "execution_count": 15,
   "id": "39cff0ac",
   "metadata": {},
   "outputs": [
    {
     "data": {
      "text/html": [
       "<div>\n",
       "<style scoped>\n",
       "    .dataframe tbody tr th:only-of-type {\n",
       "        vertical-align: middle;\n",
       "    }\n",
       "\n",
       "    .dataframe tbody tr th {\n",
       "        vertical-align: top;\n",
       "    }\n",
       "\n",
       "    .dataframe thead th {\n",
       "        text-align: right;\n",
       "    }\n",
       "</style>\n",
       "<table border=\"1\" class=\"dataframe\">\n",
       "  <thead>\n",
       "    <tr style=\"text-align: right;\">\n",
       "      <th></th>\n",
       "      <th>سال تولید</th>\n",
       "      <th>مدل</th>\n",
       "      <th>کارکرد</th>\n",
       "      <th>گیربکس</th>\n",
       "      <th>رنگ</th>\n",
       "      <th>قیمت</th>\n",
       "    </tr>\n",
       "  </thead>\n",
       "  <tbody>\n",
       "    <tr>\n",
       "      <th>0</th>\n",
       "      <td>1401</td>\n",
       "      <td>پلاس</td>\n",
       "      <td>0</td>\n",
       "      <td>دنده ای</td>\n",
       "      <td>مشکی</td>\n",
       "      <td>622000000</td>\n",
       "    </tr>\n",
       "    <tr>\n",
       "      <th>1</th>\n",
       "      <td>1401</td>\n",
       "      <td>پلاس</td>\n",
       "      <td>0</td>\n",
       "      <td>دنده ای</td>\n",
       "      <td>سفید</td>\n",
       "      <td>635000000</td>\n",
       "    </tr>\n",
       "    <tr>\n",
       "      <th>2</th>\n",
       "      <td>1394</td>\n",
       "      <td>معمولی</td>\n",
       "      <td>94500</td>\n",
       "      <td>دنده ای</td>\n",
       "      <td>خاکستری</td>\n",
       "      <td>450000000</td>\n",
       "    </tr>\n",
       "    <tr>\n",
       "      <th>4</th>\n",
       "      <td>1401</td>\n",
       "      <td>پلاس</td>\n",
       "      <td>0</td>\n",
       "      <td>دنده ای</td>\n",
       "      <td>سفید</td>\n",
       "      <td>620000000</td>\n",
       "    </tr>\n",
       "    <tr>\n",
       "      <th>6</th>\n",
       "      <td>1401</td>\n",
       "      <td>توربو پلاس</td>\n",
       "      <td>0</td>\n",
       "      <td>اتوماتیک</td>\n",
       "      <td>سفید</td>\n",
       "      <td>775000000</td>\n",
       "    </tr>\n",
       "    <tr>\n",
       "      <th>...</th>\n",
       "      <td>...</td>\n",
       "      <td>...</td>\n",
       "      <td>...</td>\n",
       "      <td>...</td>\n",
       "      <td>...</td>\n",
       "      <td>...</td>\n",
       "    </tr>\n",
       "    <tr>\n",
       "      <th>200</th>\n",
       "      <td>1401</td>\n",
       "      <td>توربو پلاس</td>\n",
       "      <td>0</td>\n",
       "      <td>اتوماتیک</td>\n",
       "      <td>مشکی</td>\n",
       "      <td>785000000</td>\n",
       "    </tr>\n",
       "    <tr>\n",
       "      <th>201</th>\n",
       "      <td>1401</td>\n",
       "      <td>توربو پلاس</td>\n",
       "      <td>0</td>\n",
       "      <td>اتوماتیک</td>\n",
       "      <td>مشکی</td>\n",
       "      <td>800000000</td>\n",
       "    </tr>\n",
       "    <tr>\n",
       "      <th>202</th>\n",
       "      <td>1401</td>\n",
       "      <td>توربو پلاس</td>\n",
       "      <td>0</td>\n",
       "      <td>اتوماتیک</td>\n",
       "      <td>مشکی</td>\n",
       "      <td>760000000</td>\n",
       "    </tr>\n",
       "    <tr>\n",
       "      <th>203</th>\n",
       "      <td>1400</td>\n",
       "      <td>پلاس</td>\n",
       "      <td>13800</td>\n",
       "      <td>دنده ای</td>\n",
       "      <td>خاکستری</td>\n",
       "      <td>620000000</td>\n",
       "    </tr>\n",
       "    <tr>\n",
       "      <th>204</th>\n",
       "      <td>1401</td>\n",
       "      <td>توربو پلاس</td>\n",
       "      <td>0</td>\n",
       "      <td>اتوماتیک</td>\n",
       "      <td>مشکی</td>\n",
       "      <td>778000000</td>\n",
       "    </tr>\n",
       "  </tbody>\n",
       "</table>\n",
       "<p>193 rows × 6 columns</p>\n",
       "</div>"
      ],
      "text/plain": [
       "     سال تولید         مدل کارکرد    گیربکس      رنگ       قیمت\n",
       "0         1401        پلاس      0   دنده ای     مشکی  622000000\n",
       "1         1401        پلاس      0   دنده ای     سفید  635000000\n",
       "2         1394      معمولی  94500   دنده ای  خاکستری  450000000\n",
       "4         1401        پلاس      0   دنده ای     سفید  620000000\n",
       "6         1401  توربو پلاس      0  اتوماتیک     سفید  775000000\n",
       "..         ...         ...    ...       ...      ...        ...\n",
       "200       1401  توربو پلاس      0  اتوماتیک     مشکی  785000000\n",
       "201       1401  توربو پلاس      0  اتوماتیک     مشکی  800000000\n",
       "202       1401  توربو پلاس      0  اتوماتیک     مشکی  760000000\n",
       "203       1400        پلاس  13800   دنده ای  خاکستری  620000000\n",
       "204       1401  توربو پلاس      0  اتوماتیک     مشکی  778000000\n",
       "\n",
       "[193 rows x 6 columns]"
      ]
     },
     "execution_count": 15,
     "metadata": {},
     "output_type": "execute_result"
    }
   ],
   "source": [
    "dena"
   ]
  },
  {
   "cell_type": "markdown",
   "id": "3af68602",
   "metadata": {},
   "source": [
    "## One-hot fields"
   ]
  },
  {
   "cell_type": "code",
   "execution_count": 16,
   "id": "7169019b",
   "metadata": {},
   "outputs": [],
   "source": [
    "def make_one_hot(data, field):\n",
    "    temp = pd.get_dummies(data[field], prefix=field)\n",
    "    data.drop(field, axis=1, inplace=True)\n",
    "    return pd.concat([data, temp], axis=1)"
   ]
  },
  {
   "cell_type": "code",
   "execution_count": 17,
   "id": "f91cff86",
   "metadata": {},
   "outputs": [],
   "source": [
    "dena = make_one_hot(dena, 'مدل')\n",
    "dena = make_one_hot(dena, 'گیربکس')\n",
    "dena = make_one_hot(dena, 'رنگ')"
   ]
  },
  {
   "cell_type": "code",
   "execution_count": 18,
   "id": "850d6c5c",
   "metadata": {},
   "outputs": [
    {
     "data": {
      "text/html": [
       "<div>\n",
       "<style scoped>\n",
       "    .dataframe tbody tr th:only-of-type {\n",
       "        vertical-align: middle;\n",
       "    }\n",
       "\n",
       "    .dataframe tbody tr th {\n",
       "        vertical-align: top;\n",
       "    }\n",
       "\n",
       "    .dataframe thead th {\n",
       "        text-align: right;\n",
       "    }\n",
       "</style>\n",
       "<table border=\"1\" class=\"dataframe\">\n",
       "  <thead>\n",
       "    <tr style=\"text-align: right;\">\n",
       "      <th></th>\n",
       "      <th>سال تولید</th>\n",
       "      <th>کارکرد</th>\n",
       "      <th>قیمت</th>\n",
       "      <th>مدل_توربو پلاس</th>\n",
       "      <th>مدل_معمولی</th>\n",
       "      <th>مدل_پلاس</th>\n",
       "      <th>گیربکس_اتوماتیک</th>\n",
       "      <th>گیربکس_دنده ای</th>\n",
       "      <th>رنگ_خاکستری</th>\n",
       "      <th>رنگ_سفید</th>\n",
       "      <th>رنگ_مشکی</th>\n",
       "    </tr>\n",
       "  </thead>\n",
       "  <tbody>\n",
       "    <tr>\n",
       "      <th>0</th>\n",
       "      <td>1401</td>\n",
       "      <td>0</td>\n",
       "      <td>622000000</td>\n",
       "      <td>0</td>\n",
       "      <td>0</td>\n",
       "      <td>1</td>\n",
       "      <td>0</td>\n",
       "      <td>1</td>\n",
       "      <td>0</td>\n",
       "      <td>0</td>\n",
       "      <td>1</td>\n",
       "    </tr>\n",
       "    <tr>\n",
       "      <th>1</th>\n",
       "      <td>1401</td>\n",
       "      <td>0</td>\n",
       "      <td>635000000</td>\n",
       "      <td>0</td>\n",
       "      <td>0</td>\n",
       "      <td>1</td>\n",
       "      <td>0</td>\n",
       "      <td>1</td>\n",
       "      <td>0</td>\n",
       "      <td>1</td>\n",
       "      <td>0</td>\n",
       "    </tr>\n",
       "    <tr>\n",
       "      <th>2</th>\n",
       "      <td>1394</td>\n",
       "      <td>94500</td>\n",
       "      <td>450000000</td>\n",
       "      <td>0</td>\n",
       "      <td>1</td>\n",
       "      <td>0</td>\n",
       "      <td>0</td>\n",
       "      <td>1</td>\n",
       "      <td>1</td>\n",
       "      <td>0</td>\n",
       "      <td>0</td>\n",
       "    </tr>\n",
       "    <tr>\n",
       "      <th>4</th>\n",
       "      <td>1401</td>\n",
       "      <td>0</td>\n",
       "      <td>620000000</td>\n",
       "      <td>0</td>\n",
       "      <td>0</td>\n",
       "      <td>1</td>\n",
       "      <td>0</td>\n",
       "      <td>1</td>\n",
       "      <td>0</td>\n",
       "      <td>1</td>\n",
       "      <td>0</td>\n",
       "    </tr>\n",
       "    <tr>\n",
       "      <th>6</th>\n",
       "      <td>1401</td>\n",
       "      <td>0</td>\n",
       "      <td>775000000</td>\n",
       "      <td>1</td>\n",
       "      <td>0</td>\n",
       "      <td>0</td>\n",
       "      <td>1</td>\n",
       "      <td>0</td>\n",
       "      <td>0</td>\n",
       "      <td>1</td>\n",
       "      <td>0</td>\n",
       "    </tr>\n",
       "    <tr>\n",
       "      <th>...</th>\n",
       "      <td>...</td>\n",
       "      <td>...</td>\n",
       "      <td>...</td>\n",
       "      <td>...</td>\n",
       "      <td>...</td>\n",
       "      <td>...</td>\n",
       "      <td>...</td>\n",
       "      <td>...</td>\n",
       "      <td>...</td>\n",
       "      <td>...</td>\n",
       "      <td>...</td>\n",
       "    </tr>\n",
       "    <tr>\n",
       "      <th>200</th>\n",
       "      <td>1401</td>\n",
       "      <td>0</td>\n",
       "      <td>785000000</td>\n",
       "      <td>1</td>\n",
       "      <td>0</td>\n",
       "      <td>0</td>\n",
       "      <td>1</td>\n",
       "      <td>0</td>\n",
       "      <td>0</td>\n",
       "      <td>0</td>\n",
       "      <td>1</td>\n",
       "    </tr>\n",
       "    <tr>\n",
       "      <th>201</th>\n",
       "      <td>1401</td>\n",
       "      <td>0</td>\n",
       "      <td>800000000</td>\n",
       "      <td>1</td>\n",
       "      <td>0</td>\n",
       "      <td>0</td>\n",
       "      <td>1</td>\n",
       "      <td>0</td>\n",
       "      <td>0</td>\n",
       "      <td>0</td>\n",
       "      <td>1</td>\n",
       "    </tr>\n",
       "    <tr>\n",
       "      <th>202</th>\n",
       "      <td>1401</td>\n",
       "      <td>0</td>\n",
       "      <td>760000000</td>\n",
       "      <td>1</td>\n",
       "      <td>0</td>\n",
       "      <td>0</td>\n",
       "      <td>1</td>\n",
       "      <td>0</td>\n",
       "      <td>0</td>\n",
       "      <td>0</td>\n",
       "      <td>1</td>\n",
       "    </tr>\n",
       "    <tr>\n",
       "      <th>203</th>\n",
       "      <td>1400</td>\n",
       "      <td>13800</td>\n",
       "      <td>620000000</td>\n",
       "      <td>0</td>\n",
       "      <td>0</td>\n",
       "      <td>1</td>\n",
       "      <td>0</td>\n",
       "      <td>1</td>\n",
       "      <td>1</td>\n",
       "      <td>0</td>\n",
       "      <td>0</td>\n",
       "    </tr>\n",
       "    <tr>\n",
       "      <th>204</th>\n",
       "      <td>1401</td>\n",
       "      <td>0</td>\n",
       "      <td>778000000</td>\n",
       "      <td>1</td>\n",
       "      <td>0</td>\n",
       "      <td>0</td>\n",
       "      <td>1</td>\n",
       "      <td>0</td>\n",
       "      <td>0</td>\n",
       "      <td>0</td>\n",
       "      <td>1</td>\n",
       "    </tr>\n",
       "  </tbody>\n",
       "</table>\n",
       "<p>193 rows × 11 columns</p>\n",
       "</div>"
      ],
      "text/plain": [
       "     سال تولید کارکرد       قیمت  مدل_توربو پلاس  مدل_معمولی  مدل_پلاس  \\\n",
       "0         1401      0  622000000               0           0         1   \n",
       "1         1401      0  635000000               0           0         1   \n",
       "2         1394  94500  450000000               0           1         0   \n",
       "4         1401      0  620000000               0           0         1   \n",
       "6         1401      0  775000000               1           0         0   \n",
       "..         ...    ...        ...             ...         ...       ...   \n",
       "200       1401      0  785000000               1           0         0   \n",
       "201       1401      0  800000000               1           0         0   \n",
       "202       1401      0  760000000               1           0         0   \n",
       "203       1400  13800  620000000               0           0         1   \n",
       "204       1401      0  778000000               1           0         0   \n",
       "\n",
       "     گیربکس_اتوماتیک  گیربکس_دنده ای  رنگ_خاکستری  رنگ_سفید  رنگ_مشکی  \n",
       "0                  0               1            0         0         1  \n",
       "1                  0               1            0         1         0  \n",
       "2                  0               1            1         0         0  \n",
       "4                  0               1            0         1         0  \n",
       "6                  1               0            0         1         0  \n",
       "..               ...             ...          ...       ...       ...  \n",
       "200                1               0            0         0         1  \n",
       "201                1               0            0         0         1  \n",
       "202                1               0            0         0         1  \n",
       "203                0               1            1         0         0  \n",
       "204                1               0            0         0         1  \n",
       "\n",
       "[193 rows x 11 columns]"
      ]
     },
     "execution_count": 18,
     "metadata": {},
     "output_type": "execute_result"
    }
   ],
   "source": [
    "dena"
   ]
  },
  {
   "cell_type": "markdown",
   "id": "5f81fe9a",
   "metadata": {},
   "source": [
    "## Remove the label"
   ]
  },
  {
   "cell_type": "code",
   "execution_count": 19,
   "id": "c1cbb735",
   "metadata": {},
   "outputs": [],
   "source": [
    "labels = dena['قیمت']\n",
    "dena.drop(['قیمت'], axis=1, inplace=True)"
   ]
  },
  {
   "cell_type": "markdown",
   "id": "f5013f5c",
   "metadata": {},
   "source": [
    "## Separating data into train and test sections"
   ]
  },
  {
   "cell_type": "code",
   "execution_count": 20,
   "id": "43016d79",
   "metadata": {},
   "outputs": [],
   "source": [
    "from sklearn.model_selection import train_test_split\n",
    "\n",
    "x_train, x_test, y_train, y_test = train_test_split(dena, labels, test_size=0.1, shuffle=True)"
   ]
  },
  {
   "cell_type": "markdown",
   "id": "ec4867cf",
   "metadata": {},
   "source": [
    "## Model making"
   ]
  },
  {
   "cell_type": "code",
   "execution_count": 21,
   "id": "b67a65c4",
   "metadata": {},
   "outputs": [
    {
     "name": "stdout",
     "output_type": "stream",
     "text": [
      "11,204,939 MT\n"
     ]
    }
   ],
   "source": [
    "from sklearn.linear_model import LinearRegression\n",
    "from sklearn.metrics import mean_absolute_error\n",
    "\n",
    "dena_model = LinearRegression()\n",
    "dena_model.fit(x_train, y_train)\n",
    "prediction = dena_model.predict(x_test)\n",
    "\n",
    "error = int(mean_absolute_error(y_test, prediction))\n",
    "print(f'{error:,} MT')"
   ]
  },
  {
   "cell_type": "markdown",
   "id": "3ddda576",
   "metadata": {},
   "source": [
    "## Save the model"
   ]
  },
  {
   "cell_type": "code",
   "execution_count": 22,
   "id": "162ece3a",
   "metadata": {},
   "outputs": [],
   "source": [
    "import pickle\n",
    "pickle.dump(dena_model, open('dena_model.sav', 'wb'))"
   ]
  }
 ],
 "metadata": {
  "kernelspec": {
   "display_name": "Python 3 (ipykernel)",
   "language": "python",
   "name": "python3"
  },
  "language_info": {
   "codemirror_mode": {
    "name": "ipython",
    "version": 3
   },
   "file_extension": ".py",
   "mimetype": "text/x-python",
   "name": "python",
   "nbconvert_exporter": "python",
   "pygments_lexer": "ipython3",
   "version": "3.8.5"
  }
 },
 "nbformat": 4,
 "nbformat_minor": 5
}
