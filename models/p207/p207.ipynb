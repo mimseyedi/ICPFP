{
 "cells": [
  {
   "cell_type": "markdown",
   "id": "1286cf86",
   "metadata": {},
   "source": [
    "# Pre-processing data and create model for Peugeot 207"
   ]
  },
  {
   "cell_type": "markdown",
   "id": "d45878a0",
   "metadata": {},
   "source": [
    "## Importing packages"
   ]
  },
  {
   "cell_type": "code",
   "execution_count": 1,
   "id": "3437bfc1",
   "metadata": {},
   "outputs": [],
   "source": [
    "import os\n",
    "import pandas as pd\n",
    "import warnings\n",
    "warnings.filterwarnings('ignore')"
   ]
  },
  {
   "cell_type": "markdown",
   "id": "62ebb8d0",
   "metadata": {},
   "source": [
    "## Reading dataset"
   ]
  },
  {
   "cell_type": "code",
   "execution_count": 2,
   "id": "bec2b630",
   "metadata": {},
   "outputs": [],
   "source": [
    "p207 = pd.read_csv(f\"{'/'.join(os.getcwd().split('/')[:-2])}/datasets/p207.csv\")"
   ]
  },
  {
   "cell_type": "code",
   "execution_count": 3,
   "id": "a90c2c64",
   "metadata": {},
   "outputs": [
    {
     "data": {
      "text/html": [
       "<div>\n",
       "<style scoped>\n",
       "    .dataframe tbody tr th:only-of-type {\n",
       "        vertical-align: middle;\n",
       "    }\n",
       "\n",
       "    .dataframe tbody tr th {\n",
       "        vertical-align: top;\n",
       "    }\n",
       "\n",
       "    .dataframe thead th {\n",
       "        text-align: right;\n",
       "    }\n",
       "</style>\n",
       "<table border=\"1\" class=\"dataframe\">\n",
       "  <thead>\n",
       "    <tr style=\"text-align: right;\">\n",
       "      <th></th>\n",
       "      <th>0</th>\n",
       "      <th>1</th>\n",
       "      <th>2</th>\n",
       "      <th>3</th>\n",
       "      <th>4</th>\n",
       "      <th>5</th>\n",
       "      <th>6</th>\n",
       "    </tr>\n",
       "  </thead>\n",
       "  <tbody>\n",
       "    <tr>\n",
       "      <th>0</th>\n",
       "      <td>پژو،</td>\n",
       "      <td>1401</td>\n",
       "      <td>MC اتوماتیک-207</td>\n",
       "      <td>کارکرد صفر</td>\n",
       "      <td>اتوماتیک</td>\n",
       "      <td>سفید</td>\n",
       "      <td>705,000,000</td>\n",
       "    </tr>\n",
       "    <tr>\n",
       "      <th>1</th>\n",
       "      <td>پژو،</td>\n",
       "      <td>1401</td>\n",
       "      <td>دنده ای-207</td>\n",
       "      <td>کارکرد صفر</td>\n",
       "      <td>دنده ای</td>\n",
       "      <td>سفید</td>\n",
       "      <td>590,000,000</td>\n",
       "    </tr>\n",
       "    <tr>\n",
       "      <th>2</th>\n",
       "      <td>پژو،</td>\n",
       "      <td>1397</td>\n",
       "      <td>اتوماتیک TU5-207</td>\n",
       "      <td>40,000 کیلومتر</td>\n",
       "      <td>اتوماتیک</td>\n",
       "      <td>مشکی</td>\n",
       "      <td>615,000,000</td>\n",
       "    </tr>\n",
       "    <tr>\n",
       "      <th>3</th>\n",
       "      <td>پژو،</td>\n",
       "      <td>1401</td>\n",
       "      <td>پانوراما دنده ای-207</td>\n",
       "      <td>24,500 کیلومتر</td>\n",
       "      <td>دنده ای</td>\n",
       "      <td>سفید</td>\n",
       "      <td>625,000,000</td>\n",
       "    </tr>\n",
       "    <tr>\n",
       "      <th>4</th>\n",
       "      <td>پژو،</td>\n",
       "      <td>1400</td>\n",
       "      <td>پانوراما اتوماتیک TU5-207</td>\n",
       "      <td>22,800 کیلومتر</td>\n",
       "      <td>اتوماتیک</td>\n",
       "      <td>سفید</td>\n",
       "      <td>735,000,000</td>\n",
       "    </tr>\n",
       "    <tr>\n",
       "      <th>...</th>\n",
       "      <td>...</td>\n",
       "      <td>...</td>\n",
       "      <td>...</td>\n",
       "      <td>...</td>\n",
       "      <td>...</td>\n",
       "      <td>...</td>\n",
       "      <td>...</td>\n",
       "    </tr>\n",
       "    <tr>\n",
       "      <th>211</th>\n",
       "      <td>پژو،</td>\n",
       "      <td>1401</td>\n",
       "      <td>پانوراما دنده ای-207</td>\n",
       "      <td>کارکرد صفر</td>\n",
       "      <td>دنده ای</td>\n",
       "      <td>سفید</td>\n",
       "      <td>650,000,000</td>\n",
       "    </tr>\n",
       "    <tr>\n",
       "      <th>212</th>\n",
       "      <td>پژو،</td>\n",
       "      <td>1401</td>\n",
       "      <td>دنده ای-207</td>\n",
       "      <td>کارکرد صفر</td>\n",
       "      <td>دنده ای</td>\n",
       "      <td>سفید</td>\n",
       "      <td>575,000,000</td>\n",
       "    </tr>\n",
       "    <tr>\n",
       "      <th>213</th>\n",
       "      <td>پژو،</td>\n",
       "      <td>1401</td>\n",
       "      <td>دنده ای-207</td>\n",
       "      <td>کارکرد صفر</td>\n",
       "      <td>دنده ای</td>\n",
       "      <td>خاکستری</td>\n",
       "      <td>595,000,000</td>\n",
       "    </tr>\n",
       "    <tr>\n",
       "      <th>214</th>\n",
       "      <td>پژو،</td>\n",
       "      <td>1401</td>\n",
       "      <td>MC اتوماتیک-207</td>\n",
       "      <td>کارکرد صفر</td>\n",
       "      <td>اتوماتیک</td>\n",
       "      <td>سفید</td>\n",
       "      <td>710,000,000</td>\n",
       "    </tr>\n",
       "    <tr>\n",
       "      <th>215</th>\n",
       "      <td>پژو،</td>\n",
       "      <td>1401</td>\n",
       "      <td>اتوماتیک TU5P-207</td>\n",
       "      <td>کارکرد صفر</td>\n",
       "      <td>اتوماتیک</td>\n",
       "      <td>سفید</td>\n",
       "      <td>785,000,000</td>\n",
       "    </tr>\n",
       "  </tbody>\n",
       "</table>\n",
       "<p>216 rows × 7 columns</p>\n",
       "</div>"
      ],
      "text/plain": [
       "        0     1                          2               3         4        5  \\\n",
       "0    پژو،  1401            MC اتوماتیک-207      کارکرد صفر  اتوماتیک     سفید   \n",
       "1    پژو،  1401                دنده ای-207      کارکرد صفر   دنده ای     سفید   \n",
       "2    پژو،  1397           اتوماتیک TU5-207  40,000 کیلومتر  اتوماتیک     مشکی   \n",
       "3    پژو،  1401       پانوراما دنده ای-207  24,500 کیلومتر   دنده ای     سفید   \n",
       "4    پژو،  1400  پانوراما اتوماتیک TU5-207  22,800 کیلومتر  اتوماتیک     سفید   \n",
       "..    ...   ...                        ...             ...       ...      ...   \n",
       "211  پژو،  1401       پانوراما دنده ای-207      کارکرد صفر   دنده ای     سفید   \n",
       "212  پژو،  1401                دنده ای-207      کارکرد صفر   دنده ای     سفید   \n",
       "213  پژو،  1401                دنده ای-207      کارکرد صفر   دنده ای  خاکستری   \n",
       "214  پژو،  1401            MC اتوماتیک-207      کارکرد صفر  اتوماتیک     سفید   \n",
       "215  پژو،  1401          اتوماتیک TU5P-207      کارکرد صفر  اتوماتیک     سفید   \n",
       "\n",
       "               6  \n",
       "0    705,000,000  \n",
       "1    590,000,000  \n",
       "2    615,000,000  \n",
       "3    625,000,000  \n",
       "4    735,000,000  \n",
       "..           ...  \n",
       "211  650,000,000  \n",
       "212  575,000,000  \n",
       "213  595,000,000  \n",
       "214  710,000,000  \n",
       "215  785,000,000  \n",
       "\n",
       "[216 rows x 7 columns]"
      ]
     },
     "execution_count": 3,
     "metadata": {},
     "output_type": "execute_result"
    }
   ],
   "source": [
    "p207"
   ]
  },
  {
   "cell_type": "markdown",
   "id": "a838954f",
   "metadata": {},
   "source": [
    "## Change columns name"
   ]
  },
  {
   "cell_type": "code",
   "execution_count": 4,
   "id": "1f98ec14",
   "metadata": {},
   "outputs": [],
   "source": [
    "def edit_cols_name(df):\n",
    "    df.rename(columns={'0': 'نام خودرو'}, inplace=True)\n",
    "    df.rename(columns={'1': 'سال تولید'}, inplace=True)\n",
    "    df.rename(columns={'2': 'مدل'}, inplace=True)\n",
    "    df.rename(columns={'3': 'کارکرد'}, inplace=True)\n",
    "    df.rename(columns={'4': 'گیربکس'}, inplace=True)\n",
    "    df.rename(columns={'5': 'رنگ'}, inplace=True)\n",
    "    df.rename(columns={'6': 'قیمت'}, inplace=True)\n",
    "    \n",
    "edit_cols_name(p207)"
   ]
  },
  {
   "cell_type": "markdown",
   "id": "663708ab",
   "metadata": {},
   "source": [
    "## Convert km to standard mode"
   ]
  },
  {
   "cell_type": "code",
   "execution_count": 5,
   "id": "6ca303d9",
   "metadata": {},
   "outputs": [],
   "source": [
    "def fix_km(df):\n",
    "    for index in range(len(df['کارکرد'])):\n",
    "        if df['کارکرد'][index].strip() == 'کارکرد صفر':\n",
    "            df['کارکرد'][index] = 0\n",
    "        elif 'کیلومتر' in df['کارکرد'][index]:\n",
    "            df['کارکرد'][index] = int(df['کارکرد'][index].split()[0].replace(',', ''))\n",
    "                   \n",
    "fix_km(p207)"
   ]
  },
  {
   "cell_type": "markdown",
   "id": "a9373f02",
   "metadata": {},
   "source": [
    "## Convert price to standard mode"
   ]
  },
  {
   "cell_type": "code",
   "execution_count": 6,
   "id": "b788c5d7",
   "metadata": {},
   "outputs": [],
   "source": [
    "for i in range(len(p207)):\n",
    "    p207['قیمت'][i] = p207['قیمت'][i].replace(',', '')\n",
    "    p207['قیمت'][i] = int(p207['قیمت'][i])"
   ]
  },
  {
   "cell_type": "markdown",
   "id": "7e936135",
   "metadata": {},
   "source": [
    "## Check different car models and organize them"
   ]
  },
  {
   "cell_type": "code",
   "execution_count": 7,
   "id": "266b4115",
   "metadata": {},
   "outputs": [
    {
     "data": {
      "text/plain": [
       "دنده ای-207                   84\n",
       "پانوراما دنده ای-207          74\n",
       "MC اتوماتیک-207               25\n",
       "اتوماتیک TU5-207              18\n",
       "پانوراما اتوماتیک TU5-207     10\n",
       "اتوماتیک TU5P-207              3\n",
       "پانوراما اتوماتیک TU5P-207     2\n",
       "Name: مدل, dtype: int64"
      ]
     },
     "execution_count": 7,
     "metadata": {},
     "output_type": "execute_result"
    }
   ],
   "source": [
    "p207['مدل'].value_counts()"
   ]
  },
  {
   "cell_type": "code",
   "execution_count": 8,
   "id": "a7561341",
   "metadata": {},
   "outputs": [],
   "source": [
    "for i in range(len(p207)):\n",
    "    p207['نام خودرو'][i] = '207'\n",
    "    p207['مدل'][i] = p207['مدل'][i].split('-')[0]\n",
    "    \n",
    "for i in range(len(p207)):\n",
    "    if p207['مدل'][i] == 'اتوماتیک TU5':\n",
    "        p207['مدل'][i] = 'TU5'\n",
    "    elif p207['مدل'][i] == 'پانوراما اتوماتیک TU5':\n",
    "        p207['مدل'][i] = 'TU5 PAN'\n",
    "    elif p207['مدل'][i] == 'MC اتوماتیک':\n",
    "        p207['مدل'][i] = 'MC'\n",
    "    elif p207['مدل'][i] == 'پانوراما دنده ای':\n",
    "        p207['مدل'][i] = 'PAN'\n",
    "    elif p207['مدل'][i] == 'دنده ای':\n",
    "        p207['مدل'][i] = 'Normal'\n",
    "        \n",
    "p207.drop(p207[p207['مدل'] == 'اتوماتیک TU5P'].index, axis=0, inplace=True)\n",
    "p207.drop(p207[p207['مدل'] == 'پانوراما اتوماتیک TU5P'].index, axis=0, inplace=True)"
   ]
  },
  {
   "cell_type": "code",
   "execution_count": 9,
   "id": "c67614c1",
   "metadata": {
    "scrolled": true
   },
   "outputs": [
    {
     "data": {
      "text/plain": [
       "Normal     84\n",
       "PAN        74\n",
       "MC         25\n",
       "TU5        18\n",
       "TU5 PAN    10\n",
       "Name: مدل, dtype: int64"
      ]
     },
     "execution_count": 9,
     "metadata": {},
     "output_type": "execute_result"
    }
   ],
   "source": [
    "p207['مدل'].value_counts()"
   ]
  },
  {
   "cell_type": "markdown",
   "id": "6d54d471",
   "metadata": {},
   "source": [
    "## Delete the especially missing value"
   ]
  },
  {
   "cell_type": "code",
   "execution_count": 10,
   "id": "c9c588c0",
   "metadata": {},
   "outputs": [],
   "source": [
    "p207.drop(p207[p207['کارکرد'] == 'کارکرده'].index, axis=0, inplace=True)"
   ]
  },
  {
   "cell_type": "markdown",
   "id": "ea86f519",
   "metadata": {},
   "source": [
    "## Check different car colors and organize them"
   ]
  },
  {
   "cell_type": "code",
   "execution_count": 11,
   "id": "f799dd29",
   "metadata": {},
   "outputs": [
    {
     "data": {
      "text/plain": [
       "سفید       123\n",
       "مشکی        68\n",
       "خاکستری      8\n",
       "قرمز         3\n",
       "نقره ای      3\n",
       "دلفینی       1\n",
       "سرمه ای      1\n",
       "آبی          1\n",
       "Name: رنگ, dtype: int64"
      ]
     },
     "execution_count": 11,
     "metadata": {},
     "output_type": "execute_result"
    }
   ],
   "source": [
    "p207['رنگ'].value_counts()"
   ]
  },
  {
   "cell_type": "code",
   "execution_count": 12,
   "id": "21c560b2",
   "metadata": {},
   "outputs": [],
   "source": [
    "p207.drop(p207[p207['رنگ'] == 'خاکستری'].index, axis=0, inplace=True)\n",
    "p207.drop(p207[p207['رنگ'] == 'آبی'].index, axis=0, inplace=True)\n",
    "p207.drop(p207[p207['رنگ'] == 'قرمز'].index, axis=0, inplace=True)\n",
    "p207.drop(p207[p207['رنگ'] == 'نقره ای'].index, axis=0, inplace=True)\n",
    "p207.drop(p207[p207['رنگ'] == 'سرمه ای'].index, axis=0, inplace=True)\n",
    "p207.drop(p207[p207['رنگ'] == 'دلفینی'].index, axis=0, inplace=True)"
   ]
  },
  {
   "cell_type": "code",
   "execution_count": 13,
   "id": "74dc79c6",
   "metadata": {
    "scrolled": true
   },
   "outputs": [
    {
     "data": {
      "text/plain": [
       "سفید    123\n",
       "مشکی     68\n",
       "Name: رنگ, dtype: int64"
      ]
     },
     "execution_count": 13,
     "metadata": {},
     "output_type": "execute_result"
    }
   ],
   "source": [
    "p207['رنگ'].value_counts()"
   ]
  },
  {
   "cell_type": "markdown",
   "id": "416fe4f8",
   "metadata": {},
   "source": [
    "## Remove extra fields"
   ]
  },
  {
   "cell_type": "code",
   "execution_count": 14,
   "id": "1d4d6dfc",
   "metadata": {},
   "outputs": [],
   "source": [
    "p207.drop(['نام خودرو'], axis=1, inplace=True)"
   ]
  },
  {
   "cell_type": "code",
   "execution_count": 15,
   "id": "f5aa0989",
   "metadata": {},
   "outputs": [
    {
     "data": {
      "text/html": [
       "<div>\n",
       "<style scoped>\n",
       "    .dataframe tbody tr th:only-of-type {\n",
       "        vertical-align: middle;\n",
       "    }\n",
       "\n",
       "    .dataframe tbody tr th {\n",
       "        vertical-align: top;\n",
       "    }\n",
       "\n",
       "    .dataframe thead th {\n",
       "        text-align: right;\n",
       "    }\n",
       "</style>\n",
       "<table border=\"1\" class=\"dataframe\">\n",
       "  <thead>\n",
       "    <tr style=\"text-align: right;\">\n",
       "      <th></th>\n",
       "      <th>سال تولید</th>\n",
       "      <th>مدل</th>\n",
       "      <th>کارکرد</th>\n",
       "      <th>گیربکس</th>\n",
       "      <th>رنگ</th>\n",
       "      <th>قیمت</th>\n",
       "    </tr>\n",
       "  </thead>\n",
       "  <tbody>\n",
       "    <tr>\n",
       "      <th>0</th>\n",
       "      <td>1401</td>\n",
       "      <td>MC</td>\n",
       "      <td>0</td>\n",
       "      <td>اتوماتیک</td>\n",
       "      <td>سفید</td>\n",
       "      <td>705000000</td>\n",
       "    </tr>\n",
       "    <tr>\n",
       "      <th>1</th>\n",
       "      <td>1401</td>\n",
       "      <td>Normal</td>\n",
       "      <td>0</td>\n",
       "      <td>دنده ای</td>\n",
       "      <td>سفید</td>\n",
       "      <td>590000000</td>\n",
       "    </tr>\n",
       "    <tr>\n",
       "      <th>2</th>\n",
       "      <td>1397</td>\n",
       "      <td>TU5</td>\n",
       "      <td>40000</td>\n",
       "      <td>اتوماتیک</td>\n",
       "      <td>مشکی</td>\n",
       "      <td>615000000</td>\n",
       "    </tr>\n",
       "    <tr>\n",
       "      <th>3</th>\n",
       "      <td>1401</td>\n",
       "      <td>PAN</td>\n",
       "      <td>24500</td>\n",
       "      <td>دنده ای</td>\n",
       "      <td>سفید</td>\n",
       "      <td>625000000</td>\n",
       "    </tr>\n",
       "    <tr>\n",
       "      <th>4</th>\n",
       "      <td>1400</td>\n",
       "      <td>TU5 PAN</td>\n",
       "      <td>22800</td>\n",
       "      <td>اتوماتیک</td>\n",
       "      <td>سفید</td>\n",
       "      <td>735000000</td>\n",
       "    </tr>\n",
       "    <tr>\n",
       "      <th>...</th>\n",
       "      <td>...</td>\n",
       "      <td>...</td>\n",
       "      <td>...</td>\n",
       "      <td>...</td>\n",
       "      <td>...</td>\n",
       "      <td>...</td>\n",
       "    </tr>\n",
       "    <tr>\n",
       "      <th>209</th>\n",
       "      <td>1398</td>\n",
       "      <td>TU5</td>\n",
       "      <td>62000</td>\n",
       "      <td>اتوماتیک</td>\n",
       "      <td>مشکی</td>\n",
       "      <td>600000000</td>\n",
       "    </tr>\n",
       "    <tr>\n",
       "      <th>210</th>\n",
       "      <td>1401</td>\n",
       "      <td>PAN</td>\n",
       "      <td>0</td>\n",
       "      <td>دنده ای</td>\n",
       "      <td>مشکی</td>\n",
       "      <td>660000000</td>\n",
       "    </tr>\n",
       "    <tr>\n",
       "      <th>211</th>\n",
       "      <td>1401</td>\n",
       "      <td>PAN</td>\n",
       "      <td>0</td>\n",
       "      <td>دنده ای</td>\n",
       "      <td>سفید</td>\n",
       "      <td>650000000</td>\n",
       "    </tr>\n",
       "    <tr>\n",
       "      <th>212</th>\n",
       "      <td>1401</td>\n",
       "      <td>Normal</td>\n",
       "      <td>0</td>\n",
       "      <td>دنده ای</td>\n",
       "      <td>سفید</td>\n",
       "      <td>575000000</td>\n",
       "    </tr>\n",
       "    <tr>\n",
       "      <th>214</th>\n",
       "      <td>1401</td>\n",
       "      <td>MC</td>\n",
       "      <td>0</td>\n",
       "      <td>اتوماتیک</td>\n",
       "      <td>سفید</td>\n",
       "      <td>710000000</td>\n",
       "    </tr>\n",
       "  </tbody>\n",
       "</table>\n",
       "<p>191 rows × 6 columns</p>\n",
       "</div>"
      ],
      "text/plain": [
       "     سال تولید      مدل کارکرد    گیربکس   رنگ       قیمت\n",
       "0         1401       MC      0  اتوماتیک  سفید  705000000\n",
       "1         1401   Normal      0   دنده ای  سفید  590000000\n",
       "2         1397      TU5  40000  اتوماتیک  مشکی  615000000\n",
       "3         1401      PAN  24500   دنده ای  سفید  625000000\n",
       "4         1400  TU5 PAN  22800  اتوماتیک  سفید  735000000\n",
       "..         ...      ...    ...       ...   ...        ...\n",
       "209       1398      TU5  62000  اتوماتیک  مشکی  600000000\n",
       "210       1401      PAN      0   دنده ای  مشکی  660000000\n",
       "211       1401      PAN      0   دنده ای  سفید  650000000\n",
       "212       1401   Normal      0   دنده ای  سفید  575000000\n",
       "214       1401       MC      0  اتوماتیک  سفید  710000000\n",
       "\n",
       "[191 rows x 6 columns]"
      ]
     },
     "execution_count": 15,
     "metadata": {},
     "output_type": "execute_result"
    }
   ],
   "source": [
    "p207"
   ]
  },
  {
   "cell_type": "markdown",
   "id": "354b9486",
   "metadata": {},
   "source": [
    "## One-hot fields"
   ]
  },
  {
   "cell_type": "code",
   "execution_count": 16,
   "id": "c68147bc",
   "metadata": {},
   "outputs": [],
   "source": [
    "def make_one_hot(data, field):\n",
    "    temp = pd.get_dummies(data[field], prefix=field)\n",
    "    data.drop(field, axis=1, inplace=True)\n",
    "    return pd.concat([data, temp], axis=1)"
   ]
  },
  {
   "cell_type": "code",
   "execution_count": 17,
   "id": "ed61bf7e",
   "metadata": {},
   "outputs": [],
   "source": [
    "p207 = make_one_hot(p207, 'مدل')\n",
    "p207 = make_one_hot(p207, 'گیربکس')\n",
    "p207 = make_one_hot(p207, 'رنگ')"
   ]
  },
  {
   "cell_type": "code",
   "execution_count": 18,
   "id": "dc02e6a3",
   "metadata": {},
   "outputs": [
    {
     "data": {
      "text/html": [
       "<div>\n",
       "<style scoped>\n",
       "    .dataframe tbody tr th:only-of-type {\n",
       "        vertical-align: middle;\n",
       "    }\n",
       "\n",
       "    .dataframe tbody tr th {\n",
       "        vertical-align: top;\n",
       "    }\n",
       "\n",
       "    .dataframe thead th {\n",
       "        text-align: right;\n",
       "    }\n",
       "</style>\n",
       "<table border=\"1\" class=\"dataframe\">\n",
       "  <thead>\n",
       "    <tr style=\"text-align: right;\">\n",
       "      <th></th>\n",
       "      <th>سال تولید</th>\n",
       "      <th>کارکرد</th>\n",
       "      <th>قیمت</th>\n",
       "      <th>مدل_MC</th>\n",
       "      <th>مدل_Normal</th>\n",
       "      <th>مدل_PAN</th>\n",
       "      <th>مدل_TU5</th>\n",
       "      <th>مدل_TU5 PAN</th>\n",
       "      <th>گیربکس_اتوماتیک</th>\n",
       "      <th>گیربکس_دنده ای</th>\n",
       "      <th>رنگ_سفید</th>\n",
       "      <th>رنگ_مشکی</th>\n",
       "    </tr>\n",
       "  </thead>\n",
       "  <tbody>\n",
       "    <tr>\n",
       "      <th>0</th>\n",
       "      <td>1401</td>\n",
       "      <td>0</td>\n",
       "      <td>705000000</td>\n",
       "      <td>1</td>\n",
       "      <td>0</td>\n",
       "      <td>0</td>\n",
       "      <td>0</td>\n",
       "      <td>0</td>\n",
       "      <td>1</td>\n",
       "      <td>0</td>\n",
       "      <td>1</td>\n",
       "      <td>0</td>\n",
       "    </tr>\n",
       "    <tr>\n",
       "      <th>1</th>\n",
       "      <td>1401</td>\n",
       "      <td>0</td>\n",
       "      <td>590000000</td>\n",
       "      <td>0</td>\n",
       "      <td>1</td>\n",
       "      <td>0</td>\n",
       "      <td>0</td>\n",
       "      <td>0</td>\n",
       "      <td>0</td>\n",
       "      <td>1</td>\n",
       "      <td>1</td>\n",
       "      <td>0</td>\n",
       "    </tr>\n",
       "    <tr>\n",
       "      <th>2</th>\n",
       "      <td>1397</td>\n",
       "      <td>40000</td>\n",
       "      <td>615000000</td>\n",
       "      <td>0</td>\n",
       "      <td>0</td>\n",
       "      <td>0</td>\n",
       "      <td>1</td>\n",
       "      <td>0</td>\n",
       "      <td>1</td>\n",
       "      <td>0</td>\n",
       "      <td>0</td>\n",
       "      <td>1</td>\n",
       "    </tr>\n",
       "    <tr>\n",
       "      <th>3</th>\n",
       "      <td>1401</td>\n",
       "      <td>24500</td>\n",
       "      <td>625000000</td>\n",
       "      <td>0</td>\n",
       "      <td>0</td>\n",
       "      <td>1</td>\n",
       "      <td>0</td>\n",
       "      <td>0</td>\n",
       "      <td>0</td>\n",
       "      <td>1</td>\n",
       "      <td>1</td>\n",
       "      <td>0</td>\n",
       "    </tr>\n",
       "    <tr>\n",
       "      <th>4</th>\n",
       "      <td>1400</td>\n",
       "      <td>22800</td>\n",
       "      <td>735000000</td>\n",
       "      <td>0</td>\n",
       "      <td>0</td>\n",
       "      <td>0</td>\n",
       "      <td>0</td>\n",
       "      <td>1</td>\n",
       "      <td>1</td>\n",
       "      <td>0</td>\n",
       "      <td>1</td>\n",
       "      <td>0</td>\n",
       "    </tr>\n",
       "    <tr>\n",
       "      <th>...</th>\n",
       "      <td>...</td>\n",
       "      <td>...</td>\n",
       "      <td>...</td>\n",
       "      <td>...</td>\n",
       "      <td>...</td>\n",
       "      <td>...</td>\n",
       "      <td>...</td>\n",
       "      <td>...</td>\n",
       "      <td>...</td>\n",
       "      <td>...</td>\n",
       "      <td>...</td>\n",
       "      <td>...</td>\n",
       "    </tr>\n",
       "    <tr>\n",
       "      <th>209</th>\n",
       "      <td>1398</td>\n",
       "      <td>62000</td>\n",
       "      <td>600000000</td>\n",
       "      <td>0</td>\n",
       "      <td>0</td>\n",
       "      <td>0</td>\n",
       "      <td>1</td>\n",
       "      <td>0</td>\n",
       "      <td>1</td>\n",
       "      <td>0</td>\n",
       "      <td>0</td>\n",
       "      <td>1</td>\n",
       "    </tr>\n",
       "    <tr>\n",
       "      <th>210</th>\n",
       "      <td>1401</td>\n",
       "      <td>0</td>\n",
       "      <td>660000000</td>\n",
       "      <td>0</td>\n",
       "      <td>0</td>\n",
       "      <td>1</td>\n",
       "      <td>0</td>\n",
       "      <td>0</td>\n",
       "      <td>0</td>\n",
       "      <td>1</td>\n",
       "      <td>0</td>\n",
       "      <td>1</td>\n",
       "    </tr>\n",
       "    <tr>\n",
       "      <th>211</th>\n",
       "      <td>1401</td>\n",
       "      <td>0</td>\n",
       "      <td>650000000</td>\n",
       "      <td>0</td>\n",
       "      <td>0</td>\n",
       "      <td>1</td>\n",
       "      <td>0</td>\n",
       "      <td>0</td>\n",
       "      <td>0</td>\n",
       "      <td>1</td>\n",
       "      <td>1</td>\n",
       "      <td>0</td>\n",
       "    </tr>\n",
       "    <tr>\n",
       "      <th>212</th>\n",
       "      <td>1401</td>\n",
       "      <td>0</td>\n",
       "      <td>575000000</td>\n",
       "      <td>0</td>\n",
       "      <td>1</td>\n",
       "      <td>0</td>\n",
       "      <td>0</td>\n",
       "      <td>0</td>\n",
       "      <td>0</td>\n",
       "      <td>1</td>\n",
       "      <td>1</td>\n",
       "      <td>0</td>\n",
       "    </tr>\n",
       "    <tr>\n",
       "      <th>214</th>\n",
       "      <td>1401</td>\n",
       "      <td>0</td>\n",
       "      <td>710000000</td>\n",
       "      <td>1</td>\n",
       "      <td>0</td>\n",
       "      <td>0</td>\n",
       "      <td>0</td>\n",
       "      <td>0</td>\n",
       "      <td>1</td>\n",
       "      <td>0</td>\n",
       "      <td>1</td>\n",
       "      <td>0</td>\n",
       "    </tr>\n",
       "  </tbody>\n",
       "</table>\n",
       "<p>191 rows × 12 columns</p>\n",
       "</div>"
      ],
      "text/plain": [
       "     سال تولید کارکرد       قیمت  مدل_MC  مدل_Normal  مدل_PAN  مدل_TU5  \\\n",
       "0         1401      0  705000000       1           0        0        0   \n",
       "1         1401      0  590000000       0           1        0        0   \n",
       "2         1397  40000  615000000       0           0        0        1   \n",
       "3         1401  24500  625000000       0           0        1        0   \n",
       "4         1400  22800  735000000       0           0        0        0   \n",
       "..         ...    ...        ...     ...         ...      ...      ...   \n",
       "209       1398  62000  600000000       0           0        0        1   \n",
       "210       1401      0  660000000       0           0        1        0   \n",
       "211       1401      0  650000000       0           0        1        0   \n",
       "212       1401      0  575000000       0           1        0        0   \n",
       "214       1401      0  710000000       1           0        0        0   \n",
       "\n",
       "     مدل_TU5 PAN  گیربکس_اتوماتیک  گیربکس_دنده ای  رنگ_سفید  رنگ_مشکی  \n",
       "0              0                1               0         1         0  \n",
       "1              0                0               1         1         0  \n",
       "2              0                1               0         0         1  \n",
       "3              0                0               1         1         0  \n",
       "4              1                1               0         1         0  \n",
       "..           ...              ...             ...       ...       ...  \n",
       "209            0                1               0         0         1  \n",
       "210            0                0               1         0         1  \n",
       "211            0                0               1         1         0  \n",
       "212            0                0               1         1         0  \n",
       "214            0                1               0         1         0  \n",
       "\n",
       "[191 rows x 12 columns]"
      ]
     },
     "execution_count": 18,
     "metadata": {},
     "output_type": "execute_result"
    }
   ],
   "source": [
    "p207"
   ]
  },
  {
   "cell_type": "markdown",
   "id": "723983d8",
   "metadata": {},
   "source": [
    "## Remove the label"
   ]
  },
  {
   "cell_type": "code",
   "execution_count": 19,
   "id": "2343f232",
   "metadata": {},
   "outputs": [],
   "source": [
    "labels = p207['قیمت']\n",
    "p207.drop(['قیمت'], axis=1, inplace=True)"
   ]
  },
  {
   "cell_type": "markdown",
   "id": "c907e576",
   "metadata": {},
   "source": [
    "## Separating data into train and test sections"
   ]
  },
  {
   "cell_type": "code",
   "execution_count": 20,
   "id": "7557b977",
   "metadata": {},
   "outputs": [],
   "source": [
    "from sklearn.model_selection import train_test_split\n",
    "\n",
    "x_train, x_test, y_train, y_test = train_test_split(p207, labels, test_size=0.1, shuffle=True)"
   ]
  },
  {
   "cell_type": "markdown",
   "id": "c737f10c",
   "metadata": {},
   "source": [
    "## Model making"
   ]
  },
  {
   "cell_type": "code",
   "execution_count": 21,
   "id": "dc15ec74",
   "metadata": {},
   "outputs": [
    {
     "name": "stdout",
     "output_type": "stream",
     "text": [
      "10,718,500 MT\n"
     ]
    }
   ],
   "source": [
    "from sklearn.linear_model import LinearRegression\n",
    "from sklearn.metrics import mean_absolute_error\n",
    "\n",
    "p207_model = LinearRegression()\n",
    "p207_model.fit(x_train, y_train)\n",
    "prediction = p207_model.predict(x_test)\n",
    "\n",
    "error = int(mean_absolute_error(y_test, prediction))\n",
    "print(f'{error:,} MT')"
   ]
  },
  {
   "cell_type": "markdown",
   "id": "c9f59b12",
   "metadata": {},
   "source": [
    "## Save the model"
   ]
  },
  {
   "cell_type": "code",
   "execution_count": 22,
   "id": "3cd735e4",
   "metadata": {},
   "outputs": [],
   "source": [
    "import pickle\n",
    "pickle.dump(p207_model, open('p207_model.sav', 'wb'))"
   ]
  }
 ],
 "metadata": {
  "kernelspec": {
   "display_name": "Python 3 (ipykernel)",
   "language": "python",
   "name": "python3"
  },
  "language_info": {
   "codemirror_mode": {
    "name": "ipython",
    "version": 3
   },
   "file_extension": ".py",
   "mimetype": "text/x-python",
   "name": "python",
   "nbconvert_exporter": "python",
   "pygments_lexer": "ipython3",
   "version": "3.8.5"
  }
 },
 "nbformat": 4,
 "nbformat_minor": 5
}
