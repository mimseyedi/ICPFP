{
 "cells": [
  {
   "cell_type": "markdown",
   "id": "cfda9bdc",
   "metadata": {},
   "source": [
    "# Pre-processing data and create model for Peugeot 206"
   ]
  },
  {
   "cell_type": "markdown",
   "id": "d70298ab",
   "metadata": {},
   "source": [
    "## Importing packages"
   ]
  },
  {
   "cell_type": "code",
   "execution_count": 1,
   "id": "f107556e",
   "metadata": {},
   "outputs": [],
   "source": [
    "import os\n",
    "import pandas as pd\n",
    "import warnings\n",
    "warnings.filterwarnings('ignore')"
   ]
  },
  {
   "cell_type": "markdown",
   "id": "ae5f1e2a",
   "metadata": {},
   "source": [
    "## Reading dataset"
   ]
  },
  {
   "cell_type": "code",
   "execution_count": 2,
   "id": "341a92b6",
   "metadata": {},
   "outputs": [],
   "source": [
    "p206 = pd.read_csv(f\"{'/'.join(os.getcwd().split('/')[:-2])}/datasets/p206.csv\")"
   ]
  },
  {
   "cell_type": "code",
   "execution_count": 3,
   "id": "c8284e6d",
   "metadata": {},
   "outputs": [
    {
     "data": {
      "text/html": [
       "<div>\n",
       "<style scoped>\n",
       "    .dataframe tbody tr th:only-of-type {\n",
       "        vertical-align: middle;\n",
       "    }\n",
       "\n",
       "    .dataframe tbody tr th {\n",
       "        vertical-align: top;\n",
       "    }\n",
       "\n",
       "    .dataframe thead th {\n",
       "        text-align: right;\n",
       "    }\n",
       "</style>\n",
       "<table border=\"1\" class=\"dataframe\">\n",
       "  <thead>\n",
       "    <tr style=\"text-align: right;\">\n",
       "      <th></th>\n",
       "      <th>0</th>\n",
       "      <th>1</th>\n",
       "      <th>2</th>\n",
       "      <th>3</th>\n",
       "      <th>4</th>\n",
       "      <th>5</th>\n",
       "      <th>6</th>\n",
       "    </tr>\n",
       "  </thead>\n",
       "  <tbody>\n",
       "    <tr>\n",
       "      <th>0</th>\n",
       "      <td>پژو،</td>\n",
       "      <td>1401</td>\n",
       "      <td>تیپ 2-206</td>\n",
       "      <td>کارکرد صفر</td>\n",
       "      <td>دنده ای</td>\n",
       "      <td>سفید</td>\n",
       "      <td>483,000,000</td>\n",
       "    </tr>\n",
       "    <tr>\n",
       "      <th>1</th>\n",
       "      <td>پژو،</td>\n",
       "      <td>1391</td>\n",
       "      <td>تیپ 2-206</td>\n",
       "      <td>108,000 کیلومتر</td>\n",
       "      <td>دنده ای</td>\n",
       "      <td>سفید</td>\n",
       "      <td>260,000,000</td>\n",
       "    </tr>\n",
       "    <tr>\n",
       "      <th>2</th>\n",
       "      <td>پژو،</td>\n",
       "      <td>1393</td>\n",
       "      <td>تیپ 5-206</td>\n",
       "      <td>133,100 کیلومتر</td>\n",
       "      <td>دنده ای</td>\n",
       "      <td>سفید</td>\n",
       "      <td>345,000,000</td>\n",
       "    </tr>\n",
       "    <tr>\n",
       "      <th>3</th>\n",
       "      <td>پژو،</td>\n",
       "      <td>1398</td>\n",
       "      <td>تیپ 5-206</td>\n",
       "      <td>38,000 کیلومتر</td>\n",
       "      <td>دنده ای</td>\n",
       "      <td>خاکستری</td>\n",
       "      <td>465,000,000</td>\n",
       "    </tr>\n",
       "    <tr>\n",
       "      <th>4</th>\n",
       "      <td>پژو،</td>\n",
       "      <td>1396</td>\n",
       "      <td>تیپ 2-206</td>\n",
       "      <td>210,000 کیلومتر</td>\n",
       "      <td>دنده ای</td>\n",
       "      <td>سفید</td>\n",
       "      <td>339,500,000</td>\n",
       "    </tr>\n",
       "    <tr>\n",
       "      <th>...</th>\n",
       "      <td>...</td>\n",
       "      <td>...</td>\n",
       "      <td>...</td>\n",
       "      <td>...</td>\n",
       "      <td>...</td>\n",
       "      <td>...</td>\n",
       "      <td>...</td>\n",
       "    </tr>\n",
       "    <tr>\n",
       "      <th>495</th>\n",
       "      <td>پژو،</td>\n",
       "      <td>1394</td>\n",
       "      <td>تیپ 5-206</td>\n",
       "      <td>93,000 کیلومتر</td>\n",
       "      <td>دنده ای</td>\n",
       "      <td>آبی</td>\n",
       "      <td>355,000,000</td>\n",
       "    </tr>\n",
       "    <tr>\n",
       "      <th>496</th>\n",
       "      <td>پژو،</td>\n",
       "      <td>1398</td>\n",
       "      <td>تیپ 2-206</td>\n",
       "      <td>44,000 کیلومتر</td>\n",
       "      <td>دنده ای</td>\n",
       "      <td>نوک مدادی</td>\n",
       "      <td>389,500,000</td>\n",
       "    </tr>\n",
       "    <tr>\n",
       "      <th>497</th>\n",
       "      <td>پژو،</td>\n",
       "      <td>1399</td>\n",
       "      <td>تیپ 2-206</td>\n",
       "      <td>کارکرد صفر</td>\n",
       "      <td>دنده ای</td>\n",
       "      <td>سفید</td>\n",
       "      <td>435,000,000</td>\n",
       "    </tr>\n",
       "    <tr>\n",
       "      <th>498</th>\n",
       "      <td>پژو،</td>\n",
       "      <td>1397</td>\n",
       "      <td>تیپ 5-206</td>\n",
       "      <td>72,000 کیلومتر</td>\n",
       "      <td>دنده ای</td>\n",
       "      <td>خاکستری</td>\n",
       "      <td>430,000,000</td>\n",
       "    </tr>\n",
       "    <tr>\n",
       "      <th>499</th>\n",
       "      <td>پژو،</td>\n",
       "      <td>1400</td>\n",
       "      <td>تیپ 2-206</td>\n",
       "      <td>7,000 کیلومتر</td>\n",
       "      <td>دنده ای</td>\n",
       "      <td>مشکی</td>\n",
       "      <td>425,000,000</td>\n",
       "    </tr>\n",
       "  </tbody>\n",
       "</table>\n",
       "<p>500 rows × 7 columns</p>\n",
       "</div>"
      ],
      "text/plain": [
       "        0     1          2                3        4          5            6\n",
       "0    پژو،  1401  تیپ 2-206       کارکرد صفر  دنده ای       سفید  483,000,000\n",
       "1    پژو،  1391  تیپ 2-206  108,000 کیلومتر  دنده ای       سفید  260,000,000\n",
       "2    پژو،  1393  تیپ 5-206  133,100 کیلومتر  دنده ای       سفید  345,000,000\n",
       "3    پژو،  1398  تیپ 5-206   38,000 کیلومتر  دنده ای    خاکستری  465,000,000\n",
       "4    پژو،  1396  تیپ 2-206  210,000 کیلومتر  دنده ای       سفید  339,500,000\n",
       "..    ...   ...        ...              ...      ...        ...          ...\n",
       "495  پژو،  1394  تیپ 5-206   93,000 کیلومتر  دنده ای        آبی  355,000,000\n",
       "496  پژو،  1398  تیپ 2-206   44,000 کیلومتر  دنده ای  نوک مدادی  389,500,000\n",
       "497  پژو،  1399  تیپ 2-206       کارکرد صفر  دنده ای       سفید  435,000,000\n",
       "498  پژو،  1397  تیپ 5-206   72,000 کیلومتر  دنده ای    خاکستری  430,000,000\n",
       "499  پژو،  1400  تیپ 2-206    7,000 کیلومتر  دنده ای       مشکی  425,000,000\n",
       "\n",
       "[500 rows x 7 columns]"
      ]
     },
     "execution_count": 3,
     "metadata": {},
     "output_type": "execute_result"
    }
   ],
   "source": [
    "p206"
   ]
  },
  {
   "cell_type": "markdown",
   "id": "72b57311",
   "metadata": {},
   "source": [
    "## Change columns name"
   ]
  },
  {
   "cell_type": "code",
   "execution_count": 4,
   "id": "649eb693",
   "metadata": {},
   "outputs": [],
   "source": [
    "def edit_cols_name(df):\n",
    "    df.rename(columns={'0': 'نام خودرو'}, inplace=True)\n",
    "    df.rename(columns={'1': 'سال تولید'}, inplace=True)\n",
    "    df.rename(columns={'2': 'مدل'}, inplace=True)\n",
    "    df.rename(columns={'3': 'کارکرد'}, inplace=True)\n",
    "    df.rename(columns={'4': 'گیربکس'}, inplace=True)\n",
    "    df.rename(columns={'5': 'رنگ'}, inplace=True)\n",
    "    df.rename(columns={'6': 'قیمت'}, inplace=True)\n",
    "    \n",
    "edit_cols_name(p206)"
   ]
  },
  {
   "cell_type": "markdown",
   "id": "8ba0f618",
   "metadata": {},
   "source": [
    "## Convert km to standard mode"
   ]
  },
  {
   "cell_type": "code",
   "execution_count": 5,
   "id": "92398ab2",
   "metadata": {},
   "outputs": [],
   "source": [
    "def fix_km(df):\n",
    "    for index in range(len(df['کارکرد'])):\n",
    "        if df['کارکرد'][index].strip() == 'کارکرد صفر':\n",
    "            df['کارکرد'][index] = 0\n",
    "        elif 'کیلومتر' in df['کارکرد'][index]:\n",
    "            df['کارکرد'][index] = int(df['کارکرد'][index].split()[0].replace(',', ''))\n",
    "                   \n",
    "fix_km(p206)"
   ]
  },
  {
   "cell_type": "markdown",
   "id": "840ced2b",
   "metadata": {},
   "source": [
    "## Convert price to standard mode"
   ]
  },
  {
   "cell_type": "code",
   "execution_count": 6,
   "id": "eb12ab4f",
   "metadata": {},
   "outputs": [],
   "source": [
    "for i in range(len(p206)):\n",
    "    p206['قیمت'][i] = p206['قیمت'][i].replace(',', '')\n",
    "    p206['قیمت'][i] = int(p206['قیمت'][i])"
   ]
  },
  {
   "cell_type": "markdown",
   "id": "eacf8fb8",
   "metadata": {},
   "source": [
    "## Check different car models and organize them"
   ]
  },
  {
   "cell_type": "code",
   "execution_count": 7,
   "id": "7de905b5",
   "metadata": {},
   "outputs": [
    {
     "data": {
      "text/plain": [
       "تیپ 2-206             327\n",
       "تیپ 5-206             107\n",
       "تیپ 3 پانوراما-206     60\n",
       "تیپ 6-206               6\n",
       "Name: مدل, dtype: int64"
      ]
     },
     "execution_count": 7,
     "metadata": {},
     "output_type": "execute_result"
    }
   ],
   "source": [
    "p206['مدل'].value_counts()"
   ]
  },
  {
   "cell_type": "code",
   "execution_count": 8,
   "id": "642de75b",
   "metadata": {},
   "outputs": [],
   "source": [
    "for i in range(len(p206)):\n",
    "    p206['نام خودرو'][i] = '206'\n",
    "    p206['مدل'][i] = p206['مدل'][i].split('-')[0]\n",
    "    \n",
    "p206.drop(p206[p206['مدل'] == 'تیپ 6'].index, axis=0, inplace=True)"
   ]
  },
  {
   "cell_type": "code",
   "execution_count": 9,
   "id": "64736805",
   "metadata": {
    "scrolled": true
   },
   "outputs": [
    {
     "data": {
      "text/plain": [
       "تیپ 2             327\n",
       "تیپ 5             107\n",
       "تیپ 3 پانوراما     60\n",
       "Name: مدل, dtype: int64"
      ]
     },
     "execution_count": 9,
     "metadata": {},
     "output_type": "execute_result"
    }
   ],
   "source": [
    "p206['مدل'].value_counts()"
   ]
  },
  {
   "cell_type": "markdown",
   "id": "f139f252",
   "metadata": {},
   "source": [
    "## Delete the especially missing value"
   ]
  },
  {
   "cell_type": "code",
   "execution_count": 10,
   "id": "7b88da12",
   "metadata": {},
   "outputs": [],
   "source": [
    "p206.drop(p206[p206['کارکرد'] == 'کارکرده'].index, axis=0, inplace=True)"
   ]
  },
  {
   "cell_type": "markdown",
   "id": "4869b8cf",
   "metadata": {},
   "source": [
    "## Check different car colors and organize them"
   ]
  },
  {
   "cell_type": "code",
   "execution_count": 11,
   "id": "6b1fe499",
   "metadata": {},
   "outputs": [
    {
     "data": {
      "text/plain": [
       "سفید         391\n",
       "خاکستری       41\n",
       "مشکی          20\n",
       "آبی           10\n",
       "نوک مدادی      9\n",
       "نقره ای        8\n",
       "قرمز           7\n",
       "گیلاسی         3\n",
       "بادمجانی       1\n",
       "Name: رنگ, dtype: int64"
      ]
     },
     "execution_count": 11,
     "metadata": {},
     "output_type": "execute_result"
    }
   ],
   "source": [
    "p206['رنگ'].value_counts()"
   ]
  },
  {
   "cell_type": "code",
   "execution_count": 12,
   "id": "64f71417",
   "metadata": {},
   "outputs": [],
   "source": [
    "p206.drop(p206[p206['رنگ'] == 'بادمجانی'].index, axis=0, inplace=True)\n",
    "p206.drop(p206[p206['رنگ'] == 'گیلاسی'].index, axis=0, inplace=True)\n",
    "p206.drop(p206[p206['رنگ'] == 'قرمز'].index, axis=0, inplace=True)\n",
    "p206.drop(p206[p206['رنگ'] == 'نقره ای'].index, axis=0, inplace=True)\n",
    "p206.drop(p206[p206['رنگ'] == 'نوک مدادی'].index, axis=0, inplace=True)"
   ]
  },
  {
   "cell_type": "code",
   "execution_count": 13,
   "id": "4926d199",
   "metadata": {
    "scrolled": true
   },
   "outputs": [
    {
     "data": {
      "text/plain": [
       "سفید       391\n",
       "خاکستری     41\n",
       "مشکی        20\n",
       "آبی         10\n",
       "Name: رنگ, dtype: int64"
      ]
     },
     "execution_count": 13,
     "metadata": {},
     "output_type": "execute_result"
    }
   ],
   "source": [
    "p206['رنگ'].value_counts()"
   ]
  },
  {
   "cell_type": "markdown",
   "id": "4d178d77",
   "metadata": {},
   "source": [
    "## Remove extra fields"
   ]
  },
  {
   "cell_type": "code",
   "execution_count": 14,
   "id": "d05a2724",
   "metadata": {},
   "outputs": [],
   "source": [
    "p206.drop(['نام خودرو'], axis=1, inplace=True)"
   ]
  },
  {
   "cell_type": "code",
   "execution_count": 15,
   "id": "a1e30010",
   "metadata": {},
   "outputs": [
    {
     "data": {
      "text/html": [
       "<div>\n",
       "<style scoped>\n",
       "    .dataframe tbody tr th:only-of-type {\n",
       "        vertical-align: middle;\n",
       "    }\n",
       "\n",
       "    .dataframe tbody tr th {\n",
       "        vertical-align: top;\n",
       "    }\n",
       "\n",
       "    .dataframe thead th {\n",
       "        text-align: right;\n",
       "    }\n",
       "</style>\n",
       "<table border=\"1\" class=\"dataframe\">\n",
       "  <thead>\n",
       "    <tr style=\"text-align: right;\">\n",
       "      <th></th>\n",
       "      <th>سال تولید</th>\n",
       "      <th>مدل</th>\n",
       "      <th>کارکرد</th>\n",
       "      <th>گیربکس</th>\n",
       "      <th>رنگ</th>\n",
       "      <th>قیمت</th>\n",
       "    </tr>\n",
       "  </thead>\n",
       "  <tbody>\n",
       "    <tr>\n",
       "      <th>0</th>\n",
       "      <td>1401</td>\n",
       "      <td>تیپ 2</td>\n",
       "      <td>0</td>\n",
       "      <td>دنده ای</td>\n",
       "      <td>سفید</td>\n",
       "      <td>483000000</td>\n",
       "    </tr>\n",
       "    <tr>\n",
       "      <th>1</th>\n",
       "      <td>1391</td>\n",
       "      <td>تیپ 2</td>\n",
       "      <td>108000</td>\n",
       "      <td>دنده ای</td>\n",
       "      <td>سفید</td>\n",
       "      <td>260000000</td>\n",
       "    </tr>\n",
       "    <tr>\n",
       "      <th>2</th>\n",
       "      <td>1393</td>\n",
       "      <td>تیپ 5</td>\n",
       "      <td>133100</td>\n",
       "      <td>دنده ای</td>\n",
       "      <td>سفید</td>\n",
       "      <td>345000000</td>\n",
       "    </tr>\n",
       "    <tr>\n",
       "      <th>3</th>\n",
       "      <td>1398</td>\n",
       "      <td>تیپ 5</td>\n",
       "      <td>38000</td>\n",
       "      <td>دنده ای</td>\n",
       "      <td>خاکستری</td>\n",
       "      <td>465000000</td>\n",
       "    </tr>\n",
       "    <tr>\n",
       "      <th>4</th>\n",
       "      <td>1396</td>\n",
       "      <td>تیپ 2</td>\n",
       "      <td>210000</td>\n",
       "      <td>دنده ای</td>\n",
       "      <td>سفید</td>\n",
       "      <td>339500000</td>\n",
       "    </tr>\n",
       "    <tr>\n",
       "      <th>...</th>\n",
       "      <td>...</td>\n",
       "      <td>...</td>\n",
       "      <td>...</td>\n",
       "      <td>...</td>\n",
       "      <td>...</td>\n",
       "      <td>...</td>\n",
       "    </tr>\n",
       "    <tr>\n",
       "      <th>494</th>\n",
       "      <td>1399</td>\n",
       "      <td>تیپ 2</td>\n",
       "      <td>70000</td>\n",
       "      <td>دنده ای</td>\n",
       "      <td>سفید</td>\n",
       "      <td>420000000</td>\n",
       "    </tr>\n",
       "    <tr>\n",
       "      <th>495</th>\n",
       "      <td>1394</td>\n",
       "      <td>تیپ 5</td>\n",
       "      <td>93000</td>\n",
       "      <td>دنده ای</td>\n",
       "      <td>آبی</td>\n",
       "      <td>355000000</td>\n",
       "    </tr>\n",
       "    <tr>\n",
       "      <th>497</th>\n",
       "      <td>1399</td>\n",
       "      <td>تیپ 2</td>\n",
       "      <td>0</td>\n",
       "      <td>دنده ای</td>\n",
       "      <td>سفید</td>\n",
       "      <td>435000000</td>\n",
       "    </tr>\n",
       "    <tr>\n",
       "      <th>498</th>\n",
       "      <td>1397</td>\n",
       "      <td>تیپ 5</td>\n",
       "      <td>72000</td>\n",
       "      <td>دنده ای</td>\n",
       "      <td>خاکستری</td>\n",
       "      <td>430000000</td>\n",
       "    </tr>\n",
       "    <tr>\n",
       "      <th>499</th>\n",
       "      <td>1400</td>\n",
       "      <td>تیپ 2</td>\n",
       "      <td>7000</td>\n",
       "      <td>دنده ای</td>\n",
       "      <td>مشکی</td>\n",
       "      <td>425000000</td>\n",
       "    </tr>\n",
       "  </tbody>\n",
       "</table>\n",
       "<p>462 rows × 6 columns</p>\n",
       "</div>"
      ],
      "text/plain": [
       "     سال تولید    مدل  کارکرد   گیربکس      رنگ       قیمت\n",
       "0         1401  تیپ 2       0  دنده ای     سفید  483000000\n",
       "1         1391  تیپ 2  108000  دنده ای     سفید  260000000\n",
       "2         1393  تیپ 5  133100  دنده ای     سفید  345000000\n",
       "3         1398  تیپ 5   38000  دنده ای  خاکستری  465000000\n",
       "4         1396  تیپ 2  210000  دنده ای     سفید  339500000\n",
       "..         ...    ...     ...      ...      ...        ...\n",
       "494       1399  تیپ 2   70000  دنده ای     سفید  420000000\n",
       "495       1394  تیپ 5   93000  دنده ای      آبی  355000000\n",
       "497       1399  تیپ 2       0  دنده ای     سفید  435000000\n",
       "498       1397  تیپ 5   72000  دنده ای  خاکستری  430000000\n",
       "499       1400  تیپ 2    7000  دنده ای     مشکی  425000000\n",
       "\n",
       "[462 rows x 6 columns]"
      ]
     },
     "execution_count": 15,
     "metadata": {},
     "output_type": "execute_result"
    }
   ],
   "source": [
    "p206"
   ]
  },
  {
   "cell_type": "markdown",
   "id": "e7b39ef0",
   "metadata": {},
   "source": [
    "## One-hot fields"
   ]
  },
  {
   "cell_type": "code",
   "execution_count": 16,
   "id": "012960cc",
   "metadata": {},
   "outputs": [],
   "source": [
    "def make_one_hot(data, field):\n",
    "    temp = pd.get_dummies(data[field], prefix=field)\n",
    "    data.drop(field, axis=1, inplace=True)\n",
    "    return pd.concat([data, temp], axis=1)"
   ]
  },
  {
   "cell_type": "code",
   "execution_count": 17,
   "id": "4ce4a1f0",
   "metadata": {},
   "outputs": [],
   "source": [
    "p206 = make_one_hot(p206, 'مدل')\n",
    "p206 = make_one_hot(p206, 'گیربکس')\n",
    "p206 = make_one_hot(p206, 'رنگ')"
   ]
  },
  {
   "cell_type": "code",
   "execution_count": 18,
   "id": "35cb232d",
   "metadata": {},
   "outputs": [
    {
     "data": {
      "text/html": [
       "<div>\n",
       "<style scoped>\n",
       "    .dataframe tbody tr th:only-of-type {\n",
       "        vertical-align: middle;\n",
       "    }\n",
       "\n",
       "    .dataframe tbody tr th {\n",
       "        vertical-align: top;\n",
       "    }\n",
       "\n",
       "    .dataframe thead th {\n",
       "        text-align: right;\n",
       "    }\n",
       "</style>\n",
       "<table border=\"1\" class=\"dataframe\">\n",
       "  <thead>\n",
       "    <tr style=\"text-align: right;\">\n",
       "      <th></th>\n",
       "      <th>سال تولید</th>\n",
       "      <th>کارکرد</th>\n",
       "      <th>قیمت</th>\n",
       "      <th>مدل_تیپ 2</th>\n",
       "      <th>مدل_تیپ 3 پانوراما</th>\n",
       "      <th>مدل_تیپ 5</th>\n",
       "      <th>گیربکس_دنده ای</th>\n",
       "      <th>رنگ_آبی</th>\n",
       "      <th>رنگ_خاکستری</th>\n",
       "      <th>رنگ_سفید</th>\n",
       "      <th>رنگ_مشکی</th>\n",
       "    </tr>\n",
       "  </thead>\n",
       "  <tbody>\n",
       "    <tr>\n",
       "      <th>0</th>\n",
       "      <td>1401</td>\n",
       "      <td>0</td>\n",
       "      <td>483000000</td>\n",
       "      <td>1</td>\n",
       "      <td>0</td>\n",
       "      <td>0</td>\n",
       "      <td>1</td>\n",
       "      <td>0</td>\n",
       "      <td>0</td>\n",
       "      <td>1</td>\n",
       "      <td>0</td>\n",
       "    </tr>\n",
       "    <tr>\n",
       "      <th>1</th>\n",
       "      <td>1391</td>\n",
       "      <td>108000</td>\n",
       "      <td>260000000</td>\n",
       "      <td>1</td>\n",
       "      <td>0</td>\n",
       "      <td>0</td>\n",
       "      <td>1</td>\n",
       "      <td>0</td>\n",
       "      <td>0</td>\n",
       "      <td>1</td>\n",
       "      <td>0</td>\n",
       "    </tr>\n",
       "    <tr>\n",
       "      <th>2</th>\n",
       "      <td>1393</td>\n",
       "      <td>133100</td>\n",
       "      <td>345000000</td>\n",
       "      <td>0</td>\n",
       "      <td>0</td>\n",
       "      <td>1</td>\n",
       "      <td>1</td>\n",
       "      <td>0</td>\n",
       "      <td>0</td>\n",
       "      <td>1</td>\n",
       "      <td>0</td>\n",
       "    </tr>\n",
       "    <tr>\n",
       "      <th>3</th>\n",
       "      <td>1398</td>\n",
       "      <td>38000</td>\n",
       "      <td>465000000</td>\n",
       "      <td>0</td>\n",
       "      <td>0</td>\n",
       "      <td>1</td>\n",
       "      <td>1</td>\n",
       "      <td>0</td>\n",
       "      <td>1</td>\n",
       "      <td>0</td>\n",
       "      <td>0</td>\n",
       "    </tr>\n",
       "    <tr>\n",
       "      <th>4</th>\n",
       "      <td>1396</td>\n",
       "      <td>210000</td>\n",
       "      <td>339500000</td>\n",
       "      <td>1</td>\n",
       "      <td>0</td>\n",
       "      <td>0</td>\n",
       "      <td>1</td>\n",
       "      <td>0</td>\n",
       "      <td>0</td>\n",
       "      <td>1</td>\n",
       "      <td>0</td>\n",
       "    </tr>\n",
       "    <tr>\n",
       "      <th>...</th>\n",
       "      <td>...</td>\n",
       "      <td>...</td>\n",
       "      <td>...</td>\n",
       "      <td>...</td>\n",
       "      <td>...</td>\n",
       "      <td>...</td>\n",
       "      <td>...</td>\n",
       "      <td>...</td>\n",
       "      <td>...</td>\n",
       "      <td>...</td>\n",
       "      <td>...</td>\n",
       "    </tr>\n",
       "    <tr>\n",
       "      <th>494</th>\n",
       "      <td>1399</td>\n",
       "      <td>70000</td>\n",
       "      <td>420000000</td>\n",
       "      <td>1</td>\n",
       "      <td>0</td>\n",
       "      <td>0</td>\n",
       "      <td>1</td>\n",
       "      <td>0</td>\n",
       "      <td>0</td>\n",
       "      <td>1</td>\n",
       "      <td>0</td>\n",
       "    </tr>\n",
       "    <tr>\n",
       "      <th>495</th>\n",
       "      <td>1394</td>\n",
       "      <td>93000</td>\n",
       "      <td>355000000</td>\n",
       "      <td>0</td>\n",
       "      <td>0</td>\n",
       "      <td>1</td>\n",
       "      <td>1</td>\n",
       "      <td>1</td>\n",
       "      <td>0</td>\n",
       "      <td>0</td>\n",
       "      <td>0</td>\n",
       "    </tr>\n",
       "    <tr>\n",
       "      <th>497</th>\n",
       "      <td>1399</td>\n",
       "      <td>0</td>\n",
       "      <td>435000000</td>\n",
       "      <td>1</td>\n",
       "      <td>0</td>\n",
       "      <td>0</td>\n",
       "      <td>1</td>\n",
       "      <td>0</td>\n",
       "      <td>0</td>\n",
       "      <td>1</td>\n",
       "      <td>0</td>\n",
       "    </tr>\n",
       "    <tr>\n",
       "      <th>498</th>\n",
       "      <td>1397</td>\n",
       "      <td>72000</td>\n",
       "      <td>430000000</td>\n",
       "      <td>0</td>\n",
       "      <td>0</td>\n",
       "      <td>1</td>\n",
       "      <td>1</td>\n",
       "      <td>0</td>\n",
       "      <td>1</td>\n",
       "      <td>0</td>\n",
       "      <td>0</td>\n",
       "    </tr>\n",
       "    <tr>\n",
       "      <th>499</th>\n",
       "      <td>1400</td>\n",
       "      <td>7000</td>\n",
       "      <td>425000000</td>\n",
       "      <td>1</td>\n",
       "      <td>0</td>\n",
       "      <td>0</td>\n",
       "      <td>1</td>\n",
       "      <td>0</td>\n",
       "      <td>0</td>\n",
       "      <td>0</td>\n",
       "      <td>1</td>\n",
       "    </tr>\n",
       "  </tbody>\n",
       "</table>\n",
       "<p>462 rows × 11 columns</p>\n",
       "</div>"
      ],
      "text/plain": [
       "     سال تولید  کارکرد       قیمت  مدل_تیپ 2  مدل_تیپ 3 پانوراما  مدل_تیپ 5  \\\n",
       "0         1401       0  483000000          1                   0          0   \n",
       "1         1391  108000  260000000          1                   0          0   \n",
       "2         1393  133100  345000000          0                   0          1   \n",
       "3         1398   38000  465000000          0                   0          1   \n",
       "4         1396  210000  339500000          1                   0          0   \n",
       "..         ...     ...        ...        ...                 ...        ...   \n",
       "494       1399   70000  420000000          1                   0          0   \n",
       "495       1394   93000  355000000          0                   0          1   \n",
       "497       1399       0  435000000          1                   0          0   \n",
       "498       1397   72000  430000000          0                   0          1   \n",
       "499       1400    7000  425000000          1                   0          0   \n",
       "\n",
       "     گیربکس_دنده ای  رنگ_آبی  رنگ_خاکستری  رنگ_سفید  رنگ_مشکی  \n",
       "0                 1        0            0         1         0  \n",
       "1                 1        0            0         1         0  \n",
       "2                 1        0            0         1         0  \n",
       "3                 1        0            1         0         0  \n",
       "4                 1        0            0         1         0  \n",
       "..              ...      ...          ...       ...       ...  \n",
       "494               1        0            0         1         0  \n",
       "495               1        1            0         0         0  \n",
       "497               1        0            0         1         0  \n",
       "498               1        0            1         0         0  \n",
       "499               1        0            0         0         1  \n",
       "\n",
       "[462 rows x 11 columns]"
      ]
     },
     "execution_count": 18,
     "metadata": {},
     "output_type": "execute_result"
    }
   ],
   "source": [
    "p206"
   ]
  },
  {
   "cell_type": "markdown",
   "id": "423e1fcf",
   "metadata": {},
   "source": [
    "## Remove the label"
   ]
  },
  {
   "cell_type": "code",
   "execution_count": 19,
   "id": "c8d5d817",
   "metadata": {},
   "outputs": [],
   "source": [
    "labels = p206['قیمت']\n",
    "p206.drop(['قیمت'], axis=1, inplace=True)"
   ]
  },
  {
   "cell_type": "markdown",
   "id": "6885eb92",
   "metadata": {},
   "source": [
    "## Separating data into train and test sections"
   ]
  },
  {
   "cell_type": "code",
   "execution_count": 20,
   "id": "60d16605",
   "metadata": {},
   "outputs": [],
   "source": [
    "from sklearn.model_selection import train_test_split\n",
    "\n",
    "x_train, x_test, y_train, y_test = train_test_split(p206, labels, test_size=0.1, shuffle=True)"
   ]
  },
  {
   "cell_type": "markdown",
   "id": "1021b17a",
   "metadata": {},
   "source": [
    "## Model making"
   ]
  },
  {
   "cell_type": "code",
   "execution_count": 21,
   "id": "49717fd0",
   "metadata": {},
   "outputs": [
    {
     "name": "stdout",
     "output_type": "stream",
     "text": [
      "8,607,854 MT\n"
     ]
    }
   ],
   "source": [
    "from sklearn.linear_model import LinearRegression\n",
    "from sklearn.metrics import mean_absolute_error\n",
    "\n",
    "p206_model = LinearRegression()\n",
    "p206_model.fit(x_train, y_train)\n",
    "prediction = p206_model.predict(x_test)\n",
    "\n",
    "error = int(mean_absolute_error(y_test, prediction))\n",
    "print(f'{error:,} MT')"
   ]
  },
  {
   "cell_type": "markdown",
   "id": "91676143",
   "metadata": {},
   "source": [
    "## Save the model"
   ]
  },
  {
   "cell_type": "code",
   "execution_count": 22,
   "id": "2c2f98f7",
   "metadata": {},
   "outputs": [],
   "source": [
    "import pickle\n",
    "pickle.dump(p206_model, open('p206_model.sav', 'wb'))"
   ]
  }
 ],
 "metadata": {
  "kernelspec": {
   "display_name": "Python 3 (ipykernel)",
   "language": "python",
   "name": "python3"
  },
  "language_info": {
   "codemirror_mode": {
    "name": "ipython",
    "version": 3
   },
   "file_extension": ".py",
   "mimetype": "text/x-python",
   "name": "python",
   "nbconvert_exporter": "python",
   "pygments_lexer": "ipython3",
   "version": "3.8.5"
  }
 },
 "nbformat": 4,
 "nbformat_minor": 5
}
